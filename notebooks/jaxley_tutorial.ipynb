{
 "cells": [
  {
   "cell_type": "markdown",
   "id": "39f39768",
   "metadata": {
    "id": "2e12b724"
   },
   "source": [
    "# Building single-cell and network models in Jaxley"
   ]
  },
  {
   "cell_type": "markdown",
   "id": "e789830a",
   "metadata": {
    "id": "fc9674bb"
   },
   "source": [
    "In this first section of the tutorial, you will learn the basics of Jaxley and how to build single-cell and network models. We will cover:\n",
    "- How to construct biophysical models with the `Jaxley` simulator  \n",
    "- How to connect neurons to form a network  "
   ]
  },
  {
   "cell_type": "markdown",
   "id": "bff13b4f",
   "metadata": {
    "id": "53dda64b"
   },
   "source": [
    "Some typical imports for using `Jaxley` are as follows. We will use these functions for the first section of our tutorial."
   ]
  },
  {
   "cell_type": "code",
   "execution_count": 1,
   "id": "b87b1e8a",
   "metadata": {
    "colab": {
     "base_uri": "https://localhost:8080/"
    },
    "id": "j1wOyHY5_kuw",
    "outputId": "a2c68992-46d9-44bf-f255-ec1dc2e08dd2"
   },
   "outputs": [
    {
     "name": "stdout",
     "output_type": "stream",
     "text": [
      "/bin/bash: /home/kyra/miniconda3/envs/retina/lib/libtinfo.so.6: no version information available (required by /bin/bash)\n",
      "Requirement already satisfied: jaxley in /home/kyra/miniconda3/envs/retina/lib/python3.10/site-packages (0.9.0)\n",
      "Requirement already satisfied: jax in /home/kyra/miniconda3/envs/retina/lib/python3.10/site-packages (from jaxley) (0.5.3)\n",
      "Requirement already satisfied: matplotlib in /home/kyra/miniconda3/envs/retina/lib/python3.10/site-packages (from jaxley) (3.10.3)\n",
      "Requirement already satisfied: numpy in /home/kyra/miniconda3/envs/retina/lib/python3.10/site-packages (from jaxley) (2.1.3)\n",
      "Requirement already satisfied: pandas>=2.2.0 in /home/kyra/miniconda3/envs/retina/lib/python3.10/site-packages (from jaxley) (2.2.3)\n",
      "Requirement already satisfied: tridiax in /home/kyra/Documents/Jaxley/tridiax (from jaxley) (0.0.0)\n",
      "Requirement already satisfied: networkx in /home/kyra/miniconda3/envs/retina/lib/python3.10/site-packages (from jaxley) (3.4.2)\n",
      "Requirement already satisfied: python-dateutil>=2.8.2 in /home/kyra/miniconda3/envs/retina/lib/python3.10/site-packages (from pandas>=2.2.0->jaxley) (2.9.0.post0)\n",
      "Requirement already satisfied: pytz>=2020.1 in /home/kyra/miniconda3/envs/retina/lib/python3.10/site-packages (from pandas>=2.2.0->jaxley) (2024.2)\n",
      "Requirement already satisfied: tzdata>=2022.7 in /home/kyra/miniconda3/envs/retina/lib/python3.10/site-packages (from pandas>=2.2.0->jaxley) (2024.1)\n",
      "Requirement already satisfied: six>=1.5 in /home/kyra/miniconda3/envs/retina/lib/python3.10/site-packages (from python-dateutil>=2.8.2->pandas>=2.2.0->jaxley) (1.16.0)\n",
      "Requirement already satisfied: jaxlib<=0.5.3,>=0.5.3 in /home/kyra/miniconda3/envs/retina/lib/python3.10/site-packages (from jax->jaxley) (0.5.3)\n",
      "Requirement already satisfied: ml_dtypes>=0.4.0 in /home/kyra/miniconda3/envs/retina/lib/python3.10/site-packages (from jax->jaxley) (0.5.1)\n",
      "Requirement already satisfied: opt_einsum in /home/kyra/miniconda3/envs/retina/lib/python3.10/site-packages (from jax->jaxley) (3.3.0)\n",
      "Requirement already satisfied: scipy>=1.11.1 in /home/kyra/miniconda3/envs/retina/lib/python3.10/site-packages (from jax->jaxley) (1.15.3)\n",
      "Requirement already satisfied: contourpy>=1.0.1 in /home/kyra/miniconda3/envs/retina/lib/python3.10/site-packages (from matplotlib->jaxley) (1.0.5)\n",
      "Requirement already satisfied: cycler>=0.10 in /home/kyra/miniconda3/envs/retina/lib/python3.10/site-packages (from matplotlib->jaxley) (0.11.0)\n",
      "Requirement already satisfied: fonttools>=4.22.0 in /home/kyra/miniconda3/envs/retina/lib/python3.10/site-packages (from matplotlib->jaxley) (4.37.4)\n",
      "Requirement already satisfied: kiwisolver>=1.3.1 in /home/kyra/miniconda3/envs/retina/lib/python3.10/site-packages (from matplotlib->jaxley) (1.4.4)\n",
      "Requirement already satisfied: packaging>=20.0 in /home/kyra/miniconda3/envs/retina/lib/python3.10/site-packages (from matplotlib->jaxley) (24.2)\n",
      "Requirement already satisfied: pillow>=8 in /home/kyra/miniconda3/envs/retina/lib/python3.10/site-packages (from matplotlib->jaxley) (9.2.0)\n",
      "Requirement already satisfied: pyparsing>=2.3.1 in /home/kyra/miniconda3/envs/retina/lib/python3.10/site-packages (from matplotlib->jaxley) (3.0.9)\n",
      "Requirement already satisfied: pytest in /home/kyra/miniconda3/envs/retina/lib/python3.10/site-packages (from tridiax->jaxley) (7.4.3)\n",
      "Requirement already satisfied: black in /home/kyra/miniconda3/envs/retina/lib/python3.10/site-packages (from tridiax->jaxley) (25.1.0)\n",
      "Requirement already satisfied: click>=8.0.0 in /home/kyra/miniconda3/envs/retina/lib/python3.10/site-packages (from black->tridiax->jaxley) (8.1.3)\n",
      "Requirement already satisfied: mypy-extensions>=0.4.3 in /home/kyra/miniconda3/envs/retina/lib/python3.10/site-packages (from black->tridiax->jaxley) (1.0.0)\n",
      "Requirement already satisfied: pathspec>=0.9.0 in /home/kyra/miniconda3/envs/retina/lib/python3.10/site-packages (from black->tridiax->jaxley) (0.11.0)\n",
      "Requirement already satisfied: platformdirs>=2 in /home/kyra/miniconda3/envs/retina/lib/python3.10/site-packages (from black->tridiax->jaxley) (3.0.0)\n",
      "Requirement already satisfied: tomli>=1.1.0 in /home/kyra/miniconda3/envs/retina/lib/python3.10/site-packages (from black->tridiax->jaxley) (2.0.1)\n",
      "Requirement already satisfied: typing-extensions>=4.0.1 in /home/kyra/miniconda3/envs/retina/lib/python3.10/site-packages (from black->tridiax->jaxley) (4.11.0)\n",
      "Requirement already satisfied: iniconfig in /home/kyra/miniconda3/envs/retina/lib/python3.10/site-packages (from pytest->tridiax->jaxley) (2.0.0)\n",
      "Requirement already satisfied: pluggy<2.0,>=0.12 in /home/kyra/miniconda3/envs/retina/lib/python3.10/site-packages (from pytest->tridiax->jaxley) (1.3.0)\n",
      "Requirement already satisfied: exceptiongroup>=1.0.0rc8 in /home/kyra/miniconda3/envs/retina/lib/python3.10/site-packages (from pytest->tridiax->jaxley) (1.2.0)\n"
     ]
    }
   ],
   "source": [
    "!pip install jaxley"
   ]
  },
  {
   "cell_type": "code",
   "execution_count": 2,
   "id": "ca1be796",
   "metadata": {
    "id": "i12cMrNICQwU"
   },
   "outputs": [],
   "source": [
    "import io\n",
    "swc_content = \"\"\"\n",
    "1 1   0   0 0 10.0 -1\n",
    "2 3  10   0 0 0.2 1\n",
    "3 3 500   0 0 0.2 2\n",
    "4 3 600 100 0 0.2 3\n",
    "5 3 700 200 0 0.2 4\n",
    "6 3 600 -100 0 0.2 3\n",
    "7 3 700 -200 0 0.2 6\n",
    "\"\"\"\n",
    "swc_file = io.StringIO(swc_content)"
   ]
  },
  {
   "cell_type": "code",
   "execution_count": 3,
   "id": "70ffd4a3",
   "metadata": {
    "id": "6c835a1c"
   },
   "outputs": [],
   "source": [
    "from jax import config\n",
    "config.update(\"jax_enable_x64\", True)\n",
    "config.update(\"jax_platform_name\", \"cpu\")\n",
    "\n",
    "import matplotlib.pyplot as plt\n",
    "import numpy as np\n",
    "\n",
    "import jaxley as jx"
   ]
  },
  {
   "cell_type": "markdown",
   "id": "4d1b4564",
   "metadata": {
    "id": "b34f9e18"
   },
   "source": [
    "## Building single-cell models"
   ]
  },
  {
   "cell_type": "code",
   "execution_count": 4,
   "id": "216cd6c0",
   "metadata": {
    "id": "Klp91hVFCJ_X"
   },
   "outputs": [],
   "source": [
    "cell = jx.read_swc(swc_file, ncomp=1)"
   ]
  },
  {
   "cell_type": "code",
   "execution_count": 5,
   "id": "344372f1",
   "metadata": {
    "colab": {
     "base_uri": "https://localhost:8080/",
     "height": 235
    },
    "id": "5d94d91e",
    "outputId": "51c88b4a-2c29-4ded-a9eb-ed04c471e4d6"
   },
   "outputs": [
    {
     "data": {
      "image/png": "[encoded data removed]",
      "text/plain": [
       "<Figure size 400x400 with 1 Axes>"
      ]
     },
     "metadata": {},
     "output_type": "display_data"
    }
   ],
   "source": [
    "fig, ax = plt.subplots(1, 1, figsize=(4, 4))\n",
    "cell.vis(ax=ax)\n",
    "ax.set_aspect(\"equal\")"
   ]
  },
  {
   "cell_type": "markdown",
   "id": "06a3a66c",
   "metadata": {
    "id": "d34a28f8"
   },
   "source": [
    "Every module tracks information about its current state and parameters in two `pandas` Dataframes called `nodes` and `edges`.\n",
    "`nodes` contains all the information that we associate with compartments in the model (each row corresponds to one compartment) and `edges` tracks all the information relevant to synapses.\n",
    "\n",
    "This means that you can easily keep track of the current state of your `Module` and how it changes at all times."
   ]
  },
  {
   "cell_type": "code",
   "execution_count": 6,
   "id": "084db2a6",
   "metadata": {
    "colab": {
     "base_uri": "https://localhost:8080/",
     "height": 224
    },
    "id": "7fee08a2",
    "outputId": "a28de132-26d0-465c-f0ff-ecae0b24f41d"
   },
   "outputs": [
    {
     "data": {
      "text/html": [
       "<div>\n",
       "<style scoped>\n",
       "    .dataframe tbody tr th:only-of-type {\n",
       "        vertical-align: middle;\n",
       "    }\n",
       "\n",
       "    .dataframe tbody tr th {\n",
       "        vertical-align: top;\n",
       "    }\n",
       "\n",
       "    .dataframe thead th {\n",
       "        text-align: right;\n",
       "    }\n",
       "</style>\n",
       "<table border=\"1\" class=\"dataframe\">\n",
       "  <thead>\n",
       "    <tr style=\"text-align: right;\">\n",
       "      <th></th>\n",
       "      <th>local_cell_index</th>\n",
       "      <th>local_branch_index</th>\n",
       "      <th>local_comp_index</th>\n",
       "      <th>length</th>\n",
       "      <th>radius</th>\n",
       "      <th>axial_resistivity</th>\n",
       "      <th>capacitance</th>\n",
       "      <th>v</th>\n",
       "      <th>x</th>\n",
       "      <th>y</th>\n",
       "      <th>z</th>\n",
       "      <th>global_cell_index</th>\n",
       "      <th>global_branch_index</th>\n",
       "      <th>global_comp_index</th>\n",
       "      <th>controlled_by_param</th>\n",
       "      <th>basal</th>\n",
       "      <th>soma</th>\n",
       "    </tr>\n",
       "  </thead>\n",
       "  <tbody>\n",
       "    <tr>\n",
       "      <th>0</th>\n",
       "      <td>0</td>\n",
       "      <td>0</td>\n",
       "      <td>0</td>\n",
       "      <td>20.000000</td>\n",
       "      <td>10.0</td>\n",
       "      <td>5000.0</td>\n",
       "      <td>1.0</td>\n",
       "      <td>-70.0</td>\n",
       "      <td>0.0</td>\n",
       "      <td>0.0</td>\n",
       "      <td>0.0</td>\n",
       "      <td>0</td>\n",
       "      <td>0</td>\n",
       "      <td>0</td>\n",
       "      <td>0</td>\n",
       "      <td>False</td>\n",
       "      <td>True</td>\n",
       "    </tr>\n",
       "    <tr>\n",
       "      <th>1</th>\n",
       "      <td>0</td>\n",
       "      <td>1</td>\n",
       "      <td>0</td>\n",
       "      <td>490.000000</td>\n",
       "      <td>0.2</td>\n",
       "      <td>5000.0</td>\n",
       "      <td>1.0</td>\n",
       "      <td>-70.0</td>\n",
       "      <td>255.0</td>\n",
       "      <td>0.0</td>\n",
       "      <td>0.0</td>\n",
       "      <td>0</td>\n",
       "      <td>1</td>\n",
       "      <td>1</td>\n",
       "      <td>0</td>\n",
       "      <td>True</td>\n",
       "      <td>False</td>\n",
       "    </tr>\n",
       "    <tr>\n",
       "      <th>2</th>\n",
       "      <td>0</td>\n",
       "      <td>2</td>\n",
       "      <td>0</td>\n",
       "      <td>282.842712</td>\n",
       "      <td>0.2</td>\n",
       "      <td>5000.0</td>\n",
       "      <td>1.0</td>\n",
       "      <td>-70.0</td>\n",
       "      <td>600.0</td>\n",
       "      <td>100.0</td>\n",
       "      <td>0.0</td>\n",
       "      <td>0</td>\n",
       "      <td>2</td>\n",
       "      <td>2</td>\n",
       "      <td>0</td>\n",
       "      <td>True</td>\n",
       "      <td>False</td>\n",
       "    </tr>\n",
       "    <tr>\n",
       "      <th>3</th>\n",
       "      <td>0</td>\n",
       "      <td>3</td>\n",
       "      <td>0</td>\n",
       "      <td>282.842712</td>\n",
       "      <td>0.2</td>\n",
       "      <td>5000.0</td>\n",
       "      <td>1.0</td>\n",
       "      <td>-70.0</td>\n",
       "      <td>600.0</td>\n",
       "      <td>-100.0</td>\n",
       "      <td>0.0</td>\n",
       "      <td>0</td>\n",
       "      <td>3</td>\n",
       "      <td>3</td>\n",
       "      <td>0</td>\n",
       "      <td>True</td>\n",
       "      <td>False</td>\n",
       "    </tr>\n",
       "  </tbody>\n",
       "</table>\n",
       "</div>"
      ],
      "text/plain": [
       "   local_cell_index  local_branch_index  local_comp_index      length  radius  \\\n",
       "0                 0                   0                 0   20.000000    10.0   \n",
       "1                 0                   1                 0  490.000000     0.2   \n",
       "2                 0                   2                 0  282.842712     0.2   \n",
       "3                 0                   3                 0  282.842712     0.2   \n",
       "\n",
       "   axial_resistivity  capacitance     v      x      y    z  global_cell_index  \\\n",
       "0             5000.0          1.0 -70.0    0.0    0.0  0.0                  0   \n",
       "1             5000.0          1.0 -70.0  255.0    0.0  0.0                  0   \n",
       "2             5000.0          1.0 -70.0  600.0  100.0  0.0                  0   \n",
       "3             5000.0          1.0 -70.0  600.0 -100.0  0.0                  0   \n",
       "\n",
       "   global_branch_index  global_comp_index  controlled_by_param  basal   soma  \n",
       "0                    0                  0                    0  False   True  \n",
       "1                    1                  1                    0   True  False  \n",
       "2                    2                  2                    0   True  False  \n",
       "3                    3                  3                    0   True  False  "
      ]
     },
     "execution_count": 6,
     "metadata": {},
     "output_type": "execute_result"
    }
   ],
   "source": [
    "cell.nodes"
   ]
  },
  {
   "cell_type": "markdown",
   "id": "5cbc838a",
   "metadata": {
    "id": "e7c84507"
   },
   "source": [
    "The units of each of these values can be found [here](https://jaxley.readthedocs.io/en/latest/faq/question_01.html)."
   ]
  },
  {
   "cell_type": "markdown",
   "id": "abbc5074",
   "metadata": {
    "id": "2a50c2c3"
   },
   "source": [
    "### Views"
   ]
  },
  {
   "cell_type": "markdown",
   "id": "4cbe26a9",
   "metadata": {
    "id": "03eb6a59"
   },
   "source": [
    "Since Modules (such as a `Cell`) can become very complex, Jaxley utilizes so called `View`s to make working with them easy and intuitive.\n",
    "\n",
    "The simplest way to navigate Modules is as follows:"
   ]
  },
  {
   "cell_type": "code",
   "execution_count": 7,
   "id": "b86ad028",
   "metadata": {
    "id": "dd11b079",
    "outputId": "a7cd3885-8aa2-4ce5-8e41-6ad7a092c8d6"
   },
   "outputs": [
    {
     "data": {
      "text/plain": [
       "View with 0 different channels. Use `.nodes` for details."
      ]
     },
     "execution_count": 7,
     "metadata": {},
     "output_type": "execute_result"
    }
   ],
   "source": [
    "cell.branch(0)"
   ]
  },
  {
   "cell_type": "markdown",
   "id": "fa8d6e01",
   "metadata": {
    "id": "34786e5a"
   },
   "source": [
    "Views behave very similarly to `Module`s, i.e. `cell.branch(0)` (the 0th branch of the cell) behaves like the `cell` we instantiated earlier. As such, `cell.branch(0)` also has a `nodes` attribute, which keeps track of its part of the cell:"
   ]
  },
  {
   "cell_type": "code",
   "execution_count": 8,
   "id": "89d1bb03",
   "metadata": {
    "id": "28ea0371",
    "outputId": "378c735f-2ac8-4764-ba0c-b92bd1d70f09"
   },
   "outputs": [
    {
     "data": {
      "text/html": [
       "<div>\n",
       "<style scoped>\n",
       "    .dataframe tbody tr th:only-of-type {\n",
       "        vertical-align: middle;\n",
       "    }\n",
       "\n",
       "    .dataframe tbody tr th {\n",
       "        vertical-align: top;\n",
       "    }\n",
       "\n",
       "    .dataframe thead th {\n",
       "        text-align: right;\n",
       "    }\n",
       "</style>\n",
       "<table border=\"1\" class=\"dataframe\">\n",
       "  <thead>\n",
       "    <tr style=\"text-align: right;\">\n",
       "      <th></th>\n",
       "      <th>local_cell_index</th>\n",
       "      <th>local_branch_index</th>\n",
       "      <th>local_comp_index</th>\n",
       "      <th>length</th>\n",
       "      <th>radius</th>\n",
       "      <th>axial_resistivity</th>\n",
       "      <th>capacitance</th>\n",
       "      <th>v</th>\n",
       "      <th>x</th>\n",
       "      <th>y</th>\n",
       "      <th>z</th>\n",
       "      <th>basal</th>\n",
       "      <th>soma</th>\n",
       "      <th>global_cell_index</th>\n",
       "      <th>global_branch_index</th>\n",
       "      <th>global_comp_index</th>\n",
       "      <th>controlled_by_param</th>\n",
       "    </tr>\n",
       "  </thead>\n",
       "  <tbody>\n",
       "    <tr>\n",
       "      <th>0</th>\n",
       "      <td>0</td>\n",
       "      <td>0</td>\n",
       "      <td>0</td>\n",
       "      <td>20.0</td>\n",
       "      <td>10.0</td>\n",
       "      <td>5000.0</td>\n",
       "      <td>1.0</td>\n",
       "      <td>-70.0</td>\n",
       "      <td>0.0</td>\n",
       "      <td>0.0</td>\n",
       "      <td>0.0</td>\n",
       "      <td>False</td>\n",
       "      <td>True</td>\n",
       "      <td>0</td>\n",
       "      <td>0</td>\n",
       "      <td>0</td>\n",
       "      <td>0</td>\n",
       "    </tr>\n",
       "  </tbody>\n",
       "</table>\n",
       "</div>"
      ],
      "text/plain": [
       "   local_cell_index  local_branch_index  local_comp_index  length  radius  \\\n",
       "0                 0                   0                 0    20.0    10.0   \n",
       "\n",
       "   axial_resistivity  capacitance     v    x    y    z  basal  soma  \\\n",
       "0             5000.0          1.0 -70.0  0.0  0.0  0.0  False  True   \n",
       "\n",
       "   global_cell_index  global_branch_index  global_comp_index  \\\n",
       "0                  0                    0                  0   \n",
       "\n",
       "   controlled_by_param  \n",
       "0                    0  "
      ]
     },
     "execution_count": 8,
     "metadata": {},
     "output_type": "execute_result"
    }
   ],
   "source": [
    "cell.branch(0).nodes"
   ]
  },
  {
   "cell_type": "markdown",
   "id": "f09312c5",
   "metadata": {
    "id": "da973585"
   },
   "source": [
    "Similarly, you can also access the soma or basal dendrite:"
   ]
  },
  {
   "cell_type": "code",
   "execution_count": 9,
   "id": "2cc41e86",
   "metadata": {
    "id": "e52b2680",
    "outputId": "02f8f97e-bc41-47c3-c363-82ba84db68b5"
   },
   "outputs": [
    {
     "data": {
      "text/plain": [
       "View with 0 different channels. Use `.nodes` for details."
      ]
     },
     "execution_count": 9,
     "metadata": {},
     "output_type": "execute_result"
    }
   ],
   "source": [
    "cell.soma"
   ]
  },
  {
   "cell_type": "code",
   "execution_count": 10,
   "id": "7d5ebc2e",
   "metadata": {
    "id": "108a35d5",
    "outputId": "d9c63e86-b5af-4839-becc-ff7394ad5801"
   },
   "outputs": [
    {
     "data": {
      "text/plain": [
       "View with 0 different channels. Use `.nodes` for details."
      ]
     },
     "execution_count": 10,
     "metadata": {},
     "output_type": "execute_result"
    }
   ],
   "source": [
    "cell.basal"
   ]
  },
  {
   "cell_type": "markdown",
   "id": "3d941f69",
   "metadata": {
    "id": "19f7182d"
   },
   "source": [
    "You can use `View` to visualize only parts of the cell, or different parts in different colors:"
   ]
  },
  {
   "cell_type": "code",
   "execution_count": 11,
   "id": "318fbc4c",
   "metadata": {
    "id": "7300b93f",
    "outputId": "2f3ef9b2-22a6-4363-bf6c-948096baa24c"
   },
   "outputs": [
    {
     "data": {
      "image/png": "[encoded data removed]",
      "text/plain": [
       "<Figure size 400x400 with 1 Axes>"
      ]
     },
     "metadata": {},
     "output_type": "display_data"
    }
   ],
   "source": [
    "fig, ax = plt.subplots(1, 1, figsize=(4, 4))\n",
    "cell.soma.vis(ax=ax, color=\"r\")\n",
    "cell.basal.vis(ax=ax, color=\"b\")\n",
    "ax.set_aspect(\"equal\")"
   ]
  },
  {
   "cell_type": "markdown",
   "id": "a0709b97",
   "metadata": {
    "id": "1fa979d0"
   },
   "source": [
    "More information on creating views can be found in [this tutorial](https://jaxley.readthedocs.io/en/latest/tutorials/00_jaxley_api.html) on the `Jaxley` documentation website."
   ]
  },
  {
   "cell_type": "markdown",
   "id": "5d34fbac",
   "metadata": {
    "id": "51e6efe0"
   },
   "source": [
    "### Channels"
   ]
  },
  {
   "cell_type": "markdown",
   "id": "ce3a4725",
   "metadata": {
    "id": "2e4ef765"
   },
   "source": [
    "The `Cell`s that we have created above will not do anything interesting, since by default `Jaxley` initializes them without any mechanisms in the membrane. To change this, we have to insert channels into the membrane. For this purpose `Jaxley` implements `Channel`s that can be inserted into any compartment using the `insert` method of a `Module` or a `View`:"
   ]
  },
  {
   "cell_type": "code",
   "execution_count": 12,
   "id": "f08a5464",
   "metadata": {
    "id": "801ecc4e"
   },
   "outputs": [],
   "source": [
    "from jaxley.channels import Na, K, Leak\n",
    "\n",
    "cell.insert(Leak())  # This inserts a `Leak` channel into all compartments of the cell."
   ]
  },
  {
   "cell_type": "markdown",
   "id": "5955470b",
   "metadata": {
    "id": "82f3356c"
   },
   "source": [
    "This is also were `View`s come in handy, as it allows to easily target the insertion of channels to specific compartments:"
   ]
  },
  {
   "cell_type": "code",
   "execution_count": 13,
   "id": "a93acaba",
   "metadata": {
    "id": "10e0b8b9",
    "outputId": "21be264a-c8ec-4065-9345-1ce891ff1ddf"
   },
   "outputs": [
    {
     "data": {
      "text/html": [
       "<div>\n",
       "<style scoped>\n",
       "    .dataframe tbody tr th:only-of-type {\n",
       "        vertical-align: middle;\n",
       "    }\n",
       "\n",
       "    .dataframe tbody tr th {\n",
       "        vertical-align: top;\n",
       "    }\n",
       "\n",
       "    .dataframe thead th {\n",
       "        text-align: right;\n",
       "    }\n",
       "</style>\n",
       "<table border=\"1\" class=\"dataframe\">\n",
       "  <thead>\n",
       "    <tr style=\"text-align: right;\">\n",
       "      <th></th>\n",
       "      <th>global_cell_index</th>\n",
       "      <th>Na</th>\n",
       "      <th>K</th>\n",
       "      <th>Leak</th>\n",
       "    </tr>\n",
       "  </thead>\n",
       "  <tbody>\n",
       "    <tr>\n",
       "      <th>0</th>\n",
       "      <td>0</td>\n",
       "      <td>True</td>\n",
       "      <td>True</td>\n",
       "      <td>True</td>\n",
       "    </tr>\n",
       "    <tr>\n",
       "      <th>1</th>\n",
       "      <td>0</td>\n",
       "      <td>False</td>\n",
       "      <td>False</td>\n",
       "      <td>True</td>\n",
       "    </tr>\n",
       "    <tr>\n",
       "      <th>2</th>\n",
       "      <td>0</td>\n",
       "      <td>False</td>\n",
       "      <td>False</td>\n",
       "      <td>True</td>\n",
       "    </tr>\n",
       "    <tr>\n",
       "      <th>3</th>\n",
       "      <td>0</td>\n",
       "      <td>False</td>\n",
       "      <td>False</td>\n",
       "      <td>True</td>\n",
       "    </tr>\n",
       "  </tbody>\n",
       "</table>\n",
       "</div>"
      ],
      "text/plain": [
       "   global_cell_index     Na      K  Leak\n",
       "0                  0   True   True  True\n",
       "1                  0  False  False  True\n",
       "2                  0  False  False  True\n",
       "3                  0  False  False  True"
      ]
     },
     "execution_count": 13,
     "metadata": {},
     "output_type": "execute_result"
    }
   ],
   "source": [
    "cell.branch(0).insert(Na())\n",
    "cell.branch(0).insert(K())\n",
    "\n",
    "# K and Na channels were only insert into cell 0\n",
    "cell.nodes[[\"global_cell_index\", \"Na\", \"K\", \"Leak\"]]"
   ]
  },
  {
   "cell_type": "markdown",
   "id": "bc361063",
   "metadata": {
    "id": "f9726edf"
   },
   "source": [
    "You can also implement your own channels. This is explained [here](https://jaxley.readthedocs.io/en/latest/tutorials/05_channel_and_synapse_models.html). In addition, the DendroTweaks toolkit implements functionality to convert `NMODL` channels (which are used by the NEURON simulator) to `Jaxley` channels. The tool is available [here](https://dendrotweaks.readthedocs.io/en/latest/tutorials/convert_to_jaxley.html)."
   ]
  },
  {
   "cell_type": "markdown",
   "id": "2c5b1f63",
   "metadata": {
    "id": "4f638c07"
   },
   "source": [
    "### Changing parameters"
   ]
  },
  {
   "cell_type": "markdown",
   "id": "fd75ef18",
   "metadata": {
    "id": "5897c4f8"
   },
   "source": [
    "You can change parameters of your `Cell` with the `.set()` method:"
   ]
  },
  {
   "cell_type": "code",
   "execution_count": 14,
   "id": "dd46ba7c",
   "metadata": {
    "id": "cfbef75c"
   },
   "outputs": [],
   "source": [
    "cell.set(\"axial_resistivity\", 100.0)\n",
    "cell.set(\"Na_gNa\", 0.08)"
   ]
  },
  {
   "cell_type": "markdown",
   "id": "bdbc5ab6",
   "metadata": {
    "id": "e00c2dee"
   },
   "source": [
    "> Feel free to inspect `cell.nodes` to check whether the `.set()` was successful."
   ]
  },
  {
   "cell_type": "markdown",
   "id": "3843f3f1",
   "metadata": {
    "id": "93fe8b45"
   },
   "source": [
    "> Feel free to modify other parameters. Have a look at `cell.nodes` for all things that can be changed. For example, you can modify the `capacitance`."
   ]
  },
  {
   "cell_type": "markdown",
   "id": "4b0acef5",
   "metadata": {
    "id": "3dc6c180"
   },
   "source": [
    "### Stimulating, recording, and simulating the cell"
   ]
  },
  {
   "cell_type": "markdown",
   "id": "388d5327",
   "metadata": {
    "id": "10931880"
   },
   "source": [
    "We will now set up a simulation of the network."
   ]
  },
  {
   "cell_type": "code",
   "execution_count": 15,
   "id": "68c1220f",
   "metadata": {
    "id": "d85e8c27"
   },
   "outputs": [],
   "source": [
    "# Stimulus.\n",
    "i_delay = 3.0  # ms\n",
    "i_amp = 1.0  # nA\n",
    "i_dur = 2.0  # ms\n",
    "\n",
    "# Duration and step size.\n",
    "dt = 0.025  # ms\n",
    "t_max = 50.0  # ms\n",
    "\n",
    "time_vec = np.arange(0.0, t_max + dt, dt)"
   ]
  },
  {
   "cell_type": "markdown",
   "id": "4ef545d3",
   "metadata": {
    "id": "f490860e"
   },
   "source": [
    "We stimulate the neuron in a branch of its basal dendrite and record the voltage from the soma:"
   ]
  },
  {
   "cell_type": "code",
   "execution_count": 16,
   "id": "e1dae9a8",
   "metadata": {
    "id": "5a5022e8",
    "outputId": "7b05e175-eb69-4094-b127-15d57ecd4226"
   },
   "outputs": [
    {
     "name": "stdout",
     "output_type": "stream",
     "text": [
      "Added 1 external_states. See `.externals` for details.\n",
      "Added 1 recordings. See `.recordings` for details.\n"
     ]
    }
   ],
   "source": [
    "current = jx.step_current(i_delay, i_dur, i_amp, dt, t_max)\n",
    "\n",
    "cell.delete_stimuli()\n",
    "cell.basal.branch(0).loc(0.0).stimulate(current)\n",
    "\n",
    "cell.delete_recordings()\n",
    "cell.soma.branch(0).loc(0.0).record()"
   ]
  },
  {
   "cell_type": "markdown",
   "id": "c6b443d9",
   "metadata": {
    "id": "20607990"
   },
   "source": [
    "Finally, we can run the simulation and plot the result:"
   ]
  },
  {
   "cell_type": "code",
   "execution_count": 17,
   "id": "439cfc72",
   "metadata": {
    "id": "b0a7e59f"
   },
   "outputs": [],
   "source": [
    "voltages = jx.integrate(cell, delta_t=dt)"
   ]
  },
  {
   "cell_type": "code",
   "execution_count": 18,
   "id": "1118b746",
   "metadata": {
    "id": "05b643f0",
    "outputId": "b6143f35-a826-45ac-8a39-efa1b653cb4d"
   },
   "outputs": [
    {
     "data": {
      "image/png": "[encoded data removed]",
      "text/plain": [
       "<Figure size 400x200 with 1 Axes>"
      ]
     },
     "metadata": {},
     "output_type": "display_data"
    }
   ],
   "source": [
    "time_vector = np.arange(0, t_max + 2 * dt, dt)\n",
    "\n",
    "fig, ax = plt.subplots(1, 1, figsize=(4, 2))\n",
    "_ = ax.plot(time_vector, voltages.T)\n",
    "_ = ax.set_xlabel(\"Time (ms)\")\n",
    "_ = ax.set_ylabel(\"Voltage (mV)\")"
   ]
  },
  {
   "cell_type": "markdown",
   "id": "1d96cd83",
   "metadata": {
    "id": "a8bd69aa"
   },
   "source": [
    "### Tasks for participants"
   ]
  },
  {
   "cell_type": "markdown",
   "id": "c3c05444",
   "metadata": {
    "id": "4b268d27"
   },
   "source": [
    "1) Modify the sodium conductance (see above: `cell.set(\"Na_gNa\", 0.08)`) and see how it impacts the simulation result.  \n",
    "2) Increase the stimulus amplitude (see above: `i_amp = 1.0`) and see how it impacts the simulation result.  \n",
    "3) Insert a recording into a branch of the basal dendrite and plot the voltage there.  "
   ]
  },
  {
   "cell_type": "markdown",
   "id": "9466ce17",
   "metadata": {
    "id": "889522e6"
   },
   "source": [
    "## Networks"
   ]
  },
  {
   "cell_type": "markdown",
   "id": "96b8e93c",
   "metadata": {
    "id": "8d462a9a"
   },
   "source": [
    "Several `Cell`s can be grouped together to form a `Network`, which can then be connected together using `Synpase`s."
   ]
  },
  {
   "cell_type": "markdown",
   "id": "83b93718",
   "metadata": {
    "id": "b27850e4"
   },
   "source": [
    "To get started, let us re-define the cell from scratch:"
   ]
  },
  {
   "cell_type": "code",
   "execution_count": 19,
   "id": "07e8374b",
   "metadata": {
    "id": "19a1fec2"
   },
   "outputs": [],
   "source": [
    "swc_file = io.StringIO(swc_content)\n",
    "cell = jx.read_swc(swc_file, ncomp=1)"
   ]
  },
  {
   "cell_type": "markdown",
   "id": "1f09f5f3",
   "metadata": {
    "id": "0f37a76c"
   },
   "source": [
    "We can assemble multiple cells into a network by using `jx.Network`, which takes a list of `jx.Cell`s. Here, we assemble 11 cells into a network:"
   ]
  },
  {
   "cell_type": "code",
   "execution_count": 20,
   "id": "546d16ed",
   "metadata": {
    "id": "07ba26be"
   },
   "outputs": [],
   "source": [
    "num_cells = 11\n",
    "net = jx.Network([cell for _ in range(num_cells)])"
   ]
  },
  {
   "cell_type": "markdown",
   "id": "fa1bc0fe",
   "metadata": {
    "id": "d7ab5b48"
   },
   "source": [
    "At this point, we can already visualize this network:"
   ]
  },
  {
   "cell_type": "code",
   "execution_count": 21,
   "id": "c45da2bf",
   "metadata": {
    "id": "763a6ef4",
    "outputId": "49bceaf3-0159-4d32-e7e2-d8de244ad29a"
   },
   "outputs": [
    {
     "data": {
      "image/png": "[encoded data removed]",
      "text/plain": [
       "<Figure size 300x600 with 1 Axes>"
      ]
     },
     "metadata": {},
     "output_type": "display_data"
    }
   ],
   "source": [
    "net.rotate(180)\n",
    "net.arrange_in_layers(layers=[10, 1], within_layer_offset=500, between_layer_offset=1000)\n",
    "\n",
    "fig, ax = plt.subplots(1, 1, figsize=(3, 6))\n",
    "_ = net.vis(ax=ax, detail=\"full\")\n",
    "_ = ax.set_aspect(\"equal\")"
   ]
  },
  {
   "cell_type": "markdown",
   "id": "5591a584",
   "metadata": {
    "id": "d7c5cd90"
   },
   "source": [
    "...but we can also visualize subsets of the network with `View`s:"
   ]
  },
  {
   "cell_type": "code",
   "execution_count": 22,
   "id": "7fda4cae",
   "metadata": {
    "id": "3f02b05c",
    "outputId": "164c7c3d-cb22-47d1-87be-4453758f026e"
   },
   "outputs": [
    {
     "data": {
      "image/png": "[encoded data removed]",
      "text/plain": [
       "<Figure size 300x300 with 1 Axes>"
      ]
     },
     "metadata": {},
     "output_type": "display_data"
    }
   ],
   "source": [
    "# ... and Views\n",
    "fig, ax = plt.subplots(1,1, figsize=(3,3))\n",
    "net.cell(0).vis(ax=ax, color=\"blue\")  # View of the 0th cell of the network\n",
    "net.cell(1).vis(ax=ax, color=\"red\")  # View of the 1st cell of the network\n",
    "\n",
    "net.cell(0).branch(0).vis(ax=ax, color=\"green\")  # View of the 1st branch of the 0th cell of the network\n",
    "ax.set_aspect(\"equal\")"
   ]
  },
  {
   "cell_type": "markdown",
   "id": "06e1b519",
   "metadata": {
    "id": "f5380689"
   },
   "source": [
    "As you can see, the neurons are not connected yet. Let's fix this by connecting neurons with synapses. We will build a network consisting of two layers: 10 neurons in the input layer and 1 neuron in the output layer.\n",
    "\n",
    "For example, we can use `Jaxley`'s `fully_connect` method to connect these layers:"
   ]
  },
  {
   "cell_type": "code",
   "execution_count": 23,
   "id": "d0ab881c",
   "metadata": {
    "id": "411d04fa"
   },
   "outputs": [],
   "source": [
    "from jaxley.connect import connect, fully_connect\n",
    "from jaxley.synapses import IonotropicSynapse\n",
    "\n",
    "pre = net.cell(range(10))\n",
    "post = net.cell(10)\n",
    "fully_connect(pre, post, IonotropicSynapse())"
   ]
  },
  {
   "cell_type": "markdown",
   "id": "b3725472",
   "metadata": {
    "id": "a0257e70"
   },
   "source": [
    "Let's visualize this again:"
   ]
  },
  {
   "cell_type": "code",
   "execution_count": 24,
   "id": "de735daf",
   "metadata": {
    "id": "f9046ea2",
    "outputId": "f22b8760-25ee-4b29-ba84-7d24ee685212"
   },
   "outputs": [
    {
     "data": {
      "image/png": "[encoded data removed]",
      "text/plain": [
       "<Figure size 300x600 with 1 Axes>"
      ]
     },
     "metadata": {},
     "output_type": "display_data"
    }
   ],
   "source": [
    "fig, ax = plt.subplots(1, 1, figsize=(3, 6))\n",
    "_ = net.vis(ax=ax, detail=\"full\")"
   ]
  },
  {
   "cell_type": "markdown",
   "id": "115d2d75",
   "metadata": {
    "id": "ca9a555f"
   },
   "source": [
    "As you can see, the `fully_connect` method inserted one synapse (in blue) from every neuron in the first layer to the output neuron. The `fully_connect` method builds this synapse from the zero-eth compartment and zero-eth branch of the presynaptic neuron onto the zero-eth compartment and zero-eth branch of the postsynaptic neuron by default. Allowing the post-synaptic compartment to be randomly chosen is also possible by setting `random_post_comp=True` in the `fully_connect` call. If you want more control over the pre- and post-synaptic branches, you can use the `connect` method:"
   ]
  },
  {
   "cell_type": "code",
   "execution_count": 25,
   "id": "f41612ab",
   "metadata": {
    "id": "2d1e312f"
   },
   "outputs": [],
   "source": [
    "pre = net.cell(0).branch(2).loc(1.0)\n",
    "post = net.cell(10).branch(1).loc(0.0)\n",
    "connect(pre, post, IonotropicSynapse())"
   ]
  },
  {
   "cell_type": "code",
   "execution_count": 26,
   "id": "5bf9e03e",
   "metadata": {
    "id": "95e7d3b3",
    "outputId": "90694192-e9e3-40fb-efca-5172a8e7db1d"
   },
   "outputs": [
    {
     "data": {
      "image/png": "[encoded data removed]",
      "text/plain": [
       "<Figure size 300x600 with 1 Axes>"
      ]
     },
     "metadata": {},
     "output_type": "display_data"
    }
   ],
   "source": [
    "fig, ax = plt.subplots(1, 1, figsize=(3, 6))\n",
    "_ = net.vis(ax=ax, detail=\"full\")"
   ]
  },
  {
   "cell_type": "markdown",
   "id": "661c385d",
   "metadata": {
    "id": "ad37714f"
   },
   "source": [
    "### Inspecting and changing synaptic parameters"
   ]
  },
  {
   "cell_type": "markdown",
   "id": "ed7d2437",
   "metadata": {
    "id": "2872bbfc"
   },
   "source": [
    "You can inspect synaptic parameters via the `.edges` attribute:"
   ]
  },
  {
   "cell_type": "code",
   "execution_count": 27,
   "id": "b0386f13",
   "metadata": {
    "id": "7520ec86",
    "outputId": "610933e7-caff-4864-b0ea-9d7486b4e7a3"
   },
   "outputs": [
    {
     "data": {
      "text/html": [
       "<div>\n",
       "<style scoped>\n",
       "    .dataframe tbody tr th:only-of-type {\n",
       "        vertical-align: middle;\n",
       "    }\n",
       "\n",
       "    .dataframe tbody tr th {\n",
       "        vertical-align: top;\n",
       "    }\n",
       "\n",
       "    .dataframe thead th {\n",
       "        text-align: right;\n",
       "    }\n",
       "</style>\n",
       "<table border=\"1\" class=\"dataframe\">\n",
       "  <thead>\n",
       "    <tr style=\"text-align: right;\">\n",
       "      <th></th>\n",
       "      <th>global_edge_index</th>\n",
       "      <th>index_within_type</th>\n",
       "      <th>pre_index</th>\n",
       "      <th>post_index</th>\n",
       "      <th>type</th>\n",
       "      <th>type_ind</th>\n",
       "      <th>pre_locs</th>\n",
       "      <th>post_locs</th>\n",
       "      <th>IonotropicSynapse_gS</th>\n",
       "      <th>IonotropicSynapse_e_syn</th>\n",
       "      <th>IonotropicSynapse_k_minus</th>\n",
       "      <th>IonotropicSynapse_v_th</th>\n",
       "      <th>IonotropicSynapse_delta</th>\n",
       "      <th>IonotropicSynapse_s</th>\n",
       "      <th>controlled_by_param</th>\n",
       "    </tr>\n",
       "  </thead>\n",
       "  <tbody>\n",
       "    <tr>\n",
       "      <th>0</th>\n",
       "      <td>0</td>\n",
       "      <td>0</td>\n",
       "      <td>0</td>\n",
       "      <td>60</td>\n",
       "      <td>IonotropicSynapse</td>\n",
       "      <td>0</td>\n",
       "      <td>0.5</td>\n",
       "      <td>0.5</td>\n",
       "      <td>0.0001</td>\n",
       "      <td>0.0</td>\n",
       "      <td>0.025</td>\n",
       "      <td>-35.0</td>\n",
       "      <td>10.0</td>\n",
       "      <td>0.2</td>\n",
       "      <td>0</td>\n",
       "    </tr>\n",
       "    <tr>\n",
       "      <th>1</th>\n",
       "      <td>1</td>\n",
       "      <td>1</td>\n",
       "      <td>6</td>\n",
       "      <td>60</td>\n",
       "      <td>IonotropicSynapse</td>\n",
       "      <td>0</td>\n",
       "      <td>0.5</td>\n",
       "      <td>0.5</td>\n",
       "      <td>0.0001</td>\n",
       "      <td>0.0</td>\n",
       "      <td>0.025</td>\n",
       "      <td>-35.0</td>\n",
       "      <td>10.0</td>\n",
       "      <td>0.2</td>\n",
       "      <td>0</td>\n",
       "    </tr>\n",
       "    <tr>\n",
       "      <th>2</th>\n",
       "      <td>2</td>\n",
       "      <td>2</td>\n",
       "      <td>12</td>\n",
       "      <td>60</td>\n",
       "      <td>IonotropicSynapse</td>\n",
       "      <td>0</td>\n",
       "      <td>0.5</td>\n",
       "      <td>0.5</td>\n",
       "      <td>0.0001</td>\n",
       "      <td>0.0</td>\n",
       "      <td>0.025</td>\n",
       "      <td>-35.0</td>\n",
       "      <td>10.0</td>\n",
       "      <td>0.2</td>\n",
       "      <td>0</td>\n",
       "    </tr>\n",
       "    <tr>\n",
       "      <th>3</th>\n",
       "      <td>3</td>\n",
       "      <td>3</td>\n",
       "      <td>18</td>\n",
       "      <td>60</td>\n",
       "      <td>IonotropicSynapse</td>\n",
       "      <td>0</td>\n",
       "      <td>0.5</td>\n",
       "      <td>0.5</td>\n",
       "      <td>0.0001</td>\n",
       "      <td>0.0</td>\n",
       "      <td>0.025</td>\n",
       "      <td>-35.0</td>\n",
       "      <td>10.0</td>\n",
       "      <td>0.2</td>\n",
       "      <td>0</td>\n",
       "    </tr>\n",
       "    <tr>\n",
       "      <th>4</th>\n",
       "      <td>4</td>\n",
       "      <td>4</td>\n",
       "      <td>24</td>\n",
       "      <td>60</td>\n",
       "      <td>IonotropicSynapse</td>\n",
       "      <td>0</td>\n",
       "      <td>0.5</td>\n",
       "      <td>0.5</td>\n",
       "      <td>0.0001</td>\n",
       "      <td>0.0</td>\n",
       "      <td>0.025</td>\n",
       "      <td>-35.0</td>\n",
       "      <td>10.0</td>\n",
       "      <td>0.2</td>\n",
       "      <td>0</td>\n",
       "    </tr>\n",
       "    <tr>\n",
       "      <th>5</th>\n",
       "      <td>5</td>\n",
       "      <td>5</td>\n",
       "      <td>30</td>\n",
       "      <td>60</td>\n",
       "      <td>IonotropicSynapse</td>\n",
       "      <td>0</td>\n",
       "      <td>0.5</td>\n",
       "      <td>0.5</td>\n",
       "      <td>0.0001</td>\n",
       "      <td>0.0</td>\n",
       "      <td>0.025</td>\n",
       "      <td>-35.0</td>\n",
       "      <td>10.0</td>\n",
       "      <td>0.2</td>\n",
       "      <td>0</td>\n",
       "    </tr>\n",
       "    <tr>\n",
       "      <th>6</th>\n",
       "      <td>6</td>\n",
       "      <td>6</td>\n",
       "      <td>36</td>\n",
       "      <td>60</td>\n",
       "      <td>IonotropicSynapse</td>\n",
       "      <td>0</td>\n",
       "      <td>0.5</td>\n",
       "      <td>0.5</td>\n",
       "      <td>0.0001</td>\n",
       "      <td>0.0</td>\n",
       "      <td>0.025</td>\n",
       "      <td>-35.0</td>\n",
       "      <td>10.0</td>\n",
       "      <td>0.2</td>\n",
       "      <td>0</td>\n",
       "    </tr>\n",
       "    <tr>\n",
       "      <th>7</th>\n",
       "      <td>7</td>\n",
       "      <td>7</td>\n",
       "      <td>42</td>\n",
       "      <td>60</td>\n",
       "      <td>IonotropicSynapse</td>\n",
       "      <td>0</td>\n",
       "      <td>0.5</td>\n",
       "      <td>0.5</td>\n",
       "      <td>0.0001</td>\n",
       "      <td>0.0</td>\n",
       "      <td>0.025</td>\n",
       "      <td>-35.0</td>\n",
       "      <td>10.0</td>\n",
       "      <td>0.2</td>\n",
       "      <td>0</td>\n",
       "    </tr>\n",
       "    <tr>\n",
       "      <th>8</th>\n",
       "      <td>8</td>\n",
       "      <td>8</td>\n",
       "      <td>48</td>\n",
       "      <td>60</td>\n",
       "      <td>IonotropicSynapse</td>\n",
       "      <td>0</td>\n",
       "      <td>0.5</td>\n",
       "      <td>0.5</td>\n",
       "      <td>0.0001</td>\n",
       "      <td>0.0</td>\n",
       "      <td>0.025</td>\n",
       "      <td>-35.0</td>\n",
       "      <td>10.0</td>\n",
       "      <td>0.2</td>\n",
       "      <td>0</td>\n",
       "    </tr>\n",
       "    <tr>\n",
       "      <th>9</th>\n",
       "      <td>9</td>\n",
       "      <td>9</td>\n",
       "      <td>54</td>\n",
       "      <td>60</td>\n",
       "      <td>IonotropicSynapse</td>\n",
       "      <td>0</td>\n",
       "      <td>0.5</td>\n",
       "      <td>0.5</td>\n",
       "      <td>0.0001</td>\n",
       "      <td>0.0</td>\n",
       "      <td>0.025</td>\n",
       "      <td>-35.0</td>\n",
       "      <td>10.0</td>\n",
       "      <td>0.2</td>\n",
       "      <td>0</td>\n",
       "    </tr>\n",
       "    <tr>\n",
       "      <th>10</th>\n",
       "      <td>10</td>\n",
       "      <td>10</td>\n",
       "      <td>2</td>\n",
       "      <td>61</td>\n",
       "      <td>IonotropicSynapse</td>\n",
       "      <td>0</td>\n",
       "      <td>0.5</td>\n",
       "      <td>0.5</td>\n",
       "      <td>0.0001</td>\n",
       "      <td>0.0</td>\n",
       "      <td>0.025</td>\n",
       "      <td>-35.0</td>\n",
       "      <td>10.0</td>\n",
       "      <td>0.2</td>\n",
       "      <td>0</td>\n",
       "    </tr>\n",
       "  </tbody>\n",
       "</table>\n",
       "</div>"
      ],
      "text/plain": [
       "    global_edge_index  index_within_type  pre_index  post_index  \\\n",
       "0                   0                  0          0          60   \n",
       "1                   1                  1          6          60   \n",
       "2                   2                  2         12          60   \n",
       "3                   3                  3         18          60   \n",
       "4                   4                  4         24          60   \n",
       "5                   5                  5         30          60   \n",
       "6                   6                  6         36          60   \n",
       "7                   7                  7         42          60   \n",
       "8                   8                  8         48          60   \n",
       "9                   9                  9         54          60   \n",
       "10                 10                 10          2          61   \n",
       "\n",
       "                 type  type_ind  pre_locs  post_locs  IonotropicSynapse_gS  \\\n",
       "0   IonotropicSynapse         0       0.5        0.5                0.0001   \n",
       "1   IonotropicSynapse         0       0.5        0.5                0.0001   \n",
       "2   IonotropicSynapse         0       0.5        0.5                0.0001   \n",
       "3   IonotropicSynapse         0       0.5        0.5                0.0001   \n",
       "4   IonotropicSynapse         0       0.5        0.5                0.0001   \n",
       "5   IonotropicSynapse         0       0.5        0.5                0.0001   \n",
       "6   IonotropicSynapse         0       0.5        0.5                0.0001   \n",
       "7   IonotropicSynapse         0       0.5        0.5                0.0001   \n",
       "8   IonotropicSynapse         0       0.5        0.5                0.0001   \n",
       "9   IonotropicSynapse         0       0.5        0.5                0.0001   \n",
       "10  IonotropicSynapse         0       0.5        0.5                0.0001   \n",
       "\n",
       "    IonotropicSynapse_e_syn  IonotropicSynapse_k_minus  \\\n",
       "0                       0.0                      0.025   \n",
       "1                       0.0                      0.025   \n",
       "2                       0.0                      0.025   \n",
       "3                       0.0                      0.025   \n",
       "4                       0.0                      0.025   \n",
       "5                       0.0                      0.025   \n",
       "6                       0.0                      0.025   \n",
       "7                       0.0                      0.025   \n",
       "8                       0.0                      0.025   \n",
       "9                       0.0                      0.025   \n",
       "10                      0.0                      0.025   \n",
       "\n",
       "    IonotropicSynapse_v_th  IonotropicSynapse_delta  IonotropicSynapse_s  \\\n",
       "0                    -35.0                     10.0                  0.2   \n",
       "1                    -35.0                     10.0                  0.2   \n",
       "2                    -35.0                     10.0                  0.2   \n",
       "3                    -35.0                     10.0                  0.2   \n",
       "4                    -35.0                     10.0                  0.2   \n",
       "5                    -35.0                     10.0                  0.2   \n",
       "6                    -35.0                     10.0                  0.2   \n",
       "7                    -35.0                     10.0                  0.2   \n",
       "8                    -35.0                     10.0                  0.2   \n",
       "9                    -35.0                     10.0                  0.2   \n",
       "10                   -35.0                     10.0                  0.2   \n",
       "\n",
       "    controlled_by_param  \n",
       "0                     0  \n",
       "1                     0  \n",
       "2                     0  \n",
       "3                     0  \n",
       "4                     0  \n",
       "5                     0  \n",
       "6                     0  \n",
       "7                     0  \n",
       "8                     0  \n",
       "9                     0  \n",
       "10                    0  "
      ]
     },
     "execution_count": 27,
     "metadata": {},
     "output_type": "execute_result"
    }
   ],
   "source": [
    "net.edges"
   ]
  },
  {
   "cell_type": "markdown",
   "id": "46bdefa0",
   "metadata": {
    "id": "7e32f7cf"
   },
   "source": [
    "To modify a parameter of all synapses you can again use `.set()`:"
   ]
  },
  {
   "cell_type": "code",
   "execution_count": 28,
   "id": "03713944",
   "metadata": {
    "id": "3c1feed3"
   },
   "outputs": [],
   "source": [
    "net.set(\"IonotropicSynapse_gS\", 0.0003)  # nS"
   ]
  },
  {
   "cell_type": "markdown",
   "id": "e68eca05",
   "metadata": {
    "id": "7c2879f2"
   },
   "source": [
    "To modify individual syanptic parameters, use the `.select()` method. Below, we change the values of the first two synapses:"
   ]
  },
  {
   "cell_type": "code",
   "execution_count": 29,
   "id": "2e0cf54d",
   "metadata": {
    "id": "03e4a9c5"
   },
   "outputs": [],
   "source": [
    "net.select(edges=[0, 1]).set(\"IonotropicSynapse_gS\", 0.0004)  # nS"
   ]
  },
  {
   "cell_type": "markdown",
   "id": "3471b0ce",
   "metadata": {
    "id": "883f84d4"
   },
   "source": [
    "> Feel free to check out `net.edges` to make sure that the `.set()` worked."
   ]
  },
  {
   "cell_type": "markdown",
   "id": "13e0e995",
   "metadata": {
    "id": "f79cfa0c"
   },
   "source": [
    "For more details on how to flexibly set synaptic parameters (e.g., by cell type, or by pre-synaptic cell index,...), see [this tutorial](https://jaxley.readthedocs.io/en/latest/tutorials/09_advanced_indexing.html)."
   ]
  },
  {
   "cell_type": "markdown",
   "id": "17c551d3",
   "metadata": {
    "id": "ad838ed0"
   },
   "source": [
    "As a simple example, we insert sodium, potassium, and leak into every compartment of every cell of the network."
   ]
  },
  {
   "cell_type": "code",
   "execution_count": 30,
   "id": "822d94cc",
   "metadata": {
    "id": "c955a495"
   },
   "outputs": [],
   "source": [
    "net.insert(Na())\n",
    "net.insert(K())\n",
    "net.insert(Leak())"
   ]
  },
  {
   "cell_type": "markdown",
   "id": "9ce17ee5",
   "metadata": {
    "id": "970c61db"
   },
   "source": [
    "We then stimulate every neuron in the input layer and record the voltage of the output neuron:"
   ]
  },
  {
   "cell_type": "code",
   "execution_count": 31,
   "id": "d874b63a",
   "metadata": {
    "id": "5b75c47b",
    "outputId": "ac3be073-842e-4e9d-9884-f4884c54273a"
   },
   "outputs": [
    {
     "name": "stdout",
     "output_type": "stream",
     "text": [
      "Added 1 external_states. See `.externals` for details.\n",
      "Added 1 external_states. See `.externals` for details.\n",
      "Added 1 external_states. See `.externals` for details.\n",
      "Added 1 external_states. See `.externals` for details.\n",
      "Added 1 external_states. See `.externals` for details.\n",
      "Added 1 external_states. See `.externals` for details.\n",
      "Added 1 external_states. See `.externals` for details.\n",
      "Added 1 external_states. See `.externals` for details.\n",
      "Added 1 external_states. See `.externals` for details.\n",
      "Added 1 external_states. See `.externals` for details.\n",
      "Added 1 recordings. See `.recordings` for details.\n"
     ]
    }
   ],
   "source": [
    "# Stimulus.\n",
    "i_delay = 3.0  # ms\n",
    "i_amp = 1.0  # nA\n",
    "i_dur = 2.0  # ms\n",
    "\n",
    "# Duration and step size.\n",
    "dt = 0.025  # ms\n",
    "t_max = 50.0  # ms\n",
    "\n",
    "time_vec = np.arange(0.0, t_max + dt, dt)\n",
    "\n",
    "current = jx.step_current(i_delay, i_dur, i_amp, dt, t_max)\n",
    "net.delete_stimuli()\n",
    "for stim_ind in range(10):\n",
    "    net.cell(stim_ind).branch(0).loc(0.0).stimulate(current)\n",
    "\n",
    "net.delete_recordings()\n",
    "net.cell(10).branch(0).loc(0.0).record()"
   ]
  },
  {
   "cell_type": "markdown",
   "id": "543eaae8",
   "metadata": {
    "id": "483b41b3"
   },
   "source": [
    "Finally, we can again run the network simulation and plot the result:"
   ]
  },
  {
   "cell_type": "code",
   "execution_count": 32,
   "id": "e1e1c34e",
   "metadata": {
    "id": "07a2c2eb"
   },
   "outputs": [],
   "source": [
    "voltages = jx.integrate(net, delta_t=dt)"
   ]
  },
  {
   "cell_type": "code",
   "execution_count": 33,
   "id": "d8a1443e",
   "metadata": {
    "id": "185c9bfa",
    "outputId": "b2af7a2c-bbe3-4afc-8c5b-a379ed5c8cbd"
   },
   "outputs": [
    {
     "data": {
      "image/png": "[encoded data removed]",
      "text/plain": [
       "<Figure size 400x200 with 1 Axes>"
      ]
     },
     "metadata": {},
     "output_type": "display_data"
    }
   ],
   "source": [
    "time_vector = np.arange(0, t_max + 2 * dt, dt)\n",
    "\n",
    "fig, ax = plt.subplots(1, 1, figsize=(4, 2))\n",
    "_ = ax.plot(time_vector, voltages.T)\n",
    "_ = ax.set_xlabel(\"Time (ms)\")\n",
    "_ = ax.set_ylabel(\"Voltage (mV)\")"
   ]
  },
  {
   "cell_type": "markdown",
   "id": "802fc15d",
   "metadata": {
    "id": "d483ab34"
   },
   "source": [
    "That's it! You now know how to simulate single cells or networks of morphologically detailed neurons. If you want, you can check out our tutorial on how you can [speed up your simulation](https://jaxley.readthedocs.io/en/latest/tutorials/04_jit_and_vmap.html). This will also explain how you can use `Jaxley` to efficiently parallelize across input stimuli or parameter sets."
   ]
  },
  {
   "cell_type": "markdown",
   "id": "d8732f31",
   "metadata": {
    "id": "634e1939"
   },
   "source": [
    "### Tasks for participants"
   ]
  },
  {
   "cell_type": "markdown",
   "id": "48c479fb",
   "metadata": {
    "id": "09ccf7c7"
   },
   "source": [
    "1) Modify the synaptic conductance and inspect how it impacts the output voltage.  \n",
    "2) Currently, we insert sodium, potassium, and leak channels into all cells of the network. Instead, insert only the `Leak` channel everywhere, and insert sodium and potassium only in some cells, or even only in some branches of some cells. Inspect the resulting voltage.  "
   ]
  },
  {
   "cell_type": "markdown",
   "id": "774bc6f1",
   "metadata": {
    "id": "10d7e4d4"
   },
   "source": [
    "# Coffee break ☕"
   ]
  },
  {
   "cell_type": "markdown",
   "id": "700bc048",
   "metadata": {
    "id": "89c6e3a4"
   },
   "source": [
    "# Optimizing biophysical models"
   ]
  },
  {
   "cell_type": "markdown",
   "id": "9b9cf1c7",
   "metadata": {
    "id": "f90abfc6"
   },
   "source": [
    "In this section of the tutorial, you will learn how to train biophysical models in `Jaxley`. This includes the following:\n",
    "\n",
    "- compute the gradient with respect to parameters  \n",
    "- use parameter transformations  \n",
    "- define optimizers  \n",
    "- write dataloaders and parallelize across data  "
   ]
  },
  {
   "cell_type": "markdown",
   "id": "00b0f39f",
   "metadata": {
    "id": "8a968ed9"
   },
   "source": [
    "Let's get started!"
   ]
  },
  {
   "cell_type": "code",
   "execution_count": 1,
   "id": "375768d4",
   "metadata": {
    "id": "lOcxHpXlCc2t"
   },
   "outputs": [],
   "source": [
    "import io\n",
    "swc_content = \"\"\"\n",
    "1 1   0   0 0 10.0 -1\n",
    "2 3  10   0 0 0.2 1\n",
    "3 3 500   0 0 0.2 2\n",
    "4 3 600 100 0 0.2 3\n",
    "5 3 700 200 0 0.2 4\n",
    "6 3 600 -100 0 0.2 3\n",
    "7 3 700 -200 0 0.2 6\n",
    "\"\"\"\n",
    "swc_file = io.StringIO(swc_content)"
   ]
  },
  {
   "cell_type": "code",
   "execution_count": 35,
   "id": "0945b312",
   "metadata": {
    "id": "QPiQlmd_ARYg"
   },
   "outputs": [
    {
     "name": "stdout",
     "output_type": "stream",
     "text": [
      "/bin/bash: /home/kyra/miniconda3/envs/retina/lib/libtinfo.so.6: no version information available (required by /bin/bash)\n"
     ]
    },
    {
     "name": "stderr",
     "output_type": "stream",
     "text": [
      "/home/kyra/miniconda3/envs/retina/lib/python3.10/pty.py:89: RuntimeWarning: os.fork() was called. os.fork() is incompatible with multithreaded code, and JAX is multithreaded, so this will likely lead to a deadlock.\n",
      "  pid, fd = os.forkpty()\n"
     ]
    },
    {
     "name": "stdout",
     "output_type": "stream",
     "text": [
      "Requirement already satisfied: optax in /home/kyra/miniconda3/envs/retina/lib/python3.10/site-packages (0.2.2)\n",
      "Requirement already satisfied: absl-py>=0.7.1 in /home/kyra/miniconda3/envs/retina/lib/python3.10/site-packages (from optax) (1.3.0)\n",
      "Requirement already satisfied: chex>=0.1.86 in /home/kyra/miniconda3/envs/retina/lib/python3.10/site-packages (from optax) (0.1.86)\n",
      "Requirement already satisfied: jax>=0.1.55 in /home/kyra/miniconda3/envs/retina/lib/python3.10/site-packages (from optax) (0.5.3)\n",
      "Requirement already satisfied: jaxlib>=0.1.37 in /home/kyra/miniconda3/envs/retina/lib/python3.10/site-packages (from optax) (0.5.3)\n",
      "Requirement already satisfied: numpy>=1.18.0 in /home/kyra/miniconda3/envs/retina/lib/python3.10/site-packages (from optax) (2.1.3)\n",
      "Requirement already satisfied: typing-extensions>=4.2.0 in /home/kyra/miniconda3/envs/retina/lib/python3.10/site-packages (from chex>=0.1.86->optax) (4.11.0)\n",
      "Requirement already satisfied: toolz>=0.9.0 in /home/kyra/miniconda3/envs/retina/lib/python3.10/site-packages (from chex>=0.1.86->optax) (0.12.0)\n",
      "Requirement already satisfied: ml_dtypes>=0.4.0 in /home/kyra/miniconda3/envs/retina/lib/python3.10/site-packages (from jax>=0.1.55->optax) (0.5.1)\n",
      "Requirement already satisfied: opt_einsum in /home/kyra/miniconda3/envs/retina/lib/python3.10/site-packages (from jax>=0.1.55->optax) (3.3.0)\n",
      "Requirement already satisfied: scipy>=1.11.1 in /home/kyra/miniconda3/envs/retina/lib/python3.10/site-packages (from jax>=0.1.55->optax) (1.15.3)\n"
     ]
    }
   ],
   "source": [
    "!pip install optax"
   ]
  },
  {
   "cell_type": "code",
   "execution_count": 2,
   "id": "c21c0213",
   "metadata": {
    "id": "3404a7d9"
   },
   "outputs": [],
   "source": [
    "from jax import config\n",
    "config.update(\"jax_enable_x64\", True)\n",
    "config.update(\"jax_platform_name\", \"cpu\")\n",
    "\n",
    "import matplotlib.pyplot as plt\n",
    "import numpy as np\n",
    "import jax\n",
    "import jax.numpy as jnp\n",
    "from jax import jit, vmap, value_and_grad\n",
    "\n",
    "import jaxley as jx\n",
    "from jaxley.channels import Leak\n",
    "from jaxley.synapses import TanhRateSynapse\n",
    "from jaxley.connect import fully_connect"
   ]
  },
  {
   "cell_type": "markdown",
   "id": "591565d6",
   "metadata": {
    "id": "2d40619c"
   },
   "source": [
    "We will first define a network similar to how we showed previously:"
   ]
  },
  {
   "cell_type": "code",
   "execution_count": 3,
   "id": "947e1940",
   "metadata": {
    "id": "b66cb398"
   },
   "outputs": [],
   "source": [
    "_ = np.random.seed(0)  # For synaptic locations.\n",
    "\n",
    "cell = jx.read_swc(swc_file, ncomp=1)\n",
    "cell.set(\"axial_resistivity\", 100.0)  # ohm cm.\n",
    "net = jx.Network([cell for _ in range(4)])\n",
    "\n",
    "pre = net.cell([0, 1])\n",
    "post = net.cell([2, 3])\n",
    "fully_connect(pre, post, TanhRateSynapse())\n",
    "\n",
    "# Change some default values of the tanh synapse.\n",
    "net.TanhRateSynapse.set(\"TanhRateSynapse_x_offset\", -60.0)\n",
    "net.TanhRateSynapse.set(\"TanhRateSynapse_gS\", 5e-3)\n",
    "net.TanhRateSynapse.set(\"TanhRateSynapse_slope\", 0.1)\n",
    "\n",
    "net.insert(Leak())\n",
    "\n",
    "# Randomly initialize the synaptic weights.\n",
    "_ = np.random.seed(0)\n",
    "net.set(\"TanhRateSynapse_gS\", np.random.rand(4) * 0.01)\n",
    "\n",
    "dt = 0.025  # ms\n",
    "t_max = 5.0  # ms"
   ]
  },
  {
   "cell_type": "markdown",
   "id": "ec5a94ed",
   "metadata": {
    "id": "6a796037"
   },
   "source": [
    "This network consists of four neurons arranged in two layers:"
   ]
  },
  {
   "cell_type": "code",
   "execution_count": 4,
   "id": "88a9c61a",
   "metadata": {
    "id": "012d2cc3",
    "outputId": "f1899565-a479-4e0f-c798-5459182e303c"
   },
   "outputs": [
    {
     "data": {
      "image/png": "[encoded data removed]",
      "text/plain": [
       "<Figure size 300x200 with 1 Axes>"
      ]
     },
     "metadata": {},
     "output_type": "display_data"
    }
   ],
   "source": [
    "net.rotate(180)\n",
    "net.arrange_in_layers(layers=[2, 2], within_layer_offset=500, between_layer_offset=2000)\n",
    "fig, ax = plt.subplots(1, 1, figsize=(3, 2))\n",
    "_ = net.vis(ax=ax, detail=\"full\")\n",
    "_ = ax.set_aspect(\"equal\")"
   ]
  },
  {
   "cell_type": "markdown",
   "id": "624590b2",
   "metadata": {
    "id": "b8814367"
   },
   "source": [
    "We consider the voltage of the two outputs neurons as the output of the network:"
   ]
  },
  {
   "cell_type": "code",
   "execution_count": 5,
   "id": "9288beed",
   "metadata": {
    "id": "c65f7eb4",
    "outputId": "00d8061a-2b1d-412d-c3e5-199923c9c947"
   },
   "outputs": [
    {
     "name": "stdout",
     "output_type": "stream",
     "text": [
      "Added 1 recordings. See `.recordings` for details.\n",
      "Added 1 recordings. See `.recordings` for details.\n"
     ]
    }
   ],
   "source": [
    "net.delete_recordings()\n",
    "net.cell(2).branch(0).loc(0.0).record()\n",
    "net.cell(3).branch(0).loc(0.0).record()"
   ]
  },
  {
   "cell_type": "markdown",
   "id": "72bf0143",
   "metadata": {
    "id": "5ce83007"
   },
   "source": [
    "### Defining a dataset"
   ]
  },
  {
   "cell_type": "markdown",
   "id": "a3b0c3b7",
   "metadata": {
    "id": "5f0bb073"
   },
   "source": [
    "We will train this biophysical network on a classification task. The inputs will be values and the label is binary:"
   ]
  },
  {
   "cell_type": "code",
   "execution_count": 6,
   "id": "8efed68c",
   "metadata": {
    "id": "9a6ce53d"
   },
   "outputs": [],
   "source": [
    "inputs = jnp.asarray(0.5 * np.random.rand(100, 2))\n",
    "labels = jnp.asarray((inputs[:, 0] + inputs[:, 1]) > 0.5)"
   ]
  },
  {
   "cell_type": "code",
   "execution_count": 7,
   "id": "4bd924f2",
   "metadata": {
    "id": "4d99d11c",
    "outputId": "23022ccd-edf4-4a17-b3c0-a7055df3aaf9"
   },
   "outputs": [
    {
     "data": {
      "image/png": "[encoded data removed]",
      "text/plain": [
       "<Figure size 300x200 with 1 Axes>"
      ]
     },
     "metadata": {},
     "output_type": "display_data"
    }
   ],
   "source": [
    "fig, ax = plt.subplots(1, 1, figsize=(3, 2))\n",
    "_ = ax.scatter(inputs[labels, 0], inputs[labels, 1])\n",
    "_ = ax.scatter(inputs[~labels, 0], inputs[~labels, 1])"
   ]
  },
  {
   "cell_type": "code",
   "execution_count": 8,
   "id": "ee68232c",
   "metadata": {
    "id": "db449231"
   },
   "outputs": [],
   "source": [
    "labels = labels.astype(int)"
   ]
  },
  {
   "cell_type": "markdown",
   "id": "86a7a07e",
   "metadata": {
    "id": "2d747cfb"
   },
   "source": [
    "Our goal is to train the network such that the output voltages indicate class membership. In particular, we will use a cross-entropy loss, which means that the class membership will be indicated by which output neuron has a higher voltage."
   ]
  },
  {
   "cell_type": "markdown",
   "id": "31e93750",
   "metadata": {
    "id": "8d6f0722"
   },
   "source": [
    "### Defining trainable parameters"
   ]
  },
  {
   "cell_type": "markdown",
   "id": "6113924a",
   "metadata": {
    "id": "37fe5b1b"
   },
   "source": [
    "To train such a network, we first have to indicate which values should be optimized. For this, we use the `.make_trainable()` method.\n",
    "\n",
    "If you want to use a single parameter for every `axial_resistivity` in the entire network, do:"
   ]
  },
  {
   "cell_type": "code",
   "execution_count": 9,
   "id": "570e01e1",
   "metadata": {
    "id": "7e4cd848",
    "outputId": "8c3b24cb-424f-4cfe-9dcf-e2d57468538d"
   },
   "outputs": [
    {
     "name": "stdout",
     "output_type": "stream",
     "text": [
      "Number of newly added trainable parameters: 1. Total number of trainable parameters: 1\n"
     ]
    }
   ],
   "source": [
    "net.delete_trainables()\n",
    "net.make_trainable(\"axial_resistivity\")"
   ]
  },
  {
   "cell_type": "markdown",
   "id": "af02f2a8",
   "metadata": {
    "id": "fc062258"
   },
   "source": [
    "We can also define parameters for individual compartments. To do this, use the `\"all\"` key. The following defines a separate parameter the leak conductance for every compartment in the entire network:"
   ]
  },
  {
   "cell_type": "code",
   "execution_count": 10,
   "id": "6489dd87",
   "metadata": {
    "id": "09d29eb6",
    "outputId": "a286b60f-885b-4b3a-a715-2d22eb8c73b0"
   },
   "outputs": [
    {
     "name": "stdout",
     "output_type": "stream",
     "text": [
      "Number of newly added trainable parameters: 16. Total number of trainable parameters: 17\n"
     ]
    }
   ],
   "source": [
    "net.cell(\"all\").branch(\"all\").loc(\"all\").make_trainable(\"Leak_gLeak\")"
   ]
  },
  {
   "cell_type": "markdown",
   "id": "868f6a69",
   "metadata": {
    "id": "ada688a8"
   },
   "source": [
    "Synaptic parameters can be made trainable in the exact same way. To use a single parameter for all syanptic conductances in the entire network, do\n",
    "```python\n",
    "net.TanhRateSynapse.make_trainable(\"TanhRateSynapse_gS\")\n",
    "```"
   ]
  },
  {
   "cell_type": "markdown",
   "id": "8172822d",
   "metadata": {
    "id": "43c0e13b"
   },
   "source": [
    "Here, we use a different syanptic conductance for all syanpses. This can be done as follows:"
   ]
  },
  {
   "cell_type": "code",
   "execution_count": 11,
   "id": "33f233a3",
   "metadata": {
    "id": "4ed6bce7",
    "outputId": "0df9af42-0178-4f28-8210-1a299bdf52b1"
   },
   "outputs": [
    {
     "name": "stdout",
     "output_type": "stream",
     "text": [
      "Number of newly added trainable parameters: 4. Total number of trainable parameters: 21\n"
     ]
    }
   ],
   "source": [
    "net.TanhRateSynapse.edge(\"all\").make_trainable(\"TanhRateSynapse_gS\")"
   ]
  },
  {
   "cell_type": "markdown",
   "id": "7f481ad7",
   "metadata": {
    "id": "5e81a498"
   },
   "source": [
    "Once all parameters are defined, you have to use `.get_parameters()` to obtain all trainable parameters."
   ]
  },
  {
   "cell_type": "code",
   "execution_count": 12,
   "id": "b3c61aa4",
   "metadata": {
    "id": "1f3ddbd4"
   },
   "outputs": [],
   "source": [
    "params = net.get_parameters()"
   ]
  },
  {
   "cell_type": "markdown",
   "id": "6f7eea73",
   "metadata": {
    "id": "8bc45b39"
   },
   "source": [
    "> Feel free to inspect the `params`. It contains one value for every trainable parameter."
   ]
  },
  {
   "cell_type": "markdown",
   "id": "b1c93ca2",
   "metadata": {
    "id": "4138f138"
   },
   "source": [
    "### Stimulating the network\n",
    "\n",
    "The network above does not yet get any stimuli. We will use the 2D inputs from the dataset to stimulate the two input neurons. The amplitude of a step current corresponds to the input value. Below is the simulator that defines this:"
   ]
  },
  {
   "cell_type": "code",
   "execution_count": 13,
   "id": "2d780e7e",
   "metadata": {
    "id": "73a15173"
   },
   "outputs": [],
   "source": [
    "def simulate(params, inputs):\n",
    "    currents = jx.datapoint_to_step_currents(i_delay=1.0, i_dur=1.0, i_amp=inputs, delta_t=dt, t_max=t_max)\n",
    "\n",
    "    data_stimuli = None\n",
    "    data_stimuli = net.cell(0).branch(0).loc(1.0).data_stimulate(currents[0], data_stimuli=data_stimuli)\n",
    "    data_stimuli = net.cell(1).branch(0).loc(1.0).data_stimulate(currents[1], data_stimuli=data_stimuli)\n",
    "\n",
    "    return jx.integrate(net, params=params, data_stimuli=data_stimuli, delta_t=dt, t_max=t_max)\n",
    "\n",
    "batched_simulate = vmap(simulate, in_axes=(None, 0))"
   ]
  },
  {
   "cell_type": "markdown",
   "id": "6edd80c7",
   "metadata": {
    "id": "ece2dc90"
   },
   "source": [
    "Let us simulate this network and plot the voltage of the output neurons:"
   ]
  },
  {
   "cell_type": "code",
   "execution_count": 14,
   "id": "d4f8ad48",
   "metadata": {
    "id": "b0de5e09",
    "outputId": "a8531de7-b575-4f54-c6b0-bd2fd95f5887"
   },
   "outputs": [
    {
     "data": {
      "image/png": "[encoded data removed]",
      "text/plain": [
       "<Figure size 400x200 with 1 Axes>"
      ]
     },
     "metadata": {},
     "output_type": "display_data"
    }
   ],
   "source": [
    "voltages = simulate(params, inputs[0])\n",
    "\n",
    "time_vector = np.arange(0, t_max + dt, dt)\n",
    "\n",
    "fig, ax = plt.subplots(1, 1, figsize=(4, 2))\n",
    "_ = ax.plot(time_vector, voltages.T)\n",
    "_ = ax.set_xlabel(\"Time (ms)\")\n",
    "_ = ax.set_ylabel(\"Voltage (mV)\")"
   ]
  },
  {
   "cell_type": "markdown",
   "id": "0ca12201",
   "metadata": {
    "id": "05c147f6"
   },
   "source": [
    "### Defining a loss function"
   ]
  },
  {
   "cell_type": "markdown",
   "id": "e08d16ff",
   "metadata": {
    "id": "9c3fb8ec"
   },
   "source": [
    "Let us define a loss function to be optimized. To this end, we first run a few initial simulation to estimate the mean and standard deviations of the output voltage. These will be used such that the cross-entropy loss function is computed on outputs that are (roughly) standardized."
   ]
  },
  {
   "cell_type": "code",
   "execution_count": 15,
   "id": "bf2f187f",
   "metadata": {
    "id": "131975ab"
   },
   "outputs": [],
   "source": [
    "traces = batched_simulate(params, inputs[:16])\n",
    "\n",
    "final_states = traces[:, :, -1]  # -1 because we consider the output to be the voltage at the last time point.\n",
    "final_mean = jnp.mean(final_states)\n",
    "final_std = jnp.std(final_states)"
   ]
  },
  {
   "cell_type": "markdown",
   "id": "1fe16329",
   "metadata": {
    "id": "d265dd1e"
   },
   "source": [
    "Equipped with the mean and standard deviation, we will define the output of this network: The voltage at the last time point, standardized:"
   ]
  },
  {
   "cell_type": "code",
   "execution_count": 16,
   "id": "324f31b3",
   "metadata": {
    "id": "c7405b5c"
   },
   "outputs": [],
   "source": [
    "def predict(params, inputs):\n",
    "    traces = simulate(params, inputs)  # Shape `(batchsize, num_recordings, timepoints)`.\n",
    "    prediction = traces[:, -1]  # Use the last time point over time as prediction.\n",
    "    logits = (prediction - final_mean) / final_std  # Such that the prediction is around 0.\n",
    "    return logits\n",
    "\n",
    "batched_predict = vmap(predict, in_axes=(None, 0))"
   ]
  },
  {
   "cell_type": "markdown",
   "id": "7ea476f5",
   "metadata": {
    "id": "fb36c1f1"
   },
   "source": [
    "...and then we define the cross-entropy loss based on the standardized inputs:"
   ]
  },
  {
   "cell_type": "code",
   "execution_count": 17,
   "id": "60a8eec8",
   "metadata": {
    "id": "3ff26e50"
   },
   "outputs": [],
   "source": [
    "import optax\n",
    "\n",
    "def loss(opt_params, inputs, labels):\n",
    "    logits = batched_predict(params, inputs)\n",
    "    losses = optax.softmax_cross_entropy_with_integer_labels(logits, labels)\n",
    "    return jnp.mean(losses)  # Mean across elements in the batch.\n",
    "\n",
    "jitted_grad = jit(value_and_grad(loss, argnums=0))"
   ]
  },
  {
   "cell_type": "markdown",
   "id": "65281332",
   "metadata": {
    "id": "5974d25d"
   },
   "source": [
    "We can use `JAX`'s inbuilt functions to take the gradient through the entire ODE:"
   ]
  },
  {
   "cell_type": "code",
   "execution_count": 18,
   "id": "3370671f",
   "metadata": {
    "id": "468b84e4"
   },
   "outputs": [],
   "source": [
    "jitted_grad = jit(value_and_grad(loss, argnums=0))\n",
    "prediction, gradient = jitted_grad(params, inputs[:4], labels[:4])"
   ]
  },
  {
   "cell_type": "markdown",
   "id": "560efca6",
   "metadata": {
    "id": "3685ec64"
   },
   "source": [
    "> Feel free to inspect the `gradient`. It contains one value for every trainable parameter and has the exact same structure as `params`."
   ]
  },
  {
   "cell_type": "markdown",
   "id": "99a4f320",
   "metadata": {
    "id": "b24972a3"
   },
   "source": [
    "### Defining parameter transformations"
   ]
  },
  {
   "cell_type": "markdown",
   "id": "81f1621c",
   "metadata": {
    "id": "5a7a3777"
   },
   "source": [
    "Before training, however, we will enforce for all parameters to be within a prespecified range (such that, e.g., conductances can not become negative). For this, `Jaxley` provides parameter transformations:"
   ]
  },
  {
   "cell_type": "code",
   "execution_count": 19,
   "id": "1ab91efe",
   "metadata": {
    "id": "690ec9f2"
   },
   "outputs": [],
   "source": [
    "import jaxley.optimize.transforms as jt\n",
    "\n",
    "transform = jx.ParamTransform([\n",
    "    {\"axial_resistivity\" : jt.SigmoidTransform(50.0, 200.0)},\n",
    "    {\"Leak_gLeak\" : jt.SigmoidTransform(5e-5, 2e-4)},\n",
    "    {\"TanhRateSynapse_gS\" : jt.SigmoidTransform(-5e-2, 5e-2)},\n",
    "])"
   ]
  },
  {
   "cell_type": "markdown",
   "id": "b7b2d29a",
   "metadata": {
    "id": "14489164"
   },
   "source": [
    "Let's standardize the parameters:"
   ]
  },
  {
   "cell_type": "code",
   "execution_count": 20,
   "id": "e3ef7921",
   "metadata": {
    "id": "1f45a6b9"
   },
   "outputs": [],
   "source": [
    "opt_params = transform.inverse(params)"
   ]
  },
  {
   "cell_type": "markdown",
   "id": "5dec21e5",
   "metadata": {
    "id": "5d55bbd4"
   },
   "source": [
    "We now also have to modify the loss function: Before passing parameters to the simulation (which is done by `batched_predict`), we de-standardize them by running `params = transform.forward(opt_params)`."
   ]
  },
  {
   "cell_type": "code",
   "execution_count": 21,
   "id": "49494a80",
   "metadata": {
    "id": "a9c09d5c"
   },
   "outputs": [],
   "source": [
    "def loss(opt_params, inputs, labels):\n",
    "    params = transform.forward(opt_params)\n",
    "    logits = batched_predict(params, inputs)\n",
    "    losses = optax.softmax_cross_entropy_with_integer_labels(logits, labels)\n",
    "    return jnp.mean(losses)\n",
    "\n",
    "jitted_grad = jit(value_and_grad(loss, argnums=0))"
   ]
  },
  {
   "cell_type": "markdown",
   "id": "ba25f2e0",
   "metadata": {
    "id": "78716efb"
   },
   "source": [
    "### Training\n",
    "\n",
    "We will use the ADAM optimizer from the [optax library](https://optax.readthedocs.io/en/latest/) to optimize the free parameters:"
   ]
  },
  {
   "cell_type": "code",
   "execution_count": 22,
   "id": "a809136b",
   "metadata": {
    "id": "fdb7f5da"
   },
   "outputs": [],
   "source": [
    "optimizer = optax.adam(learning_rate=0.001)\n",
    "opt_state = optimizer.init(opt_params)"
   ]
  },
  {
   "cell_type": "markdown",
   "id": "2672e189",
   "metadata": {
    "id": "5f32e9f5"
   },
   "source": [
    "### Writing a dataloader"
   ]
  },
  {
   "cell_type": "markdown",
   "id": "eb060985",
   "metadata": {
    "id": "276f45f8"
   },
   "source": [
    "Below, we define a very simple dataloader. You could also rely on PyTorch or Tensorflow for the dataloader."
   ]
  },
  {
   "cell_type": "code",
   "execution_count": 23,
   "id": "22b7fd72",
   "metadata": {
    "id": "071b4a47"
   },
   "outputs": [],
   "source": [
    "class Dataset:\n",
    "    def __init__(self, inputs: np.ndarray, labels: np.ndarray):\n",
    "        \"\"\"Simple Dataloader.\n",
    "\n",
    "        Args:\n",
    "            inputs: Array of shape (num_samples, num_dim)\n",
    "            labels: Array of shape (num_samples,)\n",
    "        \"\"\"\n",
    "        assert len(inputs) == len(labels), \"Inputs and labels must have same length\"\n",
    "        self.inputs = inputs\n",
    "        self.labels = labels\n",
    "        self.num_samples = len(inputs)\n",
    "        self._rng_state = None\n",
    "        self.batch_size = 1\n",
    "\n",
    "    def shuffle(self, seed=None):\n",
    "        \"\"\"Shuffle the dataset in-place\"\"\"\n",
    "        self._rng_state = np.random.get_state()[1][0] if seed is None else seed\n",
    "        np.random.seed(self._rng_state)\n",
    "        indices = np.random.permutation(self.num_samples)\n",
    "        self.inputs = self.inputs[indices]\n",
    "        self.labels = self.labels[indices]\n",
    "        return self\n",
    "\n",
    "    def batch(self, batch_size):\n",
    "        \"\"\"Create batches of the data\"\"\"\n",
    "        self.batch_size = batch_size\n",
    "        return self\n",
    "\n",
    "    def __iter__(self):\n",
    "        self.shuffle(seed=self._rng_state)\n",
    "        for start in range(0, self.num_samples, self.batch_size):\n",
    "            end = min(start + self.batch_size, self.num_samples)\n",
    "            yield self.inputs[start:end], self.labels[start:end]\n",
    "        self._rng_state += 1"
   ]
  },
  {
   "cell_type": "markdown",
   "id": "57d1cbce",
   "metadata": {
    "id": "1a7db0e2"
   },
   "source": [
    "### Training loop"
   ]
  },
  {
   "cell_type": "markdown",
   "id": "7097ecd7",
   "metadata": {
    "id": "740735f9"
   },
   "source": [
    "That's it! We can now turn to training this network:"
   ]
  },
  {
   "cell_type": "code",
   "execution_count": 24,
   "id": "c52efd94",
   "metadata": {
    "id": "ef36a3bb",
    "outputId": "be3ec4ec-cb1c-4f11-a837-1f1d7a16ac1f"
   },
   "outputs": [
    {
     "name": "stdout",
     "output_type": "stream",
     "text": [
      "epoch 0, loss 16.359335772634836\n",
      "epoch 1, loss 15.024145398603887\n",
      "epoch 2, loss 13.873457210787947\n",
      "epoch 3, loss 12.89944589642219\n",
      "epoch 4, loss 12.041315307537268\n",
      "epoch 5, loss 11.318686288185638\n",
      "epoch 6, loss 10.719249034854824\n",
      "epoch 7, loss 10.186781726057072\n",
      "epoch 8, loss 9.73912470756927\n",
      "epoch 9, loss 9.345518799168612\n",
      "epoch 10, loss 8.998765047418269\n",
      "epoch 11, loss 8.704032595512283\n",
      "epoch 12, loss 8.426430944745064\n",
      "epoch 13, loss 8.20055825997405\n",
      "epoch 14, loss 7.970703797177843\n",
      "epoch 15, loss 7.780718724904347\n",
      "epoch 16, loss 7.617793386382865\n",
      "epoch 17, loss 7.447646107474296\n",
      "epoch 18, loss 7.302921123745253\n",
      "epoch 19, loss 7.168257628737156\n",
      "epoch 20, loss 7.041685715734884\n",
      "epoch 21, loss 6.929310079624362\n",
      "epoch 22, loss 6.818974282534842\n",
      "epoch 23, loss 6.730977627100927\n",
      "epoch 24, loss 6.625903986123093\n",
      "epoch 25, loss 6.542964025471101\n",
      "epoch 26, loss 6.459473255302504\n",
      "epoch 27, loss 6.381233315792068\n",
      "epoch 28, loss 6.303206363368379\n",
      "epoch 29, loss 6.239517350676799\n",
      "epoch 30, loss 6.163788613591325\n",
      "epoch 31, loss 6.108909479720556\n",
      "epoch 32, loss 6.046264983480485\n",
      "epoch 33, loss 6.003304518912413\n",
      "epoch 34, loss 5.940399964700711\n",
      "epoch 35, loss 5.869082776598928\n",
      "epoch 36, loss 5.81958765126298\n",
      "epoch 37, loss 5.767399327638712\n",
      "epoch 38, loss 5.716966448184189\n",
      "epoch 39, loss 5.683599204166266\n",
      "epoch 40, loss 5.6222097399459905\n",
      "epoch 41, loss 5.578515935665324\n",
      "epoch 42, loss 5.54082331458117\n",
      "epoch 43, loss 5.496019787796223\n",
      "epoch 44, loss 5.449738152488604\n",
      "epoch 45, loss 5.411823367444859\n",
      "epoch 46, loss 5.379831990569636\n",
      "epoch 47, loss 5.345234274195992\n",
      "epoch 48, loss 5.299181095432484\n",
      "epoch 49, loss 5.2738294031330355\n"
     ]
    }
   ],
   "source": [
    "batch_size = 4\n",
    "dataloader = Dataset(inputs, labels)\n",
    "dataloader = dataloader.shuffle(seed=0).batch(batch_size)\n",
    "\n",
    "for epoch in range(50):\n",
    "    epoch_loss = 0.0\n",
    "\n",
    "    for batch_ind, batch in enumerate(dataloader):\n",
    "        current_batch, label_batch = batch\n",
    "        loss_val, gradient = jitted_grad(opt_params, current_batch, label_batch)\n",
    "        updates, opt_state = optimizer.update(gradient, opt_state)\n",
    "        opt_params = optax.apply_updates(opt_params, updates)\n",
    "        epoch_loss += loss_val\n",
    "\n",
    "    print(f\"epoch {epoch}, loss {epoch_loss}\")\n",
    "\n",
    "final_params = transform.forward(opt_params)"
   ]
  },
  {
   "cell_type": "markdown",
   "id": "deac1bc3",
   "metadata": {
    "id": "ca48e759"
   },
   "source": [
    "### Evaluation"
   ]
  },
  {
   "cell_type": "markdown",
   "id": "ec2418ec",
   "metadata": {
    "id": "343a75a6"
   },
   "source": [
    "Once the training has finished, we can evaluate the trained network. To this end, we will evaluate the network on 64 inputs and check if they are being classified correctly."
   ]
  },
  {
   "cell_type": "code",
   "execution_count": 25,
   "id": "86217b51",
   "metadata": {
    "id": "b5c493d2"
   },
   "outputs": [],
   "source": [
    "ntest = 64\n",
    "logits = batched_predict(final_params, inputs[:ntest])"
   ]
  },
  {
   "cell_type": "code",
   "execution_count": 26,
   "id": "048b9dd5",
   "metadata": {
    "id": "532a0a79",
    "outputId": "b533a7a7-c927-4f44-fd35-2892b422b823"
   },
   "outputs": [
    {
     "name": "stdout",
     "output_type": "stream",
     "text": [
      "Accuracy on a subset of data: 0.921875\n"
     ]
    }
   ],
   "source": [
    "log_probs = -optax.softmax_cross_entropy_with_integer_labels(logits, labels[:ntest])\n",
    "accuracy = jnp.mean(jnp.exp(log_probs) > 0.5)\n",
    "print(f\"Accuracy on a subset of data: {accuracy}\")"
   ]
  },
  {
   "cell_type": "code",
   "execution_count": 27,
   "id": "3f352212",
   "metadata": {
    "id": "446678f9"
   },
   "outputs": [],
   "source": [
    "predictions = logits[:, 0] > logits[:, 1]"
   ]
  },
  {
   "cell_type": "code",
   "execution_count": 28,
   "id": "ded86297",
   "metadata": {
    "id": "3dda3001",
    "outputId": "0c8b8c91-6cb8-4ac2-e8f5-7abb10227320"
   },
   "outputs": [
    {
     "data": {
      "image/png": "[encoded data removed]",
      "text/plain": [
       "<Figure size 300x200 with 1 Axes>"
      ]
     },
     "metadata": {},
     "output_type": "display_data"
    }
   ],
   "source": [
    "test_labels = predictions[:ntest].astype(bool)\n",
    "test_inputs = inputs[:ntest]\n",
    "fig, ax = plt.subplots(1, 1, figsize=(3, 2))\n",
    "_ = ax.scatter(test_inputs[test_labels, 0], test_inputs[test_labels, 1])\n",
    "_ = ax.scatter(test_inputs[~test_labels, 0], test_inputs[~test_labels, 1])"
   ]
  },
  {
   "cell_type": "markdown",
   "id": "65efe139",
   "metadata": {
    "id": "c040fa0d"
   },
   "source": [
    "Indeed, the network successfully classifies the patterns! Congrats!"
   ]
  },
  {
   "cell_type": "markdown",
   "id": "8559623c",
   "metadata": {
    "id": "307d2c1e"
   },
   "source": [
    "### Tasks for participants\n",
    "\n",
    "1) Add another trainable parameter: the reversal potential of the leak channel `Leak_eLeak`. The parameter should be shared across the entire network. Remember to also add it to the parameter transform (bounds [-90, -50]).  \n",
    "2) Increase the number of epochs that the network is trained for. Observe how the final accuracy changes when training for more epochs.  "
   ]
  },
  {
   "cell_type": "markdown",
   "id": "b9726388",
   "metadata": {
    "id": "b26de3d9"
   },
   "source": [
    "# Summary"
   ]
  },
  {
   "cell_type": "markdown",
   "id": "1607507d",
   "metadata": {
    "id": "fd786965"
   },
   "source": [
    "In this tutorial, we introduced Jaxley and how to build biophysical models. More (and very similar) information can be found in our tutorials online:\n",
    "- [API basics](https://github.com/jaxleyverse/jaxley/blob/main/docs/tutorials/00_jaxley_api.ipynb)\n",
    "- [Single-cells with morphology](https://github.com/jaxleyverse/jaxley/blob/main/docs/tutorials/01_morph_neurons.ipynb)\n",
    "- [Small networks](https://github.com/jaxleyverse/jaxley/blob/main/docs/tutorials/02_small_network.ipynb)\n",
    "- [Speeding up simulations with jit and vmap](https://github.com/jaxleyverse/jaxley/blob/main/docs/tutorials/04_jit_and_vmap.ipynb)\n",
    "- [Channel and synapse models](https://github.com/jaxleyverse/jaxley/blob/main/docs/tutorials/05_channel_and_synapse_models.ipynb)\n",
    "- [Grouping modules](https://github.com/jaxleyverse/jaxley/blob/main/docs/tutorials/06_groups.ipynb)\n",
    "\n",
    "The tutorial on training biophysical models with `Jaxley` closely followed our [gradient descent tutorial](https://github.com/jaxleyverse/jaxley/blob/main/docs/tutorials/07_gradient_descent.ipynb) online.\n",
    "\n",
    "If you want to learn more, check out our [Advanced Tutorials](https://jaxley.readthedocs.io/en/latest/advanced_tutorials.html), have a look at our [paper](https://www.biorxiv.org/content/10.1101/2024.08.21.608979v1.abstract), and/or come visit one of our posters at CNS:\n",
    "- Poster session 1 P065: Jaxley: Differentiable simulation enables large-scale training of detailed biophysical models of neural dynamics\n",
    "- Poster session 2 P125: Modeling the biophysics of computation in the outer plexiform layer of the mouse retina\n",
    "\n",
    "If you have any further questions, feel free to post on our [discussion forum](https://github.com/jaxleyverse/jaxley/discussions). Happy coding!"
   ]
  }
 ],
 "metadata": {
  "colab": {
   "provenance": []
  },
  "kernelspec": {
   "display_name": "Python 3 (ipykernel)",
   "language": "python",
   "name": "python3"
  },
  "language_info": {
   "codemirror_mode": {
    "name": "ipython",
    "version": 3
   },
   "file_extension": ".py",
   "mimetype": "text/x-python",
   "name": "python",
   "nbconvert_exporter": "python",
   "pygments_lexer": "ipython3",
   "version": "3.12.4"
  }
 },
 "nbformat": 4,
 "nbformat_minor": 5
}
