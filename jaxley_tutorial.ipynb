{
 "cells": [
  {
   "cell_type": "markdown",
   "id": "34638be1",
   "metadata": {},
   "source": [
    "# Building single-cell and network models in Jaxley"
   ]
  },
  {
   "cell_type": "markdown",
   "id": "f1676f2b",
   "metadata": {},
   "source": [
    "In this first section of the tutorial, you will learn the basics of Jaxley and how to build single-cell and network models. We will cover:\n",
    "- Modules (e.g., `Cell`, `Network`)\n",
    "    - nodes\n",
    "    - edges\n",
    "- Views\n",
    "    - Groups\n",
    "- Channels\n",
    "- Synapses\n",
    "- How to connect neurons to form a network  \n",
    "- Visualizing networks  \n",
    "- Inspecting and changing synaptic parameters\n"
   ]
  },
  {
   "cell_type": "markdown",
   "id": "a8cdfde6",
   "metadata": {},
   "source": [
    "Some typical imports for using jaxley including jaxley itself are as follows. We will use these functions for the first section of our tutorial."
   ]
  },
  {
   "cell_type": "code",
   "execution_count": 1,
   "id": "477c7657",
   "metadata": {},
   "outputs": [],
   "source": [
    "from jax import config\n",
    "config.update(\"jax_enable_x64\", True)\n",
    "config.update(\"jax_platform_name\", \"cpu\")\n",
    "\n",
    "import jaxley as jx\n",
    "from jaxley.channels import Na, K, Leak\n",
    "from jaxley.synapses import IonotropicSynapse\n",
    "from jaxley.connect import connect, fully_connect\n",
    "import matplotlib.pyplot as plt\n",
    "import numpy as np"
   ]
  },
  {
   "cell_type": "markdown",
   "id": "1f8805a0",
   "metadata": {},
   "source": [
    "## Reading a cell from an SWC file"
   ]
  },
  {
   "cell_type": "code",
   "execution_count": 2,
   "id": "7eaaa6ac",
   "metadata": {},
   "outputs": [],
   "source": [
    "cell = jx.read_swc(\"mini_cell.swc\", ncomp=1)"
   ]
  },
  {
   "cell_type": "code",
   "execution_count": 3,
   "id": "d92dd877",
   "metadata": {},
   "outputs": [
    {
     "data": {
      "image/png": "[encoded data removed]",
      "text/plain": [
       "<Figure size 400x400 with 1 Axes>"
      ]
     },
     "metadata": {},
     "output_type": "display_data"
    }
   ],
   "source": [
    "fig, ax = plt.subplots(1, 1, figsize=(4, 4))\n",
    "cell.vis(ax=ax)\n",
    "ax.set_aspect(\"equal\")"
   ]
  },
  {
   "cell_type": "markdown",
   "id": "2eb92a7d",
   "metadata": {},
   "source": [
    "Several `Cell`s can be grouped together to form a `Network`, which can than be connected together using `Synpase`s."
   ]
  },
  {
   "cell_type": "code",
   "execution_count": 4,
   "id": "1ff59a57",
   "metadata": {},
   "outputs": [
    {
     "data": {
      "text/plain": [
       "(2, 8, 8)"
      ]
     },
     "execution_count": 4,
     "metadata": {},
     "output_type": "execute_result"
    }
   ],
   "source": [
    "ncells = 2\n",
    "net = jx.Network([cell]*ncells)\n",
    "\n",
    "net.shape # shows you the num_cells, num_branches, num_comps"
   ]
  },
  {
   "cell_type": "markdown",
   "id": "fdf7a209",
   "metadata": {},
   "source": [
    "Every module tracks information about its current state and parameters in two Dataframes called `nodes` and `edges`.\n",
    "`nodes` contains all the information that we associate with compartments in the model (each row corresponds to one compartment) and `edges` tracks all the information relevant to synapses.\n",
    "\n",
    "This means that you can easily keep track of the current state of your `Module` and how it changes at all times."
   ]
  },
  {
   "cell_type": "code",
   "execution_count": 5,
   "id": "60b09e54",
   "metadata": {},
   "outputs": [
    {
     "data": {
      "text/html": [
       "<div>\n",
       "<style scoped>\n",
       "    .dataframe tbody tr th:only-of-type {\n",
       "        vertical-align: middle;\n",
       "    }\n",
       "\n",
       "    .dataframe tbody tr th {\n",
       "        vertical-align: top;\n",
       "    }\n",
       "\n",
       "    .dataframe thead th {\n",
       "        text-align: right;\n",
       "    }\n",
       "</style>\n",
       "<table border=\"1\" class=\"dataframe\">\n",
       "  <thead>\n",
       "    <tr style=\"text-align: right;\">\n",
       "      <th></th>\n",
       "      <th>local_cell_index</th>\n",
       "      <th>local_branch_index</th>\n",
       "      <th>local_comp_index</th>\n",
       "      <th>length</th>\n",
       "      <th>radius</th>\n",
       "      <th>axial_resistivity</th>\n",
       "      <th>capacitance</th>\n",
       "      <th>v</th>\n",
       "      <th>x</th>\n",
       "      <th>y</th>\n",
       "      <th>z</th>\n",
       "      <th>basal</th>\n",
       "      <th>soma</th>\n",
       "      <th>global_cell_index</th>\n",
       "      <th>global_branch_index</th>\n",
       "      <th>global_comp_index</th>\n",
       "      <th>controlled_by_param</th>\n",
       "    </tr>\n",
       "  </thead>\n",
       "  <tbody>\n",
       "    <tr>\n",
       "      <th>0</th>\n",
       "      <td>0</td>\n",
       "      <td>0</td>\n",
       "      <td>0</td>\n",
       "      <td>40.000000</td>\n",
       "      <td>20.0</td>\n",
       "      <td>5000.0</td>\n",
       "      <td>1.0</td>\n",
       "      <td>-70.0</td>\n",
       "      <td>0.0</td>\n",
       "      <td>0.0</td>\n",
       "      <td>0.0</td>\n",
       "      <td>False</td>\n",
       "      <td>True</td>\n",
       "      <td>0</td>\n",
       "      <td>0</td>\n",
       "      <td>0</td>\n",
       "      <td>0</td>\n",
       "    </tr>\n",
       "    <tr>\n",
       "      <th>1</th>\n",
       "      <td>0</td>\n",
       "      <td>1</td>\n",
       "      <td>0</td>\n",
       "      <td>480.000000</td>\n",
       "      <td>0.2</td>\n",
       "      <td>5000.0</td>\n",
       "      <td>1.0</td>\n",
       "      <td>-70.0</td>\n",
       "      <td>260.0</td>\n",
       "      <td>0.0</td>\n",
       "      <td>0.0</td>\n",
       "      <td>True</td>\n",
       "      <td>False</td>\n",
       "      <td>0</td>\n",
       "      <td>1</td>\n",
       "      <td>1</td>\n",
       "      <td>0</td>\n",
       "    </tr>\n",
       "    <tr>\n",
       "      <th>2</th>\n",
       "      <td>0</td>\n",
       "      <td>2</td>\n",
       "      <td>0</td>\n",
       "      <td>282.842712</td>\n",
       "      <td>0.2</td>\n",
       "      <td>5000.0</td>\n",
       "      <td>1.0</td>\n",
       "      <td>-70.0</td>\n",
       "      <td>600.0</td>\n",
       "      <td>100.0</td>\n",
       "      <td>0.0</td>\n",
       "      <td>True</td>\n",
       "      <td>False</td>\n",
       "      <td>0</td>\n",
       "      <td>2</td>\n",
       "      <td>2</td>\n",
       "      <td>0</td>\n",
       "    </tr>\n",
       "    <tr>\n",
       "      <th>3</th>\n",
       "      <td>0</td>\n",
       "      <td>3</td>\n",
       "      <td>0</td>\n",
       "      <td>282.842712</td>\n",
       "      <td>0.2</td>\n",
       "      <td>5000.0</td>\n",
       "      <td>1.0</td>\n",
       "      <td>-70.0</td>\n",
       "      <td>600.0</td>\n",
       "      <td>-100.0</td>\n",
       "      <td>0.0</td>\n",
       "      <td>True</td>\n",
       "      <td>False</td>\n",
       "      <td>0</td>\n",
       "      <td>3</td>\n",
       "      <td>3</td>\n",
       "      <td>0</td>\n",
       "    </tr>\n",
       "    <tr>\n",
       "      <th>6</th>\n",
       "      <td>1</td>\n",
       "      <td>0</td>\n",
       "      <td>0</td>\n",
       "      <td>40.000000</td>\n",
       "      <td>20.0</td>\n",
       "      <td>5000.0</td>\n",
       "      <td>1.0</td>\n",
       "      <td>-70.0</td>\n",
       "      <td>0.0</td>\n",
       "      <td>0.0</td>\n",
       "      <td>0.0</td>\n",
       "      <td>False</td>\n",
       "      <td>True</td>\n",
       "      <td>1</td>\n",
       "      <td>4</td>\n",
       "      <td>4</td>\n",
       "      <td>0</td>\n",
       "    </tr>\n",
       "    <tr>\n",
       "      <th>7</th>\n",
       "      <td>1</td>\n",
       "      <td>1</td>\n",
       "      <td>0</td>\n",
       "      <td>480.000000</td>\n",
       "      <td>0.2</td>\n",
       "      <td>5000.0</td>\n",
       "      <td>1.0</td>\n",
       "      <td>-70.0</td>\n",
       "      <td>260.0</td>\n",
       "      <td>0.0</td>\n",
       "      <td>0.0</td>\n",
       "      <td>True</td>\n",
       "      <td>False</td>\n",
       "      <td>1</td>\n",
       "      <td>5</td>\n",
       "      <td>5</td>\n",
       "      <td>0</td>\n",
       "    </tr>\n",
       "    <tr>\n",
       "      <th>8</th>\n",
       "      <td>1</td>\n",
       "      <td>2</td>\n",
       "      <td>0</td>\n",
       "      <td>282.842712</td>\n",
       "      <td>0.2</td>\n",
       "      <td>5000.0</td>\n",
       "      <td>1.0</td>\n",
       "      <td>-70.0</td>\n",
       "      <td>600.0</td>\n",
       "      <td>100.0</td>\n",
       "      <td>0.0</td>\n",
       "      <td>True</td>\n",
       "      <td>False</td>\n",
       "      <td>1</td>\n",
       "      <td>6</td>\n",
       "      <td>6</td>\n",
       "      <td>0</td>\n",
       "    </tr>\n",
       "    <tr>\n",
       "      <th>9</th>\n",
       "      <td>1</td>\n",
       "      <td>3</td>\n",
       "      <td>0</td>\n",
       "      <td>282.842712</td>\n",
       "      <td>0.2</td>\n",
       "      <td>5000.0</td>\n",
       "      <td>1.0</td>\n",
       "      <td>-70.0</td>\n",
       "      <td>600.0</td>\n",
       "      <td>-100.0</td>\n",
       "      <td>0.0</td>\n",
       "      <td>True</td>\n",
       "      <td>False</td>\n",
       "      <td>1</td>\n",
       "      <td>7</td>\n",
       "      <td>7</td>\n",
       "      <td>0</td>\n",
       "    </tr>\n",
       "  </tbody>\n",
       "</table>\n",
       "</div>"
      ],
      "text/plain": [
       "   local_cell_index  local_branch_index  local_comp_index      length  radius  \\\n",
       "0                 0                   0                 0   40.000000    20.0   \n",
       "1                 0                   1                 0  480.000000     0.2   \n",
       "2                 0                   2                 0  282.842712     0.2   \n",
       "3                 0                   3                 0  282.842712     0.2   \n",
       "6                 1                   0                 0   40.000000    20.0   \n",
       "7                 1                   1                 0  480.000000     0.2   \n",
       "8                 1                   2                 0  282.842712     0.2   \n",
       "9                 1                   3                 0  282.842712     0.2   \n",
       "\n",
       "   axial_resistivity  capacitance     v      x      y    z  basal   soma  \\\n",
       "0             5000.0          1.0 -70.0    0.0    0.0  0.0  False   True   \n",
       "1             5000.0          1.0 -70.0  260.0    0.0  0.0   True  False   \n",
       "2             5000.0          1.0 -70.0  600.0  100.0  0.0   True  False   \n",
       "3             5000.0          1.0 -70.0  600.0 -100.0  0.0   True  False   \n",
       "6             5000.0          1.0 -70.0    0.0    0.0  0.0  False   True   \n",
       "7             5000.0          1.0 -70.0  260.0    0.0  0.0   True  False   \n",
       "8             5000.0          1.0 -70.0  600.0  100.0  0.0   True  False   \n",
       "9             5000.0          1.0 -70.0  600.0 -100.0  0.0   True  False   \n",
       "\n",
       "   global_cell_index  global_branch_index  global_comp_index  \\\n",
       "0                  0                    0                  0   \n",
       "1                  0                    1                  1   \n",
       "2                  0                    2                  2   \n",
       "3                  0                    3                  3   \n",
       "6                  1                    4                  4   \n",
       "7                  1                    5                  5   \n",
       "8                  1                    6                  6   \n",
       "9                  1                    7                  7   \n",
       "\n",
       "   controlled_by_param  \n",
       "0                    0  \n",
       "1                    0  \n",
       "2                    0  \n",
       "3                    0  \n",
       "6                    0  \n",
       "7                    0  \n",
       "8                    0  \n",
       "9                    0  "
      ]
     },
     "execution_count": 5,
     "metadata": {},
     "output_type": "execute_result"
    }
   ],
   "source": [
    "net.nodes"
   ]
  },
  {
   "cell_type": "code",
   "execution_count": 6,
   "id": "1a8948e5",
   "metadata": {},
   "outputs": [
    {
     "data": {
      "text/html": [
       "<div>\n",
       "<style scoped>\n",
       "    .dataframe tbody tr th:only-of-type {\n",
       "        vertical-align: middle;\n",
       "    }\n",
       "\n",
       "    .dataframe tbody tr th {\n",
       "        vertical-align: top;\n",
       "    }\n",
       "\n",
       "    .dataframe thead th {\n",
       "        text-align: right;\n",
       "    }\n",
       "</style>\n",
       "<table border=\"1\" class=\"dataframe\">\n",
       "  <thead>\n",
       "    <tr style=\"text-align: right;\">\n",
       "      <th></th>\n",
       "      <th>global_edge_index</th>\n",
       "      <th>index_within_type</th>\n",
       "      <th>pre_index</th>\n",
       "      <th>post_index</th>\n",
       "      <th>pre_locs</th>\n",
       "      <th>post_locs</th>\n",
       "      <th>type</th>\n",
       "      <th>type_ind</th>\n",
       "    </tr>\n",
       "  </thead>\n",
       "  <tbody>\n",
       "  </tbody>\n",
       "</table>\n",
       "</div>"
      ],
      "text/plain": [
       "Empty DataFrame\n",
       "Columns: [global_edge_index, index_within_type, pre_index, post_index, pre_locs, post_locs, type, type_ind]\n",
       "Index: []"
      ]
     },
     "execution_count": 6,
     "metadata": {},
     "output_type": "execute_result"
    }
   ],
   "source": [
    "net.edges.head() # this is currently empty since we have not made any connections yet"
   ]
  },
  {
   "cell_type": "markdown",
   "id": "77e60424",
   "metadata": {},
   "source": [
    "## Views"
   ]
  },
  {
   "cell_type": "markdown",
   "id": "228f69d3",
   "metadata": {},
   "source": [
    "Since Modules (such as this `Network` or `Cell`) can become very complex, Jaxley utilizes so called `View`s to make working with them easy and intuitive. \n",
    "\n",
    "The simplest way to navigate Modules is by navigating them via the hierachy that we introduced above. A `View` is what you get when you index into the module. For example, for a `Network`:"
   ]
  },
  {
   "cell_type": "code",
   "execution_count": 7,
   "id": "82ffb734",
   "metadata": {},
   "outputs": [
    {
     "data": {
      "text/plain": [
       "View with 0 different channels. Use `.nodes` for details."
      ]
     },
     "execution_count": 7,
     "metadata": {},
     "output_type": "execute_result"
    }
   ],
   "source": [
    "net.cell(0)"
   ]
  },
  {
   "cell_type": "markdown",
   "id": "c656b702",
   "metadata": {},
   "source": [
    "Views behave very similarly to `Module`s, i.e. `net.cell(0)` (the 0th cell of the network) behaves like the `cell` we instantiated earlier. As such, `net.cell(0)` also has a `nodes` attribute, which keeps track of its part of the network:"
   ]
  },
  {
   "cell_type": "code",
   "execution_count": 8,
   "id": "2c573132",
   "metadata": {},
   "outputs": [
    {
     "data": {
      "text/html": [
       "<div>\n",
       "<style scoped>\n",
       "    .dataframe tbody tr th:only-of-type {\n",
       "        vertical-align: middle;\n",
       "    }\n",
       "\n",
       "    .dataframe tbody tr th {\n",
       "        vertical-align: top;\n",
       "    }\n",
       "\n",
       "    .dataframe thead th {\n",
       "        text-align: right;\n",
       "    }\n",
       "</style>\n",
       "<table border=\"1\" class=\"dataframe\">\n",
       "  <thead>\n",
       "    <tr style=\"text-align: right;\">\n",
       "      <th></th>\n",
       "      <th>local_cell_index</th>\n",
       "      <th>local_branch_index</th>\n",
       "      <th>local_comp_index</th>\n",
       "      <th>length</th>\n",
       "      <th>radius</th>\n",
       "      <th>axial_resistivity</th>\n",
       "      <th>capacitance</th>\n",
       "      <th>v</th>\n",
       "      <th>x</th>\n",
       "      <th>y</th>\n",
       "      <th>z</th>\n",
       "      <th>basal</th>\n",
       "      <th>soma</th>\n",
       "      <th>global_cell_index</th>\n",
       "      <th>global_branch_index</th>\n",
       "      <th>global_comp_index</th>\n",
       "      <th>controlled_by_param</th>\n",
       "    </tr>\n",
       "  </thead>\n",
       "  <tbody>\n",
       "    <tr>\n",
       "      <th>0</th>\n",
       "      <td>0</td>\n",
       "      <td>0</td>\n",
       "      <td>0</td>\n",
       "      <td>40.000000</td>\n",
       "      <td>20.0</td>\n",
       "      <td>5000.0</td>\n",
       "      <td>1.0</td>\n",
       "      <td>-70.0</td>\n",
       "      <td>0.0</td>\n",
       "      <td>0.0</td>\n",
       "      <td>0.0</td>\n",
       "      <td>False</td>\n",
       "      <td>True</td>\n",
       "      <td>0</td>\n",
       "      <td>0</td>\n",
       "      <td>0</td>\n",
       "      <td>0</td>\n",
       "    </tr>\n",
       "    <tr>\n",
       "      <th>1</th>\n",
       "      <td>0</td>\n",
       "      <td>1</td>\n",
       "      <td>0</td>\n",
       "      <td>480.000000</td>\n",
       "      <td>0.2</td>\n",
       "      <td>5000.0</td>\n",
       "      <td>1.0</td>\n",
       "      <td>-70.0</td>\n",
       "      <td>260.0</td>\n",
       "      <td>0.0</td>\n",
       "      <td>0.0</td>\n",
       "      <td>True</td>\n",
       "      <td>False</td>\n",
       "      <td>0</td>\n",
       "      <td>1</td>\n",
       "      <td>1</td>\n",
       "      <td>0</td>\n",
       "    </tr>\n",
       "    <tr>\n",
       "      <th>2</th>\n",
       "      <td>0</td>\n",
       "      <td>2</td>\n",
       "      <td>0</td>\n",
       "      <td>282.842712</td>\n",
       "      <td>0.2</td>\n",
       "      <td>5000.0</td>\n",
       "      <td>1.0</td>\n",
       "      <td>-70.0</td>\n",
       "      <td>600.0</td>\n",
       "      <td>100.0</td>\n",
       "      <td>0.0</td>\n",
       "      <td>True</td>\n",
       "      <td>False</td>\n",
       "      <td>0</td>\n",
       "      <td>2</td>\n",
       "      <td>2</td>\n",
       "      <td>0</td>\n",
       "    </tr>\n",
       "    <tr>\n",
       "      <th>3</th>\n",
       "      <td>0</td>\n",
       "      <td>3</td>\n",
       "      <td>0</td>\n",
       "      <td>282.842712</td>\n",
       "      <td>0.2</td>\n",
       "      <td>5000.0</td>\n",
       "      <td>1.0</td>\n",
       "      <td>-70.0</td>\n",
       "      <td>600.0</td>\n",
       "      <td>-100.0</td>\n",
       "      <td>0.0</td>\n",
       "      <td>True</td>\n",
       "      <td>False</td>\n",
       "      <td>0</td>\n",
       "      <td>3</td>\n",
       "      <td>3</td>\n",
       "      <td>0</td>\n",
       "    </tr>\n",
       "  </tbody>\n",
       "</table>\n",
       "</div>"
      ],
      "text/plain": [
       "   local_cell_index  local_branch_index  local_comp_index      length  radius  \\\n",
       "0                 0                   0                 0   40.000000    20.0   \n",
       "1                 0                   1                 0  480.000000     0.2   \n",
       "2                 0                   2                 0  282.842712     0.2   \n",
       "3                 0                   3                 0  282.842712     0.2   \n",
       "\n",
       "   axial_resistivity  capacitance     v      x      y    z  basal   soma  \\\n",
       "0             5000.0          1.0 -70.0    0.0    0.0  0.0  False   True   \n",
       "1             5000.0          1.0 -70.0  260.0    0.0  0.0   True  False   \n",
       "2             5000.0          1.0 -70.0  600.0  100.0  0.0   True  False   \n",
       "3             5000.0          1.0 -70.0  600.0 -100.0  0.0   True  False   \n",
       "\n",
       "   global_cell_index  global_branch_index  global_comp_index  \\\n",
       "0                  0                    0                  0   \n",
       "1                  0                    1                  1   \n",
       "2                  0                    2                  2   \n",
       "3                  0                    3                  3   \n",
       "\n",
       "   controlled_by_param  \n",
       "0                    0  \n",
       "1                    0  \n",
       "2                    0  \n",
       "3                    0  "
      ]
     },
     "execution_count": 8,
     "metadata": {},
     "output_type": "execute_result"
    }
   ],
   "source": [
    "net.cell(0).nodes"
   ]
  },
  {
   "cell_type": "markdown",
   "id": "7eba149d",
   "metadata": {},
   "source": [
    "Let's use `View`s to visualize only parts of the `Network`."
   ]
  },
  {
   "cell_type": "code",
   "execution_count": 9,
   "id": "d778b9a3",
   "metadata": {},
   "outputs": [],
   "source": [
    "# Move cells (since they are placed on top of each other by default).\n",
    "net.cell(0).move_to(y=500)"
   ]
  },
  {
   "cell_type": "markdown",
   "id": "6863f962",
   "metadata": {},
   "source": [
    "We can now visualize the entire `net` (i.e., the entire `Module`) with the `.vis()` method..."
   ]
  },
  {
   "cell_type": "code",
   "execution_count": 10,
   "id": "48a15e1f",
   "metadata": {},
   "outputs": [
    {
     "data": {
      "image/png": "[encoded data removed]",
      "text/plain": [
       "<Figure size 300x300 with 1 Axes>"
      ]
     },
     "metadata": {},
     "output_type": "display_data"
    }
   ],
   "source": [
    "# We can use the vis function to visualize Modules.\n",
    "fig, ax = plt.subplots(1, 1, figsize=(3, 3))\n",
    "net.vis(ax=ax)\n",
    "ax.set_aspect(\"equal\")"
   ]
  },
  {
   "cell_type": "markdown",
   "id": "58b10796",
   "metadata": {},
   "source": [
    "...but we can also create a `View` to visualize only parts of the `Net`:"
   ]
  },
  {
   "cell_type": "code",
   "execution_count": 11,
   "id": "6833544f",
   "metadata": {},
   "outputs": [
    {
     "data": {
      "image/png": "[encoded data removed]",
      "text/plain": [
       "<Figure size 300x300 with 1 Axes>"
      ]
     },
     "metadata": {},
     "output_type": "display_data"
    }
   ],
   "source": [
    "# ... and Views\n",
    "fig, ax = plt.subplots(1,1, figsize=(3,3))\n",
    "net.cell(0).vis(ax=ax, color=\"blue\")  # View of the 0th cell of the network\n",
    "net.cell(1).vis(ax=ax, color=\"red\")  # View of the 1st cell of the network\n",
    "\n",
    "net.cell(0).branch(0).vis(ax=ax, color=\"green\")  # View of the 1st branch of the 0th cell of the network\n",
    "ax.set_aspect(\"equal\")"
   ]
  },
  {
   "cell_type": "markdown",
   "id": "0749b8ad",
   "metadata": {},
   "source": [
    "More information on creating views can be found in our [jaxley tutorial](https://github.com/jaxleyverse/jaxley/blob/main/docs/tutorials/00_jaxley_api.ipynb)."
   ]
  },
  {
   "cell_type": "markdown",
   "id": "7c04375e",
   "metadata": {},
   "source": [
    "## Channels"
   ]
  },
  {
   "cell_type": "markdown",
   "id": "ae1167a8",
   "metadata": {},
   "source": [
    "The `Module`s that we have created above will not do anything interesting, since by default `Jaxley` initializes them without any mechanisms in the membrane. To change this, we have to insert channels into the membrane. For this purpose `Jaxley` implements `Channel`s that can be inserted into any compartment using the `insert` method of a `Module` or a `View`:"
   ]
  },
  {
   "cell_type": "code",
   "execution_count": 12,
   "id": "e375294d",
   "metadata": {},
   "outputs": [
    {
     "data": {
      "text/html": [
       "<div>\n",
       "<style scoped>\n",
       "    .dataframe tbody tr th:only-of-type {\n",
       "        vertical-align: middle;\n",
       "    }\n",
       "\n",
       "    .dataframe tbody tr th {\n",
       "        vertical-align: top;\n",
       "    }\n",
       "\n",
       "    .dataframe thead th {\n",
       "        text-align: right;\n",
       "    }\n",
       "</style>\n",
       "<table border=\"1\" class=\"dataframe\">\n",
       "  <thead>\n",
       "    <tr style=\"text-align: right;\">\n",
       "      <th></th>\n",
       "      <th>local_cell_index</th>\n",
       "      <th>local_branch_index</th>\n",
       "      <th>local_comp_index</th>\n",
       "      <th>length</th>\n",
       "      <th>radius</th>\n",
       "      <th>axial_resistivity</th>\n",
       "      <th>capacitance</th>\n",
       "      <th>v</th>\n",
       "      <th>x</th>\n",
       "      <th>y</th>\n",
       "      <th>z</th>\n",
       "      <th>basal</th>\n",
       "      <th>soma</th>\n",
       "      <th>global_cell_index</th>\n",
       "      <th>global_branch_index</th>\n",
       "      <th>global_comp_index</th>\n",
       "      <th>controlled_by_param</th>\n",
       "      <th>Leak</th>\n",
       "      <th>Leak_gLeak</th>\n",
       "      <th>Leak_eLeak</th>\n",
       "    </tr>\n",
       "  </thead>\n",
       "  <tbody>\n",
       "    <tr>\n",
       "      <th>0</th>\n",
       "      <td>0</td>\n",
       "      <td>0</td>\n",
       "      <td>0</td>\n",
       "      <td>40.000000</td>\n",
       "      <td>20.0</td>\n",
       "      <td>5000.0</td>\n",
       "      <td>1.0</td>\n",
       "      <td>-70.0</td>\n",
       "      <td>0.0</td>\n",
       "      <td>0.0</td>\n",
       "      <td>0.0</td>\n",
       "      <td>False</td>\n",
       "      <td>True</td>\n",
       "      <td>0</td>\n",
       "      <td>0</td>\n",
       "      <td>0</td>\n",
       "      <td>0</td>\n",
       "      <td>True</td>\n",
       "      <td>0.0001</td>\n",
       "      <td>-70.0</td>\n",
       "    </tr>\n",
       "    <tr>\n",
       "      <th>1</th>\n",
       "      <td>0</td>\n",
       "      <td>1</td>\n",
       "      <td>0</td>\n",
       "      <td>480.000000</td>\n",
       "      <td>0.2</td>\n",
       "      <td>5000.0</td>\n",
       "      <td>1.0</td>\n",
       "      <td>-70.0</td>\n",
       "      <td>260.0</td>\n",
       "      <td>0.0</td>\n",
       "      <td>0.0</td>\n",
       "      <td>True</td>\n",
       "      <td>False</td>\n",
       "      <td>0</td>\n",
       "      <td>1</td>\n",
       "      <td>1</td>\n",
       "      <td>0</td>\n",
       "      <td>True</td>\n",
       "      <td>0.0001</td>\n",
       "      <td>-70.0</td>\n",
       "    </tr>\n",
       "    <tr>\n",
       "      <th>2</th>\n",
       "      <td>0</td>\n",
       "      <td>2</td>\n",
       "      <td>0</td>\n",
       "      <td>282.842712</td>\n",
       "      <td>0.2</td>\n",
       "      <td>5000.0</td>\n",
       "      <td>1.0</td>\n",
       "      <td>-70.0</td>\n",
       "      <td>600.0</td>\n",
       "      <td>100.0</td>\n",
       "      <td>0.0</td>\n",
       "      <td>True</td>\n",
       "      <td>False</td>\n",
       "      <td>0</td>\n",
       "      <td>2</td>\n",
       "      <td>2</td>\n",
       "      <td>0</td>\n",
       "      <td>True</td>\n",
       "      <td>0.0001</td>\n",
       "      <td>-70.0</td>\n",
       "    </tr>\n",
       "    <tr>\n",
       "      <th>3</th>\n",
       "      <td>0</td>\n",
       "      <td>3</td>\n",
       "      <td>0</td>\n",
       "      <td>282.842712</td>\n",
       "      <td>0.2</td>\n",
       "      <td>5000.0</td>\n",
       "      <td>1.0</td>\n",
       "      <td>-70.0</td>\n",
       "      <td>600.0</td>\n",
       "      <td>-100.0</td>\n",
       "      <td>0.0</td>\n",
       "      <td>True</td>\n",
       "      <td>False</td>\n",
       "      <td>0</td>\n",
       "      <td>3</td>\n",
       "      <td>3</td>\n",
       "      <td>0</td>\n",
       "      <td>True</td>\n",
       "      <td>0.0001</td>\n",
       "      <td>-70.0</td>\n",
       "    </tr>\n",
       "    <tr>\n",
       "      <th>6</th>\n",
       "      <td>1</td>\n",
       "      <td>0</td>\n",
       "      <td>0</td>\n",
       "      <td>40.000000</td>\n",
       "      <td>20.0</td>\n",
       "      <td>5000.0</td>\n",
       "      <td>1.0</td>\n",
       "      <td>-70.0</td>\n",
       "      <td>0.0</td>\n",
       "      <td>0.0</td>\n",
       "      <td>0.0</td>\n",
       "      <td>False</td>\n",
       "      <td>True</td>\n",
       "      <td>1</td>\n",
       "      <td>4</td>\n",
       "      <td>4</td>\n",
       "      <td>0</td>\n",
       "      <td>True</td>\n",
       "      <td>0.0001</td>\n",
       "      <td>-70.0</td>\n",
       "    </tr>\n",
       "  </tbody>\n",
       "</table>\n",
       "</div>"
      ],
      "text/plain": [
       "   local_cell_index  local_branch_index  local_comp_index      length  radius  \\\n",
       "0                 0                   0                 0   40.000000    20.0   \n",
       "1                 0                   1                 0  480.000000     0.2   \n",
       "2                 0                   2                 0  282.842712     0.2   \n",
       "3                 0                   3                 0  282.842712     0.2   \n",
       "6                 1                   0                 0   40.000000    20.0   \n",
       "\n",
       "   axial_resistivity  capacitance     v      x      y    z  basal   soma  \\\n",
       "0             5000.0          1.0 -70.0    0.0    0.0  0.0  False   True   \n",
       "1             5000.0          1.0 -70.0  260.0    0.0  0.0   True  False   \n",
       "2             5000.0          1.0 -70.0  600.0  100.0  0.0   True  False   \n",
       "3             5000.0          1.0 -70.0  600.0 -100.0  0.0   True  False   \n",
       "6             5000.0          1.0 -70.0    0.0    0.0  0.0  False   True   \n",
       "\n",
       "   global_cell_index  global_branch_index  global_comp_index  \\\n",
       "0                  0                    0                  0   \n",
       "1                  0                    1                  1   \n",
       "2                  0                    2                  2   \n",
       "3                  0                    3                  3   \n",
       "6                  1                    4                  4   \n",
       "\n",
       "   controlled_by_param  Leak  Leak_gLeak  Leak_eLeak  \n",
       "0                    0  True      0.0001       -70.0  \n",
       "1                    0  True      0.0001       -70.0  \n",
       "2                    0  True      0.0001       -70.0  \n",
       "3                    0  True      0.0001       -70.0  \n",
       "6                    0  True      0.0001       -70.0  "
      ]
     },
     "execution_count": 12,
     "metadata": {},
     "output_type": "execute_result"
    }
   ],
   "source": [
    "# insert a Leak channel into all compartments in the Module.\n",
    "net.insert(Leak())\n",
    "net.nodes.head() # Channel parameters are now also added to `nodes`."
   ]
  },
  {
   "cell_type": "markdown",
   "id": "b46cfac0",
   "metadata": {},
   "source": [
    "This is also were `View`s come in handy, as it allows to easily target the insertion of channels to specific compartments."
   ]
  },
  {
   "cell_type": "code",
   "execution_count": 13,
   "id": "98952a93",
   "metadata": {},
   "outputs": [
    {
     "data": {
      "text/html": [
       "<div>\n",
       "<style scoped>\n",
       "    .dataframe tbody tr th:only-of-type {\n",
       "        vertical-align: middle;\n",
       "    }\n",
       "\n",
       "    .dataframe tbody tr th {\n",
       "        vertical-align: top;\n",
       "    }\n",
       "\n",
       "    .dataframe thead th {\n",
       "        text-align: right;\n",
       "    }\n",
       "</style>\n",
       "<table border=\"1\" class=\"dataframe\">\n",
       "  <thead>\n",
       "    <tr style=\"text-align: right;\">\n",
       "      <th></th>\n",
       "      <th>global_cell_index</th>\n",
       "      <th>Na</th>\n",
       "      <th>K</th>\n",
       "      <th>Leak</th>\n",
       "    </tr>\n",
       "  </thead>\n",
       "  <tbody>\n",
       "    <tr>\n",
       "      <th>0</th>\n",
       "      <td>0</td>\n",
       "      <td>True</td>\n",
       "      <td>True</td>\n",
       "      <td>True</td>\n",
       "    </tr>\n",
       "    <tr>\n",
       "      <th>6</th>\n",
       "      <td>1</td>\n",
       "      <td>False</td>\n",
       "      <td>False</td>\n",
       "      <td>True</td>\n",
       "    </tr>\n",
       "  </tbody>\n",
       "</table>\n",
       "</div>"
      ],
      "text/plain": [
       "   global_cell_index     Na      K  Leak\n",
       "0                  0   True   True  True\n",
       "6                  1  False  False  True"
      ]
     },
     "execution_count": 13,
     "metadata": {},
     "output_type": "execute_result"
    }
   ],
   "source": [
    "# inserting several channels into parts of the network\n",
    "with net.cell(0) as cell0:\n",
    "    cell0.insert(Na())\n",
    "    cell0.insert(K())\n",
    "\n",
    "# # The above is equivalent to:\n",
    "# net.cell(0).insert(Na())\n",
    "# net.cell(0).insert(K())\n",
    "\n",
    "# K and Na channels were only insert into cell 0\n",
    "net.cell(\"all\").branch(0).comp(0).nodes[[\"global_cell_index\", \"Na\", \"K\", \"Leak\"]]"
   ]
  },
  {
   "cell_type": "markdown",
   "id": "22e59ee3",
   "metadata": {},
   "source": [
    "## Synapses"
   ]
  },
  {
   "cell_type": "markdown",
   "id": "46cb27b2",
   "metadata": {},
   "source": [
    "To connect different cells together, Jaxley implements a `connect` method, that can be used to couple 2 compartments together using a `Synapse`. Synapses in Jaxley work only on the compartment level, that means to be able to connect two cells, you need to specify the exact compartments on a given cell to make the connections between. Below is an example of this:"
   ]
  },
  {
   "cell_type": "code",
   "execution_count": 14,
   "id": "30555412",
   "metadata": {},
   "outputs": [
    {
     "data": {
      "text/html": [
       "<div>\n",
       "<style scoped>\n",
       "    .dataframe tbody tr th:only-of-type {\n",
       "        vertical-align: middle;\n",
       "    }\n",
       "\n",
       "    .dataframe tbody tr th {\n",
       "        vertical-align: top;\n",
       "    }\n",
       "\n",
       "    .dataframe thead th {\n",
       "        text-align: right;\n",
       "    }\n",
       "</style>\n",
       "<table border=\"1\" class=\"dataframe\">\n",
       "  <thead>\n",
       "    <tr style=\"text-align: right;\">\n",
       "      <th></th>\n",
       "      <th>global_edge_index</th>\n",
       "      <th>index_within_type</th>\n",
       "      <th>pre_index</th>\n",
       "      <th>post_index</th>\n",
       "      <th>type</th>\n",
       "      <th>type_ind</th>\n",
       "      <th>pre_locs</th>\n",
       "      <th>post_locs</th>\n",
       "      <th>IonotropicSynapse_gS</th>\n",
       "      <th>IonotropicSynapse_e_syn</th>\n",
       "      <th>IonotropicSynapse_k_minus</th>\n",
       "      <th>IonotropicSynapse_v_th</th>\n",
       "      <th>IonotropicSynapse_delta</th>\n",
       "      <th>IonotropicSynapse_s</th>\n",
       "      <th>controlled_by_param</th>\n",
       "    </tr>\n",
       "  </thead>\n",
       "  <tbody>\n",
       "    <tr>\n",
       "      <th>0</th>\n",
       "      <td>0</td>\n",
       "      <td>0</td>\n",
       "      <td>1</td>\n",
       "      <td>6</td>\n",
       "      <td>IonotropicSynapse</td>\n",
       "      <td>0</td>\n",
       "      <td>0.5</td>\n",
       "      <td>0.5</td>\n",
       "      <td>0.0001</td>\n",
       "      <td>0.0</td>\n",
       "      <td>0.025</td>\n",
       "      <td>-35.0</td>\n",
       "      <td>10.0</td>\n",
       "      <td>0.2</td>\n",
       "      <td>0</td>\n",
       "    </tr>\n",
       "  </tbody>\n",
       "</table>\n",
       "</div>"
      ],
      "text/plain": [
       "   global_edge_index  index_within_type  pre_index  post_index  \\\n",
       "0                  0                  0          1           6   \n",
       "\n",
       "                type  type_ind  pre_locs  post_locs  IonotropicSynapse_gS  \\\n",
       "0  IonotropicSynapse         0       0.5        0.5                0.0001   \n",
       "\n",
       "   IonotropicSynapse_e_syn  IonotropicSynapse_k_minus  IonotropicSynapse_v_th  \\\n",
       "0                      0.0                      0.025                   -35.0   \n",
       "\n",
       "   IonotropicSynapse_delta  IonotropicSynapse_s  controlled_by_param  \n",
       "0                     10.0                  0.2                    0  "
      ]
     },
     "execution_count": 14,
     "metadata": {},
     "output_type": "execute_result"
    }
   ],
   "source": [
    "# connecting two cells using a Synapse\n",
    "pre_comp = cell0.branch(1).comp(0)\n",
    "post_comp = net.cell(1).branch(0).comp(0)\n",
    "\n",
    "connect(pre_comp, post_comp, IonotropicSynapse())\n",
    "\n",
    "net.edges"
   ]
  },
  {
   "cell_type": "markdown",
   "id": "edc1a7b9",
   "metadata": {},
   "source": [
    "As you can see above, now the `edges` dataframe is also updated with the information of the newly added synapse. "
   ]
  },
  {
   "cell_type": "markdown",
   "id": "06da77ed",
   "metadata": {},
   "source": [
    "Congrats! You should now have an intuitive understand of how to use Jaxley's API to construct, navigate and manipulate neuron models."
   ]
  },
  {
   "cell_type": "markdown",
   "id": "7b25ab0c",
   "metadata": {},
   "source": [
    "# A small network example"
   ]
  },
  {
   "cell_type": "markdown",
   "id": "c0dcdca7",
   "metadata": {},
   "source": [
    "### Define the network\n",
    "\n",
    "We previously gave a brief introduction to defining cells, but more information can be found in  [another tutorial](https://jaxley.readthedocs.io/en/latest/tutorials/01_morph_neurons.html). Let us re-define the cell from scratch:"
   ]
  },
  {
   "cell_type": "code",
   "execution_count": 85,
   "id": "80bdcb42",
   "metadata": {},
   "outputs": [],
   "source": [
    "cell = jx.read_swc(\"mini_cell.swc\", ncomp=1)"
   ]
  },
  {
   "cell_type": "markdown",
   "id": "3cc11e74",
   "metadata": {},
   "source": [
    "We can assemble multiple cells into a network by using `jx.Network`, which takes a list of `jx.Cell`s. Here, we assemble 11 cells into a network:"
   ]
  },
  {
   "cell_type": "code",
   "execution_count": 86,
   "id": "939b2265",
   "metadata": {},
   "outputs": [],
   "source": [
    "num_cells = 11\n",
    "net = jx.Network([cell for _ in range(num_cells)])"
   ]
  },
  {
   "cell_type": "markdown",
   "id": "01a02a5c",
   "metadata": {},
   "source": [
    "At this point, we can already visualize this network:"
   ]
  },
  {
   "cell_type": "code",
   "execution_count": 87,
   "id": "a7db16d3",
   "metadata": {},
   "outputs": [
    {
     "data": {
      "image/png": "[encoded data removed]",
      "text/plain": [
       "<Figure size 300x600 with 1 Axes>"
      ]
     },
     "metadata": {},
     "output_type": "display_data"
    }
   ],
   "source": [
    "net.rotate(180)\n",
    "net.arrange_in_layers(layers=[10, 1], within_layer_offset=500, between_layer_offset=1000)\n",
    "\n",
    "fig, ax = plt.subplots(1, 1, figsize=(3, 6))\n",
    "_ = net.vis(ax=ax, detail=\"full\")\n",
    "_ = ax.set_aspect(\"equal\")"
   ]
  },
  {
   "cell_type": "markdown",
   "id": "a3d918a7",
   "metadata": {},
   "source": [
    "As you can see, the neurons are not connected yet. Let's fix this by connecting neurons with synapses. We will build a network consisting of two layers: 10 neurons in the input layer and 1 neuron in the output layer.\n",
    "\n",
    "For example, we can use `Jaxley`'s `fully_connect` method to connect these layers:"
   ]
  },
  {
   "cell_type": "code",
   "execution_count": 88,
   "id": "5d926989",
   "metadata": {},
   "outputs": [],
   "source": [
    "pre = net.cell(range(10))\n",
    "post = net.cell(10)\n",
    "fully_connect(pre, post, IonotropicSynapse())"
   ]
  },
  {
   "cell_type": "markdown",
   "id": "b1c84355",
   "metadata": {},
   "source": [
    "Let's visualize this again:"
   ]
  },
  {
   "cell_type": "code",
   "execution_count": 89,
   "id": "ffd34d29",
   "metadata": {},
   "outputs": [
    {
     "data": {
      "image/png": "[encoded data removed]",
      "text/plain": [
       "<Figure size 300x600 with 1 Axes>"
      ]
     },
     "metadata": {},
     "output_type": "display_data"
    }
   ],
   "source": [
    "fig, ax = plt.subplots(1, 1, figsize=(3, 6))\n",
    "_ = net.vis(ax=ax, detail=\"full\")"
   ]
  },
  {
   "cell_type": "markdown",
   "id": "8d12377b",
   "metadata": {},
   "source": [
    "As you can see, the `fully_connect` method inserted one synapse (in blue) from every neuron in the first layer to the output neuron. The `fully_connect` method builds this synapse from the zero-eth compartment and zero-eth branch of the presynaptic neuron onto the zero-eth compartment and zero-eth branch of the postsynaptic neuron by default. Allowing the post-synaptic compartment to be randomly chosen is also possible by setting `random_post_comp=True` in the `fully_connect` call. If you want more control over the pre- and post-synaptic branches, you can use the `connect` method:"
   ]
  },
  {
   "cell_type": "code",
   "execution_count": 90,
   "id": "97e92a05",
   "metadata": {},
   "outputs": [],
   "source": [
    "pre = net.cell(0).branch(2).loc(1.0)\n",
    "post = net.cell(10).branch(1).loc(0.0)\n",
    "connect(pre, post, IonotropicSynapse())"
   ]
  },
  {
   "cell_type": "code",
   "execution_count": 91,
   "id": "3391f732",
   "metadata": {},
   "outputs": [
    {
     "data": {
      "image/png": "[encoded data removed]",
      "text/plain": [
       "<Figure size 300x600 with 1 Axes>"
      ]
     },
     "metadata": {},
     "output_type": "display_data"
    }
   ],
   "source": [
    "fig, ax = plt.subplots(1, 1, figsize=(3, 6))\n",
    "_ = net.vis(ax=ax, detail=\"full\")"
   ]
  },
  {
   "cell_type": "markdown",
   "id": "60ead1da",
   "metadata": {},
   "source": [
    "### Inspecting and changing synaptic parameters"
   ]
  },
  {
   "cell_type": "markdown",
   "id": "6ff6de8b",
   "metadata": {},
   "source": [
    "You can inspect synaptic parameters via the `.edges` attribute:"
   ]
  },
  {
   "cell_type": "code",
   "execution_count": 92,
   "id": "d3b179ca",
   "metadata": {},
   "outputs": [
    {
     "data": {
      "text/html": [
       "<div>\n",
       "<style scoped>\n",
       "    .dataframe tbody tr th:only-of-type {\n",
       "        vertical-align: middle;\n",
       "    }\n",
       "\n",
       "    .dataframe tbody tr th {\n",
       "        vertical-align: top;\n",
       "    }\n",
       "\n",
       "    .dataframe thead th {\n",
       "        text-align: right;\n",
       "    }\n",
       "</style>\n",
       "<table border=\"1\" class=\"dataframe\">\n",
       "  <thead>\n",
       "    <tr style=\"text-align: right;\">\n",
       "      <th></th>\n",
       "      <th>global_edge_index</th>\n",
       "      <th>index_within_type</th>\n",
       "      <th>pre_index</th>\n",
       "      <th>post_index</th>\n",
       "      <th>type</th>\n",
       "      <th>type_ind</th>\n",
       "      <th>pre_locs</th>\n",
       "      <th>post_locs</th>\n",
       "      <th>IonotropicSynapse_gS</th>\n",
       "      <th>IonotropicSynapse_e_syn</th>\n",
       "      <th>IonotropicSynapse_k_minus</th>\n",
       "      <th>IonotropicSynapse_v_th</th>\n",
       "      <th>IonotropicSynapse_delta</th>\n",
       "      <th>IonotropicSynapse_s</th>\n",
       "      <th>controlled_by_param</th>\n",
       "    </tr>\n",
       "  </thead>\n",
       "  <tbody>\n",
       "    <tr>\n",
       "      <th>0</th>\n",
       "      <td>0</td>\n",
       "      <td>0</td>\n",
       "      <td>0</td>\n",
       "      <td>60</td>\n",
       "      <td>IonotropicSynapse</td>\n",
       "      <td>0</td>\n",
       "      <td>0.5</td>\n",
       "      <td>0.5</td>\n",
       "      <td>0.0001</td>\n",
       "      <td>0.0</td>\n",
       "      <td>0.025</td>\n",
       "      <td>-35.0</td>\n",
       "      <td>10.0</td>\n",
       "      <td>0.2</td>\n",
       "      <td>0</td>\n",
       "    </tr>\n",
       "    <tr>\n",
       "      <th>1</th>\n",
       "      <td>1</td>\n",
       "      <td>1</td>\n",
       "      <td>6</td>\n",
       "      <td>60</td>\n",
       "      <td>IonotropicSynapse</td>\n",
       "      <td>0</td>\n",
       "      <td>0.5</td>\n",
       "      <td>0.5</td>\n",
       "      <td>0.0001</td>\n",
       "      <td>0.0</td>\n",
       "      <td>0.025</td>\n",
       "      <td>-35.0</td>\n",
       "      <td>10.0</td>\n",
       "      <td>0.2</td>\n",
       "      <td>0</td>\n",
       "    </tr>\n",
       "    <tr>\n",
       "      <th>2</th>\n",
       "      <td>2</td>\n",
       "      <td>2</td>\n",
       "      <td>12</td>\n",
       "      <td>60</td>\n",
       "      <td>IonotropicSynapse</td>\n",
       "      <td>0</td>\n",
       "      <td>0.5</td>\n",
       "      <td>0.5</td>\n",
       "      <td>0.0001</td>\n",
       "      <td>0.0</td>\n",
       "      <td>0.025</td>\n",
       "      <td>-35.0</td>\n",
       "      <td>10.0</td>\n",
       "      <td>0.2</td>\n",
       "      <td>0</td>\n",
       "    </tr>\n",
       "    <tr>\n",
       "      <th>3</th>\n",
       "      <td>3</td>\n",
       "      <td>3</td>\n",
       "      <td>18</td>\n",
       "      <td>60</td>\n",
       "      <td>IonotropicSynapse</td>\n",
       "      <td>0</td>\n",
       "      <td>0.5</td>\n",
       "      <td>0.5</td>\n",
       "      <td>0.0001</td>\n",
       "      <td>0.0</td>\n",
       "      <td>0.025</td>\n",
       "      <td>-35.0</td>\n",
       "      <td>10.0</td>\n",
       "      <td>0.2</td>\n",
       "      <td>0</td>\n",
       "    </tr>\n",
       "    <tr>\n",
       "      <th>4</th>\n",
       "      <td>4</td>\n",
       "      <td>4</td>\n",
       "      <td>24</td>\n",
       "      <td>60</td>\n",
       "      <td>IonotropicSynapse</td>\n",
       "      <td>0</td>\n",
       "      <td>0.5</td>\n",
       "      <td>0.5</td>\n",
       "      <td>0.0001</td>\n",
       "      <td>0.0</td>\n",
       "      <td>0.025</td>\n",
       "      <td>-35.0</td>\n",
       "      <td>10.0</td>\n",
       "      <td>0.2</td>\n",
       "      <td>0</td>\n",
       "    </tr>\n",
       "    <tr>\n",
       "      <th>5</th>\n",
       "      <td>5</td>\n",
       "      <td>5</td>\n",
       "      <td>30</td>\n",
       "      <td>60</td>\n",
       "      <td>IonotropicSynapse</td>\n",
       "      <td>0</td>\n",
       "      <td>0.5</td>\n",
       "      <td>0.5</td>\n",
       "      <td>0.0001</td>\n",
       "      <td>0.0</td>\n",
       "      <td>0.025</td>\n",
       "      <td>-35.0</td>\n",
       "      <td>10.0</td>\n",
       "      <td>0.2</td>\n",
       "      <td>0</td>\n",
       "    </tr>\n",
       "    <tr>\n",
       "      <th>6</th>\n",
       "      <td>6</td>\n",
       "      <td>6</td>\n",
       "      <td>36</td>\n",
       "      <td>60</td>\n",
       "      <td>IonotropicSynapse</td>\n",
       "      <td>0</td>\n",
       "      <td>0.5</td>\n",
       "      <td>0.5</td>\n",
       "      <td>0.0001</td>\n",
       "      <td>0.0</td>\n",
       "      <td>0.025</td>\n",
       "      <td>-35.0</td>\n",
       "      <td>10.0</td>\n",
       "      <td>0.2</td>\n",
       "      <td>0</td>\n",
       "    </tr>\n",
       "    <tr>\n",
       "      <th>7</th>\n",
       "      <td>7</td>\n",
       "      <td>7</td>\n",
       "      <td>42</td>\n",
       "      <td>60</td>\n",
       "      <td>IonotropicSynapse</td>\n",
       "      <td>0</td>\n",
       "      <td>0.5</td>\n",
       "      <td>0.5</td>\n",
       "      <td>0.0001</td>\n",
       "      <td>0.0</td>\n",
       "      <td>0.025</td>\n",
       "      <td>-35.0</td>\n",
       "      <td>10.0</td>\n",
       "      <td>0.2</td>\n",
       "      <td>0</td>\n",
       "    </tr>\n",
       "    <tr>\n",
       "      <th>8</th>\n",
       "      <td>8</td>\n",
       "      <td>8</td>\n",
       "      <td>48</td>\n",
       "      <td>60</td>\n",
       "      <td>IonotropicSynapse</td>\n",
       "      <td>0</td>\n",
       "      <td>0.5</td>\n",
       "      <td>0.5</td>\n",
       "      <td>0.0001</td>\n",
       "      <td>0.0</td>\n",
       "      <td>0.025</td>\n",
       "      <td>-35.0</td>\n",
       "      <td>10.0</td>\n",
       "      <td>0.2</td>\n",
       "      <td>0</td>\n",
       "    </tr>\n",
       "    <tr>\n",
       "      <th>9</th>\n",
       "      <td>9</td>\n",
       "      <td>9</td>\n",
       "      <td>54</td>\n",
       "      <td>60</td>\n",
       "      <td>IonotropicSynapse</td>\n",
       "      <td>0</td>\n",
       "      <td>0.5</td>\n",
       "      <td>0.5</td>\n",
       "      <td>0.0001</td>\n",
       "      <td>0.0</td>\n",
       "      <td>0.025</td>\n",
       "      <td>-35.0</td>\n",
       "      <td>10.0</td>\n",
       "      <td>0.2</td>\n",
       "      <td>0</td>\n",
       "    </tr>\n",
       "    <tr>\n",
       "      <th>10</th>\n",
       "      <td>10</td>\n",
       "      <td>10</td>\n",
       "      <td>2</td>\n",
       "      <td>61</td>\n",
       "      <td>IonotropicSynapse</td>\n",
       "      <td>0</td>\n",
       "      <td>0.5</td>\n",
       "      <td>0.5</td>\n",
       "      <td>0.0001</td>\n",
       "      <td>0.0</td>\n",
       "      <td>0.025</td>\n",
       "      <td>-35.0</td>\n",
       "      <td>10.0</td>\n",
       "      <td>0.2</td>\n",
       "      <td>0</td>\n",
       "    </tr>\n",
       "  </tbody>\n",
       "</table>\n",
       "</div>"
      ],
      "text/plain": [
       "    global_edge_index  index_within_type  pre_index  post_index  \\\n",
       "0                   0                  0          0          60   \n",
       "1                   1                  1          6          60   \n",
       "2                   2                  2         12          60   \n",
       "3                   3                  3         18          60   \n",
       "4                   4                  4         24          60   \n",
       "5                   5                  5         30          60   \n",
       "6                   6                  6         36          60   \n",
       "7                   7                  7         42          60   \n",
       "8                   8                  8         48          60   \n",
       "9                   9                  9         54          60   \n",
       "10                 10                 10          2          61   \n",
       "\n",
       "                 type  type_ind  pre_locs  post_locs  IonotropicSynapse_gS  \\\n",
       "0   IonotropicSynapse         0       0.5        0.5                0.0001   \n",
       "1   IonotropicSynapse         0       0.5        0.5                0.0001   \n",
       "2   IonotropicSynapse         0       0.5        0.5                0.0001   \n",
       "3   IonotropicSynapse         0       0.5        0.5                0.0001   \n",
       "4   IonotropicSynapse         0       0.5        0.5                0.0001   \n",
       "5   IonotropicSynapse         0       0.5        0.5                0.0001   \n",
       "6   IonotropicSynapse         0       0.5        0.5                0.0001   \n",
       "7   IonotropicSynapse         0       0.5        0.5                0.0001   \n",
       "8   IonotropicSynapse         0       0.5        0.5                0.0001   \n",
       "9   IonotropicSynapse         0       0.5        0.5                0.0001   \n",
       "10  IonotropicSynapse         0       0.5        0.5                0.0001   \n",
       "\n",
       "    IonotropicSynapse_e_syn  IonotropicSynapse_k_minus  \\\n",
       "0                       0.0                      0.025   \n",
       "1                       0.0                      0.025   \n",
       "2                       0.0                      0.025   \n",
       "3                       0.0                      0.025   \n",
       "4                       0.0                      0.025   \n",
       "5                       0.0                      0.025   \n",
       "6                       0.0                      0.025   \n",
       "7                       0.0                      0.025   \n",
       "8                       0.0                      0.025   \n",
       "9                       0.0                      0.025   \n",
       "10                      0.0                      0.025   \n",
       "\n",
       "    IonotropicSynapse_v_th  IonotropicSynapse_delta  IonotropicSynapse_s  \\\n",
       "0                    -35.0                     10.0                  0.2   \n",
       "1                    -35.0                     10.0                  0.2   \n",
       "2                    -35.0                     10.0                  0.2   \n",
       "3                    -35.0                     10.0                  0.2   \n",
       "4                    -35.0                     10.0                  0.2   \n",
       "5                    -35.0                     10.0                  0.2   \n",
       "6                    -35.0                     10.0                  0.2   \n",
       "7                    -35.0                     10.0                  0.2   \n",
       "8                    -35.0                     10.0                  0.2   \n",
       "9                    -35.0                     10.0                  0.2   \n",
       "10                   -35.0                     10.0                  0.2   \n",
       "\n",
       "    controlled_by_param  \n",
       "0                     0  \n",
       "1                     0  \n",
       "2                     0  \n",
       "3                     0  \n",
       "4                     0  \n",
       "5                     0  \n",
       "6                     0  \n",
       "7                     0  \n",
       "8                     0  \n",
       "9                     0  \n",
       "10                    0  "
      ]
     },
     "execution_count": 92,
     "metadata": {},
     "output_type": "execute_result"
    }
   ],
   "source": [
    "net.edges"
   ]
  },
  {
   "cell_type": "markdown",
   "id": "22ee2ce7",
   "metadata": {},
   "source": [
    "To modify a parameter of all synapses you can again use `.set()`:"
   ]
  },
  {
   "cell_type": "code",
   "execution_count": 93,
   "id": "cb0f6fcb",
   "metadata": {},
   "outputs": [],
   "source": [
    "net.set(\"IonotropicSynapse_gS\", 0.0003)  # nS"
   ]
  },
  {
   "cell_type": "markdown",
   "id": "29cf8327",
   "metadata": {},
   "source": [
    "To modify individual syanptic parameters, use the `.select()` method. Below, we change the values of the first two synapses:"
   ]
  },
  {
   "cell_type": "code",
   "execution_count": 94,
   "id": "d723b740",
   "metadata": {},
   "outputs": [],
   "source": [
    "net.select(edges=[0, 1]).set(\"IonotropicSynapse_gS\", 0.0004)  # nS"
   ]
  },
  {
   "cell_type": "markdown",
   "id": "109e7ed1",
   "metadata": {},
   "source": [
    "For more details on how to flexibly set synaptic parameters (e.g., by cell type, or by pre-synaptic cell index,...), see [this tutorial](https://jaxley.readthedocs.io/en/latest/tutorials/09_advanced_indexing.html)."
   ]
  },
  {
   "cell_type": "markdown",
   "id": "94fa3463",
   "metadata": {},
   "source": [
    "### Stimulating, recording, and simulating the network"
   ]
  },
  {
   "cell_type": "markdown",
   "id": "59d5aa5d",
   "metadata": {},
   "source": [
    "We will now set up a simulation of the network. This works exactly as it does for single neurons:"
   ]
  },
  {
   "cell_type": "code",
   "execution_count": 95,
   "id": "8100e91a",
   "metadata": {},
   "outputs": [],
   "source": [
    "# Stimulus.\n",
    "i_delay = 3.0  # ms\n",
    "i_amp = 1.0  # nA\n",
    "i_dur = 2.0  # ms\n",
    "\n",
    "# Duration and step size.\n",
    "dt = 0.025  # ms\n",
    "t_max = 50.0  # ms"
   ]
  },
  {
   "cell_type": "code",
   "execution_count": 96,
   "id": "b75dd20e",
   "metadata": {},
   "outputs": [],
   "source": [
    "time_vec = np.arange(0.0, t_max + dt, dt)"
   ]
  },
  {
   "cell_type": "markdown",
   "id": "4954e1cd",
   "metadata": {},
   "source": [
    "As a simple example, we insert sodium, potassium, and leak into every compartment of every cell of the network."
   ]
  },
  {
   "cell_type": "code",
   "execution_count": 97,
   "id": "c84fdc7c",
   "metadata": {},
   "outputs": [],
   "source": [
    "net.insert(Na())\n",
    "net.insert(K())\n",
    "net.insert(Leak())"
   ]
  },
  {
   "cell_type": "markdown",
   "id": "78d991ab",
   "metadata": {},
   "source": [
    "We stimulate every neuron in the input layer and record the voltage from the output neuron:"
   ]
  },
  {
   "cell_type": "code",
   "execution_count": 98,
   "id": "436d68db",
   "metadata": {},
   "outputs": [
    {
     "name": "stdout",
     "output_type": "stream",
     "text": [
      "Added 1 external_states. See `.externals` for details.\n",
      "Added 1 external_states. See `.externals` for details.\n",
      "Added 1 external_states. See `.externals` for details.\n",
      "Added 1 external_states. See `.externals` for details.\n",
      "Added 1 external_states. See `.externals` for details.\n",
      "Added 1 external_states. See `.externals` for details.\n",
      "Added 1 external_states. See `.externals` for details.\n",
      "Added 1 external_states. See `.externals` for details.\n",
      "Added 1 external_states. See `.externals` for details.\n",
      "Added 1 external_states. See `.externals` for details.\n",
      "Added 1 recordings. See `.recordings` for details.\n"
     ]
    }
   ],
   "source": [
    "current = jx.step_current(i_delay, i_dur, i_amp, dt, t_max)\n",
    "net.delete_stimuli()\n",
    "for stim_ind in range(10):\n",
    "    net.cell(stim_ind).branch(0).loc(0.0).stimulate(current)\n",
    "\n",
    "net.delete_recordings()\n",
    "net.cell(10).branch(0).loc(0.0).record()"
   ]
  },
  {
   "cell_type": "markdown",
   "id": "beac0b81",
   "metadata": {},
   "source": [
    "Finally, we can again run the network simulation and plot the result:"
   ]
  },
  {
   "cell_type": "code",
   "execution_count": 99,
   "id": "1354ffab",
   "metadata": {},
   "outputs": [],
   "source": [
    "voltages = jx.integrate(net, delta_t=dt)"
   ]
  },
  {
   "cell_type": "code",
   "execution_count": 102,
   "id": "2921897d",
   "metadata": {},
   "outputs": [
    {
     "data": {
      "image/png": "[encoded data removed]",
      "text/plain": [
       "<Figure size 400x200 with 1 Axes>"
      ]
     },
     "metadata": {},
     "output_type": "display_data"
    }
   ],
   "source": [
    "time_vector = np.arange(0, t_max + 2 * dt, dt)\n",
    "\n",
    "fig, ax = plt.subplots(1, 1, figsize=(4, 2))\n",
    "_ = ax.plot(time_vector, voltages.T)\n",
    "_ = ax.set_xlabel(\"Time (ms)\")\n",
    "_ = ax.set_ylabel(\"Voltage (mV)\")"
   ]
  },
  {
   "cell_type": "markdown",
   "id": "47186138",
   "metadata": {},
   "source": [
    "That's it! You now know how to simulate networks of morphologically detailed neurons. We recommend that you now have a look at how you can [speed up your simulation](https://jaxley.readthedocs.io/en/latest/tutorials/04_jit_and_vmap.html). To learn more about handling synaptic parameters, we recommend to check out [this tutorial](https://jaxley.readthedocs.io/en/latest/tutorials/09_advanced_indexing.html)."
   ]
  },
  {
   "cell_type": "markdown",
   "id": "797f6e7c",
   "metadata": {},
   "source": [
    "### Coffee break ☕"
   ]
  },
  {
   "cell_type": "markdown",
   "id": "5036cd63",
   "metadata": {},
   "source": [
    "# Optimizing biophysical models"
   ]
  },
  {
   "cell_type": "markdown",
   "id": "2c19e2e7",
   "metadata": {},
   "source": [
    "In this section of the tutorial, you will learn how to train biophysical models in `Jaxley`. This includes the following:\n",
    "\n",
    "- compute the gradient with respect to parameters  \n",
    "- use parameter transformations  \n",
    "- use multi-level checkpointing  \n",
    "- define optimizers  \n",
    "- write dataloaders and parallelize across data  "
   ]
  },
  {
   "cell_type": "markdown",
   "id": "95ed3245",
   "metadata": {},
   "source": [
    "We will use the following functions for this section of the tutorial:"
   ]
  },
  {
   "cell_type": "code",
   "execution_count": 229,
   "id": "5317ebcb",
   "metadata": {},
   "outputs": [],
   "source": [
    "from jax import config\n",
    "config.update(\"jax_enable_x64\", True)\n",
    "config.update(\"jax_platform_name\", \"cpu\")\n",
    "\n",
    "import matplotlib.pyplot as plt\n",
    "import numpy as np\n",
    "import jax\n",
    "import jax.numpy as jnp\n",
    "from jax import jit, vmap, value_and_grad\n",
    "\n",
    "import jaxley as jx\n",
    "from jaxley.channels import Leak\n",
    "from jaxley.synapses import TanhRateSynapse\n",
    "from jaxley.connect import fully_connect"
   ]
  },
  {
   "cell_type": "markdown",
   "id": "d69e8a8e",
   "metadata": {},
   "source": [
    "We will first define a network similar to how we showed previously:"
   ]
  },
  {
   "cell_type": "code",
   "execution_count": 230,
   "id": "7387a7a3",
   "metadata": {},
   "outputs": [],
   "source": [
    "_ = np.random.seed(0)  # For synaptic locations.\n",
    "\n",
    "cell = jx.read_swc(\"mini_cell.swc\", ncomp=1)\n",
    "cell.set(\"axial_resistivity\", 100.0)  # ohm cm.\n",
    "net = jx.Network([cell for _ in range(3)])\n",
    "\n",
    "pre = net.cell([0, 1])\n",
    "post = net.cell([2])\n",
    "fully_connect(pre, post, TanhRateSynapse())\n",
    "\n",
    "# Change some default values of the tanh synapse.\n",
    "net.TanhRateSynapse.set(\"TanhRateSynapse_x_offset\", -60.0)\n",
    "net.TanhRateSynapse.set(\"TanhRateSynapse_gS\", 1e-3)\n",
    "net.TanhRateSynapse.set(\"TanhRateSynapse_slope\", 0.1)\n",
    "\n",
    "net.insert(Leak())"
   ]
  },
  {
   "cell_type": "markdown",
   "id": "91e5d9b0",
   "metadata": {},
   "source": [
    "This network consists of three neurons arranged in two layers:"
   ]
  },
  {
   "cell_type": "code",
   "execution_count": 231,
   "id": "b823bd65",
   "metadata": {},
   "outputs": [
    {
     "data": {
      "image/png": "[encoded data removed]",
      "text/plain": [
       "<Figure size 300x200 with 1 Axes>"
      ]
     },
     "metadata": {},
     "output_type": "display_data"
    }
   ],
   "source": [
    "net.rotate(180)\n",
    "net.arrange_in_layers(layers=[2, 1], within_layer_offset=500, between_layer_offset=2000)\n",
    "fig, ax = plt.subplots(1, 1, figsize=(3, 2))\n",
    "_ = net.vis(ax=ax, detail=\"full\")\n",
    "_ = ax.set_aspect(\"equal\")"
   ]
  },
  {
   "cell_type": "markdown",
   "id": "e941d84f",
   "metadata": {},
   "source": [
    "We consider the last neuron as the output neuron and record the voltage from there:"
   ]
  },
  {
   "cell_type": "code",
   "execution_count": 232,
   "id": "b174e790",
   "metadata": {},
   "outputs": [
    {
     "name": "stdout",
     "output_type": "stream",
     "text": [
      "Added 1 recordings. See `.recordings` for details.\n",
      "Added 1 recordings. See `.recordings` for details.\n",
      "Added 1 recordings. See `.recordings` for details.\n"
     ]
    }
   ],
   "source": [
    "net.delete_recordings()\n",
    "net.cell(0).branch(0).loc(0.0).record()\n",
    "net.cell(1).branch(0).loc(0.0).record()\n",
    "net.cell(2).branch(0).loc(0.0).record()"
   ]
  },
  {
   "cell_type": "markdown",
   "id": "f07adcb2",
   "metadata": {},
   "source": [
    "### Defining a dataset"
   ]
  },
  {
   "cell_type": "markdown",
   "id": "fc229d64",
   "metadata": {},
   "source": [
    "We will train this biophysical network on a classification task. The inputs will be values and the label is binary:"
   ]
  },
  {
   "cell_type": "code",
   "execution_count": 233,
   "id": "61831720",
   "metadata": {},
   "outputs": [],
   "source": [
    "inputs = jnp.asarray(5 * np.random.rand(100, 2))\n",
    "labels = jnp.asarray((inputs[:, 0] + inputs[:, 1]) > 5.0)"
   ]
  },
  {
   "cell_type": "code",
   "execution_count": 234,
   "id": "aa3f8b96",
   "metadata": {},
   "outputs": [
    {
     "data": {
      "image/png": "[encoded data removed]",
      "text/plain": [
       "<Figure size 300x200 with 1 Axes>"
      ]
     },
     "metadata": {},
     "output_type": "display_data"
    }
   ],
   "source": [
    "fig, ax = plt.subplots(1, 1, figsize=(3, 2))\n",
    "_ = ax.scatter(inputs[labels, 0], inputs[labels, 1])\n",
    "_ = ax.scatter(inputs[~labels, 0], inputs[~labels, 1])"
   ]
  },
  {
   "cell_type": "code",
   "execution_count": 235,
   "id": "21895c4a",
   "metadata": {},
   "outputs": [],
   "source": [
    "labels = labels.astype(float)"
   ]
  },
  {
   "cell_type": "markdown",
   "id": "54aa4549",
   "metadata": {},
   "source": [
    "### Defining trainable parameters"
   ]
  },
  {
   "cell_type": "code",
   "execution_count": 236,
   "id": "66c5f00d",
   "metadata": {},
   "outputs": [],
   "source": [
    "net.delete_trainables()"
   ]
  },
  {
   "cell_type": "markdown",
   "id": "24e3a1c9",
   "metadata": {},
   "source": [
    "This follows the same API as `.set()` seen in the previous tutorial. If you want to use a single parameter for every `axial_resistivity` in the entire network, do:"
   ]
  },
  {
   "cell_type": "code",
   "execution_count": 237,
   "id": "667390ff",
   "metadata": {},
   "outputs": [
    {
     "name": "stdout",
     "output_type": "stream",
     "text": [
      "Number of newly added trainable parameters: 1. Total number of trainable parameters: 1\n"
     ]
    }
   ],
   "source": [
    "net.make_trainable(\"axial_resistivity\")"
   ]
  },
  {
   "cell_type": "markdown",
   "id": "3c6c5761",
   "metadata": {},
   "source": [
    "We can also define parameters for individual compartments. To do this, use the `\"all\"` key. The following defines a separate parameter the sodium conductance for every compartment in the entire network:"
   ]
  },
  {
   "cell_type": "code",
   "execution_count": 238,
   "id": "e614eaca",
   "metadata": {},
   "outputs": [
    {
     "name": "stdout",
     "output_type": "stream",
     "text": [
      "Number of newly added trainable parameters: 12. Total number of trainable parameters: 13\n"
     ]
    }
   ],
   "source": [
    "net.cell(\"all\").branch(\"all\").loc(\"all\").make_trainable(\"Leak_gLeak\")"
   ]
  },
  {
   "cell_type": "markdown",
   "id": "463305ab",
   "metadata": {},
   "source": [
    "### Making synaptic parameters trainable"
   ]
  },
  {
   "cell_type": "markdown",
   "id": "1b4ff4be",
   "metadata": {},
   "source": [
    "Synaptic parameters can be made trainable in the exact same way. To use a single parameter for all syanptic conductances in the entire network, do\n",
    "```python\n",
    "net.TanhRateSynapse.make_trainable(\"TanhRateSynapse_gS\")\n",
    "```"
   ]
  },
  {
   "cell_type": "markdown",
   "id": "af9dbfd2",
   "metadata": {},
   "source": [
    "Here, we use a different syanptic conductance for all syanpses. This can be done as follows:"
   ]
  },
  {
   "cell_type": "code",
   "execution_count": 239,
   "id": "0ccb2419",
   "metadata": {},
   "outputs": [
    {
     "name": "stdout",
     "output_type": "stream",
     "text": [
      "Number of newly added trainable parameters: 2. Total number of trainable parameters: 15\n"
     ]
    }
   ],
   "source": [
    "net.TanhRateSynapse.edge(\"all\").make_trainable(\"TanhRateSynapse_gS\")"
   ]
  },
  {
   "cell_type": "markdown",
   "id": "d7e04100",
   "metadata": {},
   "source": [
    "### Running the simulation"
   ]
  },
  {
   "cell_type": "markdown",
   "id": "cf924831",
   "metadata": {},
   "source": [
    "Once all parameters are defined, you have to use `.get_parameters()` to obtain all trainable parameters. This is also the time to check how many trainable parameters your network has:"
   ]
  },
  {
   "cell_type": "code",
   "execution_count": 240,
   "id": "ae8c9072",
   "metadata": {},
   "outputs": [],
   "source": [
    "params = net.get_parameters()"
   ]
  },
  {
   "cell_type": "markdown",
   "id": "5ed3150d",
   "metadata": {},
   "source": [
    "You can now run the simulation with the trainable parameters by passing them to the `jx.integrate` function."
   ]
  },
  {
   "cell_type": "code",
   "execution_count": 241,
   "id": "8071c8ff",
   "metadata": {},
   "outputs": [],
   "source": [
    "s = jx.integrate(net, params=params, t_max=10.0)"
   ]
  },
  {
   "cell_type": "markdown",
   "id": "b92c02e3",
   "metadata": {},
   "source": [
    "### Stimulating the network\n",
    "\n",
    "The network above does not yet get any stimuli. We will use the 2D inputs from the dataset to stimulate the two input neurons. The amplitude of the step current corresponds to the input value. Below is the simulator that defines this:"
   ]
  },
  {
   "cell_type": "code",
   "execution_count": 242,
   "id": "baa483d9",
   "metadata": {},
   "outputs": [],
   "source": [
    "def simulate(params, inputs):\n",
    "    currents = jx.datapoint_to_step_currents(i_delay=1.0, i_dur=1.0, i_amp=inputs / 10, delta_t=0.025, t_max=10.0)\n",
    "\n",
    "    data_stimuli = None\n",
    "    data_stimuli = net.cell(0).branch(0).loc(1.0).data_stimulate(currents[0], data_stimuli=data_stimuli)\n",
    "    data_stimuli = net.cell(1).branch(0).loc(1.0).data_stimulate(currents[1], data_stimuli=data_stimuli)\n",
    "\n",
    "    return jx.integrate(net, params=params, data_stimuli=data_stimuli, delta_t=0.025)\n",
    "\n",
    "batched_simulate = vmap(simulate, in_axes=(None, 0))"
   ]
  },
  {
   "cell_type": "markdown",
   "id": "f9553928",
   "metadata": {},
   "source": [
    "We can also inspect some traces:"
   ]
  },
  {
   "cell_type": "code",
   "execution_count": 243,
   "id": "5a839045",
   "metadata": {},
   "outputs": [],
   "source": [
    "traces = batched_simulate(params, inputs[:4])"
   ]
  },
  {
   "cell_type": "code",
   "execution_count": 244,
   "id": "de6fd3fc",
   "metadata": {},
   "outputs": [
    {
     "data": {
      "text/plain": [
       "(4, 3, 402)"
      ]
     },
     "execution_count": 244,
     "metadata": {},
     "output_type": "execute_result"
    }
   ],
   "source": [
    "traces.shape"
   ]
  },
  {
   "cell_type": "code",
   "execution_count": 245,
   "id": "a566c5e8",
   "metadata": {},
   "outputs": [
    {
     "data": {
      "image/png": "[encoded data removed]",
      "text/plain": [
       "<Figure size 400x200 with 1 Axes>"
      ]
     },
     "metadata": {},
     "output_type": "display_data"
    }
   ],
   "source": [
    "fig, ax = plt.subplots(1, 1, figsize=(4, 2))\n",
    "_ = ax.plot(traces[:, 0, :].T)\n",
    "_ = ax.set_ylim([-80, -50])"
   ]
  },
  {
   "cell_type": "markdown",
   "id": "c92f4c35",
   "metadata": {},
   "source": [
    "### Defining a loss function"
   ]
  },
  {
   "cell_type": "markdown",
   "id": "d8bc6c9e",
   "metadata": {},
   "source": [
    "Let us define a loss function to be optimized:"
   ]
  },
  {
   "cell_type": "code",
   "execution_count": 205,
   "id": "c7c4741e",
   "metadata": {},
   "outputs": [],
   "source": [
    "def loss(params, inputs, labels):\n",
    "    traces = batched_simulate(params, inputs)  # Shape `(batchsize, num_recordings, timepoints)`.\n",
    "    prediction = jnp.mean(traces[:, 2], axis=1)  # Use the average over time of the output neuron (2) as prediction.\n",
    "    prediction = (prediction + 70.0) / 5  # Such that the prediction is roughly in [0, 1].\n",
    "    losses = jnp.abs(prediction - labels)  # Mean absolute error loss.\n",
    "    return jnp.mean(losses)  # Average across the batch."
   ]
  },
  {
   "cell_type": "markdown",
   "id": "80e402f8",
   "metadata": {},
   "source": [
    "And we can use `JAX`'s inbuilt functions to take the gradient through the entire ODE:"
   ]
  },
  {
   "cell_type": "code",
   "execution_count": 206,
   "id": "335eb433",
   "metadata": {},
   "outputs": [],
   "source": [
    "jitted_grad = jit(value_and_grad(loss, argnums=0))"
   ]
  },
  {
   "cell_type": "code",
   "execution_count": 207,
   "id": "3681a348",
   "metadata": {},
   "outputs": [],
   "source": [
    "value, gradient = jitted_grad(params, inputs[:4], labels[:4])"
   ]
  },
  {
   "cell_type": "markdown",
   "id": "55bd83fe",
   "metadata": {},
   "source": [
    "### Defining parameter transformations"
   ]
  },
  {
   "cell_type": "markdown",
   "id": "90ee4ee7",
   "metadata": {},
   "source": [
    "Before training, however, we will enforce for all parameters to be within a prespecified range (such that, e.g., conductances can not become negative)"
   ]
  },
  {
   "cell_type": "code",
   "execution_count": 208,
   "id": "6fca420b",
   "metadata": {},
   "outputs": [],
   "source": [
    "import jaxley.optimize.transforms as jt"
   ]
  },
  {
   "cell_type": "code",
   "execution_count": 209,
   "id": "4941bd03",
   "metadata": {},
   "outputs": [],
   "source": [
    "# Define a function to create appropriate transforms for each parameter\n",
    "def create_transform(name):\n",
    "    if name == \"axial_resistivity\":\n",
    "        # Must be positive; apply Softplus and scale to match initialization\n",
    "        return jt.ChainTransform([jt.SoftplusTransform(0), jt.AffineTransform(5000, 0)])\n",
    "    elif name == \"length\":\n",
    "        # Apply Softplus and affine transform for the 'length' parameter\n",
    "        return jt.ChainTransform([jt.SoftplusTransform(0), jt.AffineTransform(10, 0)])\n",
    "    else:\n",
    "        # Default to a Softplus transform for other parameters\n",
    "        return jt.SoftplusTransform(0)\n",
    "\n",
    "# Apply the transforms to the parameters\n",
    "transforms = [{k: create_transform(k) for k in param} for param in params]\n",
    "tf = jt.ParamTransform(transforms)\n"
   ]
  },
  {
   "cell_type": "code",
   "execution_count": 210,
   "id": "fe9eb818",
   "metadata": {},
   "outputs": [],
   "source": [
    "transform = jx.ParamTransform([\n",
    "    {\"axial_resistivity\": jt.SigmoidTransform(50.0, 500.0)},\n",
    "    {\"Leak_gLeak\":jt.SigmoidTransform(1e-5, 1e-3)},\n",
    "    {\"TanhRateSynapse_gS\" : jt.SigmoidTransform(1e-5, 1e-2)}\n",
    "])"
   ]
  },
  {
   "cell_type": "markdown",
   "id": "bde9feb9",
   "metadata": {},
   "source": [
    "We now modify the loss function to incorporate the parameter transformation into the `loss` function. Below, we summarize the functions we have defined above:"
   ]
  },
  {
   "cell_type": "code",
   "execution_count": 220,
   "id": "34dc8381",
   "metadata": {},
   "outputs": [],
   "source": [
    "def simulate(params, inputs):\n",
    "    currents = jx.datapoint_to_step_currents(i_delay=1.0, i_dur=1.0, i_amp=inputs / 10.0, delta_t=dt, t_max=t_max)\n",
    "\n",
    "    data_stimuli = None\n",
    "    data_stimuli = net.cell(0).branch(0).loc(1.0).data_stimulate(currents[0], data_stimuli=data_stimuli)\n",
    "    data_stimuli = net.cell(1).branch(0).loc(1.0).data_stimulate(currents[1], data_stimuli=data_stimuli)\n",
    "\n",
    "    return jx.integrate(net, params=params, data_stimuli=data_stimuli)\n",
    "\n",
    "batched_simulate = vmap(simulate, in_axes=(None, 0))\n",
    "\n",
    "\n",
    "def predict(params, inputs):\n",
    "    traces = simulate(params, inputs)  # Shape `(batchsize, num_recordings, timepoints)`.\n",
    "    prediction = jnp.mean(traces[2])  # Use the average over time of the output neuron (2) as prediction.\n",
    "    return prediction + 70.0  # Such that the prediction is around 0.\n",
    "\n",
    "batched_predict = vmap(predict, in_axes=(None, 0))\n",
    "\n",
    "\n",
    "def loss(opt_params, inputs, labels):\n",
    "    params = transform.forward(opt_params)\n",
    "\n",
    "    predictions = batched_predict(params, inputs)\n",
    "    losses = jnp.abs(predictions - labels)  # Mean absolute error loss.\n",
    "    return jnp.mean(losses)  # Average across the batch.\n",
    "\n",
    "jitted_grad = jit(value_and_grad(loss, argnums=0))"
   ]
  },
  {
   "cell_type": "markdown",
   "id": "7ad15494",
   "metadata": {},
   "source": [
    "### Training\n",
    "\n",
    "We will use the ADAM optimizer from the [optax library](https://optax.readthedocs.io/en/latest/) to optimize the free parameters (you have to install the package with `pip install optax` first):"
   ]
  },
  {
   "cell_type": "code",
   "execution_count": 221,
   "id": "ac582814",
   "metadata": {},
   "outputs": [],
   "source": [
    "import optax"
   ]
  },
  {
   "cell_type": "code",
   "execution_count": 222,
   "id": "83737979",
   "metadata": {},
   "outputs": [],
   "source": [
    "opt_params = transform.inverse(params)\n",
    "optimizer = optax.adam(learning_rate=0.01)\n",
    "opt_state = optimizer.init(opt_params)"
   ]
  },
  {
   "cell_type": "markdown",
   "id": "b219da3a",
   "metadata": {},
   "source": [
    "### Writing a dataloader"
   ]
  },
  {
   "cell_type": "markdown",
   "id": "2406672f",
   "metadata": {},
   "source": [
    "Below, we just write our own (very simple) dataloader. Alternatively, you could use the dataloader from any deep learning library such as pytorch or tensorflow:"
   ]
  },
  {
   "cell_type": "code",
   "execution_count": 223,
   "id": "2a551e70",
   "metadata": {},
   "outputs": [],
   "source": [
    "class Dataset:\n",
    "    def __init__(self, inputs: np.ndarray, labels: np.ndarray):\n",
    "        \"\"\"Simple Dataloader.\n",
    "        \n",
    "        Args:\n",
    "            inputs: Array of shape (num_samples, num_dim)\n",
    "            labels: Array of shape (num_samples,)\n",
    "        \"\"\"\n",
    "        assert len(inputs) == len(labels), \"Inputs and labels must have same length\"\n",
    "        self.inputs = inputs\n",
    "        self.labels = labels\n",
    "        self.num_samples = len(inputs)\n",
    "        self._rng_state = None\n",
    "        self.batch_size = 1\n",
    "    \n",
    "    def shuffle(self, seed=None):\n",
    "        \"\"\"Shuffle the dataset in-place\"\"\"\n",
    "        self._rng_state = np.random.get_state()[1][0] if seed is None else seed\n",
    "        np.random.seed(self._rng_state)\n",
    "        indices = np.random.permutation(self.num_samples)\n",
    "        self.inputs = self.inputs[indices]\n",
    "        self.labels = self.labels[indices]\n",
    "        return self\n",
    "    \n",
    "    def batch(self, batch_size):\n",
    "        \"\"\"Create batches of the data\"\"\"\n",
    "        self.batch_size = batch_size\n",
    "        return self\n",
    "\n",
    "    def __iter__(self):\n",
    "        self.shuffle(seed=self._rng_state)\n",
    "        for start in range(0, self.num_samples, self.batch_size):\n",
    "            end = min(start + self.batch_size, self.num_samples)\n",
    "            yield self.inputs[start:end], self.labels[start:end]\n",
    "        self._rng_state += 1"
   ]
  },
  {
   "cell_type": "markdown",
   "id": "582d664f",
   "metadata": {},
   "source": [
    "### Training loop"
   ]
  },
  {
   "cell_type": "code",
   "execution_count": 224,
   "id": "6dcd7bff",
   "metadata": {},
   "outputs": [],
   "source": [
    "t_max = 5.0\n",
    "dt = 0.025"
   ]
  },
  {
   "cell_type": "code",
   "execution_count": 225,
   "id": "2bec6e5e",
   "metadata": {},
   "outputs": [
    {
     "name": "stdout",
     "output_type": "stream",
     "text": [
      "epoch 0, loss 14.154926831713997\n",
      "epoch 1, loss 13.890769562871833\n",
      "epoch 2, loss 13.698286410720597\n",
      "epoch 3, loss 13.558442672153236\n",
      "epoch 4, loss 13.454427990611467\n",
      "epoch 5, loss 13.376329657283765\n",
      "epoch 6, loss 13.31629700953293\n",
      "epoch 7, loss 13.269531856711438\n",
      "epoch 8, loss 13.23288677624272\n",
      "epoch 9, loss 13.203641785587632\n"
     ]
    }
   ],
   "source": [
    "batch_size = 4\n",
    "dataloader = Dataset(inputs, labels)\n",
    "dataloader = dataloader.shuffle(seed=0).batch(batch_size)\n",
    "\n",
    "for epoch in range(10):\n",
    "    epoch_loss = 0.0\n",
    "    \n",
    "    for batch_ind, batch in enumerate(dataloader):\n",
    "        current_batch, label_batch = batch\n",
    "        loss_val, gradient = jitted_grad(opt_params, current_batch, label_batch)\n",
    "        updates, opt_state = optimizer.update(gradient, opt_state)\n",
    "        opt_params = optax.apply_updates(opt_params, updates)\n",
    "        epoch_loss += loss_val\n",
    "    \n",
    "    print(f\"epoch {epoch}, loss {epoch_loss}\")\n",
    "    \n",
    "final_params = transform.forward(opt_params)"
   ]
  },
  {
   "cell_type": "code",
   "execution_count": 226,
   "id": "c41db302",
   "metadata": {},
   "outputs": [],
   "source": [
    "ntest = 32\n",
    "predictions = batched_predict(final_params, inputs[:ntest])"
   ]
  },
  {
   "cell_type": "code",
   "execution_count": 227,
   "id": "bb0e7620",
   "metadata": {},
   "outputs": [
    {
     "data": {
      "image/png": "[encoded data removed]",
      "text/plain": [
       "<Figure size 300x200 with 1 Axes>"
      ]
     },
     "metadata": {},
     "output_type": "display_data"
    }
   ],
   "source": [
    "fig, ax = plt.subplots(1, 1, figsize=(3, 2))\n",
    "_ = ax.scatter(labels[:ntest], predictions)\n",
    "_ = ax.set_xlabel(\"Label\")\n",
    "_ = ax.set_ylabel(\"Prediction\")"
   ]
  },
  {
   "cell_type": "markdown",
   "id": "5248d74e",
   "metadata": {},
   "source": [
    "Indeed, the loss goes down and the network successfully classifies the patterns."
   ]
  },
  {
   "cell_type": "markdown",
   "id": "ad9f0f3c",
   "metadata": {},
   "source": [
    "# Summary"
   ]
  },
  {
   "cell_type": "markdown",
   "id": "02614c39",
   "metadata": {},
   "source": [
    "In the first tutorial, we introduced Jaxley and how to build biophysical models. More (and very similar) information can be found in our tutorials online:\n",
    "- [API basics](https://github.com/jaxleyverse/jaxley/blob/main/docs/tutorials/00_jaxley_api.ipynb)\n",
    "- [Single-cells with morphology](https://github.com/jaxleyverse/jaxley/blob/main/docs/tutorials/01_morph_neurons.ipynb)\n",
    "- [Small networks](https://github.com/jaxleyverse/jaxley/blob/main/docs/tutorials/02_small_network.ipynb)\n",
    "- [Speeding up simulations with jit and vmap](https://github.com/jaxleyverse/jaxley/blob/main/docs/tutorials/04_jit_and_vmap.ipynb)\n",
    "- [Channel and synapse models](https://github.com/jaxleyverse/jaxley/blob/main/docs/tutorials/05_channel_and_synapse_models.ipynb)\n",
    "- [Grouping modules](https://github.com/jaxleyverse/jaxley/blob/main/docs/tutorials/06_groups.ipynb)\n",
    "\n",
    "In the second tutorial, we focused on optimization of biophysical models with Jaxley. This section closely followed our [gradient descent tutorial](https://github.com/jaxleyverse/jaxley/blob/main/docs/tutorials/07_gradient_descent.ipynb) online.\n",
    " \n",
    "If you want to learn more, check out our [Advanced Tutorials](https://jaxley.readthedocs.io/en/latest/advanced_tutorials.html), have a look at our [paper](https://www.biorxiv.org/content/10.1101/2024.08.21.608979v1.abstract), and/or come visit one of our posters at CNS:\n",
    "- Poster session 1 P065: Jaxley: Differentiable simulation enables large-scale training of detailed biophysical models of neural dynamics\n",
    "- Poster session 2 P125: Modeling the biophysics of computation in the outer plexiform layer of the mouse retina"
   ]
  }
 ],
 "metadata": {
  "kernelspec": {
   "display_name": "Python 3 (ipykernel)",
   "language": "python",
   "name": "python3"
  },
  "language_info": {
   "codemirror_mode": {
    "name": "ipython",
    "version": 3
   },
   "file_extension": ".py",
   "mimetype": "text/x-python",
   "name": "python",
   "nbconvert_exporter": "python",
   "pygments_lexer": "ipython3",
   "version": "3.12.4"
  }
 },
 "nbformat": 4,
 "nbformat_minor": 5
}
