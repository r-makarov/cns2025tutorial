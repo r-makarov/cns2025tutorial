{
 "cells": [
  {
   "cell_type": "markdown",
   "id": "973019bf",
   "metadata": {},
   "source": [
    "# Building single-cell and network models in Jaxley"
   ]
  },
  {
   "cell_type": "markdown",
   "id": "616e7202",
   "metadata": {},
   "source": [
    "In this first section of the tutorial, you will learn the basics of Jaxley and how to build single-cell and network models. We will cover:\n",
    "- How to construct biophysical models with the `Jaxley` simulator  \n",
    "- How to connect neurons to form a network  "
   ]
  },
  {
   "cell_type": "markdown",
   "id": "e24d730f",
   "metadata": {},
   "source": [
    "Some typical imports for using `Jaxley` are as follows. We will use these functions for the first section of our tutorial."
   ]
  },
  {
   "cell_type": "code",
   "execution_count": 1,
   "id": "59cba38a",
   "metadata": {},
   "outputs": [],
   "source": [
    "from jax import config\n",
    "config.update(\"jax_enable_x64\", True)\n",
    "config.update(\"jax_platform_name\", \"cpu\")\n",
    "\n",
    "import matplotlib.pyplot as plt\n",
    "import numpy as np\n",
    "\n",
    "import jaxley as jx"
   ]
  },
  {
   "cell_type": "markdown",
   "id": "a67bd3d4",
   "metadata": {},
   "source": [
    "## Building single-cell models"
   ]
  },
  {
   "cell_type": "code",
   "execution_count": 2,
   "id": "d35f6347",
   "metadata": {},
   "outputs": [],
   "source": [
    "cell = jx.read_swc(\"mini_cell.swc\", ncomp=1)"
   ]
  },
  {
   "cell_type": "code",
   "execution_count": 3,
   "id": "4210db73",
   "metadata": {},
   "outputs": [
    {
     "data": {
      "image/png": "[encoded data removed]",
      "text/plain": [
       "<Figure size 400x400 with 1 Axes>"
      ]
     },
     "metadata": {},
     "output_type": "display_data"
    }
   ],
   "source": [
    "fig, ax = plt.subplots(1, 1, figsize=(4, 4))\n",
    "cell.vis(ax=ax)\n",
    "ax.set_aspect(\"equal\")"
   ]
  },
  {
   "cell_type": "markdown",
   "id": "57fab524",
   "metadata": {},
   "source": [
    "Every module tracks information about its current state and parameters in two Dataframes called `nodes` and `edges`.\n",
    "`nodes` contains all the information that we associate with compartments in the model (each row corresponds to one compartment) and `edges` tracks all the information relevant to synapses.\n",
    "\n",
    "This means that you can easily keep track of the current state of your `Module` and how it changes at all times."
   ]
  },
  {
   "cell_type": "code",
   "execution_count": 4,
   "id": "cc903222",
   "metadata": {},
   "outputs": [
    {
     "data": {
      "text/html": [
       "<div>\n",
       "<style scoped>\n",
       "    .dataframe tbody tr th:only-of-type {\n",
       "        vertical-align: middle;\n",
       "    }\n",
       "\n",
       "    .dataframe tbody tr th {\n",
       "        vertical-align: top;\n",
       "    }\n",
       "\n",
       "    .dataframe thead th {\n",
       "        text-align: right;\n",
       "    }\n",
       "</style>\n",
       "<table border=\"1\" class=\"dataframe\">\n",
       "  <thead>\n",
       "    <tr style=\"text-align: right;\">\n",
       "      <th></th>\n",
       "      <th>local_cell_index</th>\n",
       "      <th>local_branch_index</th>\n",
       "      <th>local_comp_index</th>\n",
       "      <th>length</th>\n",
       "      <th>radius</th>\n",
       "      <th>axial_resistivity</th>\n",
       "      <th>capacitance</th>\n",
       "      <th>v</th>\n",
       "      <th>area</th>\n",
       "      <th>volume</th>\n",
       "      <th>...</th>\n",
       "      <th>resistive_load_out</th>\n",
       "      <th>x</th>\n",
       "      <th>y</th>\n",
       "      <th>z</th>\n",
       "      <th>global_cell_index</th>\n",
       "      <th>global_branch_index</th>\n",
       "      <th>global_comp_index</th>\n",
       "      <th>controlled_by_param</th>\n",
       "      <th>basal</th>\n",
       "      <th>soma</th>\n",
       "    </tr>\n",
       "  </thead>\n",
       "  <tbody>\n",
       "    <tr>\n",
       "      <th>0</th>\n",
       "      <td>0</td>\n",
       "      <td>0</td>\n",
       "      <td>0</td>\n",
       "      <td>20.000000</td>\n",
       "      <td>10.0</td>\n",
       "      <td>5000.0</td>\n",
       "      <td>1.0</td>\n",
       "      <td>-70.0</td>\n",
       "      <td>1256.637061</td>\n",
       "      <td>4188.790205</td>\n",
       "      <td>...</td>\n",
       "      <td>0.031831</td>\n",
       "      <td>0.0</td>\n",
       "      <td>0.0</td>\n",
       "      <td>0.0</td>\n",
       "      <td>0</td>\n",
       "      <td>0</td>\n",
       "      <td>0</td>\n",
       "      <td>0</td>\n",
       "      <td>False</td>\n",
       "      <td>True</td>\n",
       "    </tr>\n",
       "    <tr>\n",
       "      <th>1</th>\n",
       "      <td>0</td>\n",
       "      <td>1</td>\n",
       "      <td>0</td>\n",
       "      <td>490.000000</td>\n",
       "      <td>0.2</td>\n",
       "      <td>5000.0</td>\n",
       "      <td>1.0</td>\n",
       "      <td>-70.0</td>\n",
       "      <td>615.752160</td>\n",
       "      <td>61.575216</td>\n",
       "      <td>...</td>\n",
       "      <td>1949.648053</td>\n",
       "      <td>255.0</td>\n",
       "      <td>0.0</td>\n",
       "      <td>0.0</td>\n",
       "      <td>0</td>\n",
       "      <td>1</td>\n",
       "      <td>1</td>\n",
       "      <td>0</td>\n",
       "      <td>True</td>\n",
       "      <td>False</td>\n",
       "    </tr>\n",
       "    <tr>\n",
       "      <th>2</th>\n",
       "      <td>0</td>\n",
       "      <td>2</td>\n",
       "      <td>0</td>\n",
       "      <td>282.842712</td>\n",
       "      <td>0.2</td>\n",
       "      <td>5000.0</td>\n",
       "      <td>1.0</td>\n",
       "      <td>-70.0</td>\n",
       "      <td>355.430635</td>\n",
       "      <td>35.543064</td>\n",
       "      <td>...</td>\n",
       "      <td>1125.395395</td>\n",
       "      <td>600.0</td>\n",
       "      <td>100.0</td>\n",
       "      <td>0.0</td>\n",
       "      <td>0</td>\n",
       "      <td>2</td>\n",
       "      <td>2</td>\n",
       "      <td>0</td>\n",
       "      <td>True</td>\n",
       "      <td>False</td>\n",
       "    </tr>\n",
       "    <tr>\n",
       "      <th>3</th>\n",
       "      <td>0</td>\n",
       "      <td>3</td>\n",
       "      <td>0</td>\n",
       "      <td>282.842712</td>\n",
       "      <td>0.2</td>\n",
       "      <td>5000.0</td>\n",
       "      <td>1.0</td>\n",
       "      <td>-70.0</td>\n",
       "      <td>355.430635</td>\n",
       "      <td>35.543064</td>\n",
       "      <td>...</td>\n",
       "      <td>1125.395395</td>\n",
       "      <td>600.0</td>\n",
       "      <td>-100.0</td>\n",
       "      <td>0.0</td>\n",
       "      <td>0</td>\n",
       "      <td>3</td>\n",
       "      <td>3</td>\n",
       "      <td>0</td>\n",
       "      <td>True</td>\n",
       "      <td>False</td>\n",
       "    </tr>\n",
       "  </tbody>\n",
       "</table>\n",
       "<p>4 rows × 21 columns</p>\n",
       "</div>"
      ],
      "text/plain": [
       "   local_cell_index  local_branch_index  local_comp_index      length  radius  \\\n",
       "0                 0                   0                 0   20.000000    10.0   \n",
       "1                 0                   1                 0  490.000000     0.2   \n",
       "2                 0                   2                 0  282.842712     0.2   \n",
       "3                 0                   3                 0  282.842712     0.2   \n",
       "\n",
       "   axial_resistivity  capacitance     v         area       volume  ...  \\\n",
       "0             5000.0          1.0 -70.0  1256.637061  4188.790205  ...   \n",
       "1             5000.0          1.0 -70.0   615.752160    61.575216  ...   \n",
       "2             5000.0          1.0 -70.0   355.430635    35.543064  ...   \n",
       "3             5000.0          1.0 -70.0   355.430635    35.543064  ...   \n",
       "\n",
       "   resistive_load_out      x      y    z  global_cell_index  \\\n",
       "0            0.031831    0.0    0.0  0.0                  0   \n",
       "1         1949.648053  255.0    0.0  0.0                  0   \n",
       "2         1125.395395  600.0  100.0  0.0                  0   \n",
       "3         1125.395395  600.0 -100.0  0.0                  0   \n",
       "\n",
       "   global_branch_index  global_comp_index  controlled_by_param  basal   soma  \n",
       "0                    0                  0                    0  False   True  \n",
       "1                    1                  1                    0   True  False  \n",
       "2                    2                  2                    0   True  False  \n",
       "3                    3                  3                    0   True  False  \n",
       "\n",
       "[4 rows x 21 columns]"
      ]
     },
     "execution_count": 4,
     "metadata": {},
     "output_type": "execute_result"
    }
   ],
   "source": [
    "cell.nodes"
   ]
  },
  {
   "cell_type": "markdown",
   "id": "ccc202ae",
   "metadata": {},
   "source": [
    "### Views"
   ]
  },
  {
   "cell_type": "markdown",
   "id": "9644bc5c",
   "metadata": {},
   "source": [
    "Since Modules (such as a `Cell`) can become very complex, Jaxley utilizes so called `View`s to make working with them easy and intuitive. \n",
    "\n",
    "The simplest way to navigate Modules is by navigating them via the hierachy that we introduced above. A `View` is what you get when you index into the module. For example, for a `Cell`:"
   ]
  },
  {
   "cell_type": "code",
   "execution_count": 5,
   "id": "ae64214a",
   "metadata": {},
   "outputs": [
    {
     "data": {
      "text/plain": [
       "View with 0 different channels. Use `.nodes` for details."
      ]
     },
     "execution_count": 5,
     "metadata": {},
     "output_type": "execute_result"
    }
   ],
   "source": [
    "cell.branch(0)"
   ]
  },
  {
   "cell_type": "markdown",
   "id": "7fa787af",
   "metadata": {},
   "source": [
    "Views behave very similarly to `Module`s, i.e. `cell.branch(0)` (the 0th branch of the cell) behaves like the `cell` we instantiated earlier. As such, `cell.branch(0)` also has a `nodes` attribute, which keeps track of its part of the cell:"
   ]
  },
  {
   "cell_type": "code",
   "execution_count": 6,
   "id": "0b158751",
   "metadata": {},
   "outputs": [
    {
     "data": {
      "text/html": [
       "<div>\n",
       "<style scoped>\n",
       "    .dataframe tbody tr th:only-of-type {\n",
       "        vertical-align: middle;\n",
       "    }\n",
       "\n",
       "    .dataframe tbody tr th {\n",
       "        vertical-align: top;\n",
       "    }\n",
       "\n",
       "    .dataframe thead th {\n",
       "        text-align: right;\n",
       "    }\n",
       "</style>\n",
       "<table border=\"1\" class=\"dataframe\">\n",
       "  <thead>\n",
       "    <tr style=\"text-align: right;\">\n",
       "      <th></th>\n",
       "      <th>local_cell_index</th>\n",
       "      <th>local_branch_index</th>\n",
       "      <th>local_comp_index</th>\n",
       "      <th>length</th>\n",
       "      <th>radius</th>\n",
       "      <th>axial_resistivity</th>\n",
       "      <th>capacitance</th>\n",
       "      <th>v</th>\n",
       "      <th>area</th>\n",
       "      <th>volume</th>\n",
       "      <th>...</th>\n",
       "      <th>resistive_load_out</th>\n",
       "      <th>x</th>\n",
       "      <th>y</th>\n",
       "      <th>z</th>\n",
       "      <th>basal</th>\n",
       "      <th>soma</th>\n",
       "      <th>global_cell_index</th>\n",
       "      <th>global_branch_index</th>\n",
       "      <th>global_comp_index</th>\n",
       "      <th>controlled_by_param</th>\n",
       "    </tr>\n",
       "  </thead>\n",
       "  <tbody>\n",
       "    <tr>\n",
       "      <th>0</th>\n",
       "      <td>0</td>\n",
       "      <td>0</td>\n",
       "      <td>0</td>\n",
       "      <td>20.0</td>\n",
       "      <td>10.0</td>\n",
       "      <td>5000.0</td>\n",
       "      <td>1.0</td>\n",
       "      <td>-70.0</td>\n",
       "      <td>1256.637061</td>\n",
       "      <td>4188.790205</td>\n",
       "      <td>...</td>\n",
       "      <td>0.031831</td>\n",
       "      <td>0.0</td>\n",
       "      <td>0.0</td>\n",
       "      <td>0.0</td>\n",
       "      <td>False</td>\n",
       "      <td>True</td>\n",
       "      <td>0</td>\n",
       "      <td>0</td>\n",
       "      <td>0</td>\n",
       "      <td>0</td>\n",
       "    </tr>\n",
       "  </tbody>\n",
       "</table>\n",
       "<p>1 rows × 21 columns</p>\n",
       "</div>"
      ],
      "text/plain": [
       "   local_cell_index  local_branch_index  local_comp_index  length  radius  \\\n",
       "0                 0                   0                 0    20.0    10.0   \n",
       "\n",
       "   axial_resistivity  capacitance     v         area       volume  ...  \\\n",
       "0             5000.0          1.0 -70.0  1256.637061  4188.790205  ...   \n",
       "\n",
       "   resistive_load_out    x    y    z  basal  soma  global_cell_index  \\\n",
       "0            0.031831  0.0  0.0  0.0  False  True                  0   \n",
       "\n",
       "   global_branch_index  global_comp_index  controlled_by_param  \n",
       "0                    0                  0                    0  \n",
       "\n",
       "[1 rows x 21 columns]"
      ]
     },
     "execution_count": 6,
     "metadata": {},
     "output_type": "execute_result"
    }
   ],
   "source": [
    "cell.branch(0).nodes"
   ]
  },
  {
   "cell_type": "markdown",
   "id": "05525e5a",
   "metadata": {},
   "source": [
    "Similarly, you can also access the soma or basal dendrite:"
   ]
  },
  {
   "cell_type": "code",
   "execution_count": 7,
   "id": "0795a0ef",
   "metadata": {},
   "outputs": [
    {
     "data": {
      "text/html": [
       "<div>\n",
       "<style scoped>\n",
       "    .dataframe tbody tr th:only-of-type {\n",
       "        vertical-align: middle;\n",
       "    }\n",
       "\n",
       "    .dataframe tbody tr th {\n",
       "        vertical-align: top;\n",
       "    }\n",
       "\n",
       "    .dataframe thead th {\n",
       "        text-align: right;\n",
       "    }\n",
       "</style>\n",
       "<table border=\"1\" class=\"dataframe\">\n",
       "  <thead>\n",
       "    <tr style=\"text-align: right;\">\n",
       "      <th></th>\n",
       "      <th>local_cell_index</th>\n",
       "      <th>local_branch_index</th>\n",
       "      <th>local_comp_index</th>\n",
       "      <th>length</th>\n",
       "      <th>radius</th>\n",
       "      <th>axial_resistivity</th>\n",
       "      <th>capacitance</th>\n",
       "      <th>v</th>\n",
       "      <th>area</th>\n",
       "      <th>volume</th>\n",
       "      <th>...</th>\n",
       "      <th>resistive_load_out</th>\n",
       "      <th>x</th>\n",
       "      <th>y</th>\n",
       "      <th>z</th>\n",
       "      <th>basal</th>\n",
       "      <th>soma</th>\n",
       "      <th>global_cell_index</th>\n",
       "      <th>global_branch_index</th>\n",
       "      <th>global_comp_index</th>\n",
       "      <th>controlled_by_param</th>\n",
       "    </tr>\n",
       "  </thead>\n",
       "  <tbody>\n",
       "    <tr>\n",
       "      <th>0</th>\n",
       "      <td>0</td>\n",
       "      <td>0</td>\n",
       "      <td>0</td>\n",
       "      <td>20.0</td>\n",
       "      <td>10.0</td>\n",
       "      <td>5000.0</td>\n",
       "      <td>1.0</td>\n",
       "      <td>-70.0</td>\n",
       "      <td>1256.637061</td>\n",
       "      <td>4188.790205</td>\n",
       "      <td>...</td>\n",
       "      <td>0.031831</td>\n",
       "      <td>0.0</td>\n",
       "      <td>0.0</td>\n",
       "      <td>0.0</td>\n",
       "      <td>False</td>\n",
       "      <td>True</td>\n",
       "      <td>0</td>\n",
       "      <td>0</td>\n",
       "      <td>0</td>\n",
       "      <td>0</td>\n",
       "    </tr>\n",
       "  </tbody>\n",
       "</table>\n",
       "<p>1 rows × 21 columns</p>\n",
       "</div>"
      ],
      "text/plain": [
       "   local_cell_index  local_branch_index  local_comp_index  length  radius  \\\n",
       "0                 0                   0                 0    20.0    10.0   \n",
       "\n",
       "   axial_resistivity  capacitance     v         area       volume  ...  \\\n",
       "0             5000.0          1.0 -70.0  1256.637061  4188.790205  ...   \n",
       "\n",
       "   resistive_load_out    x    y    z  basal  soma  global_cell_index  \\\n",
       "0            0.031831  0.0  0.0  0.0  False  True                  0   \n",
       "\n",
       "   global_branch_index  global_comp_index  controlled_by_param  \n",
       "0                    0                  0                    0  \n",
       "\n",
       "[1 rows x 21 columns]"
      ]
     },
     "execution_count": 7,
     "metadata": {},
     "output_type": "execute_result"
    }
   ],
   "source": [
    "cell.soma.nodes"
   ]
  },
  {
   "cell_type": "code",
   "execution_count": 8,
   "id": "1ae80be8",
   "metadata": {},
   "outputs": [
    {
     "data": {
      "text/html": [
       "<div>\n",
       "<style scoped>\n",
       "    .dataframe tbody tr th:only-of-type {\n",
       "        vertical-align: middle;\n",
       "    }\n",
       "\n",
       "    .dataframe tbody tr th {\n",
       "        vertical-align: top;\n",
       "    }\n",
       "\n",
       "    .dataframe thead th {\n",
       "        text-align: right;\n",
       "    }\n",
       "</style>\n",
       "<table border=\"1\" class=\"dataframe\">\n",
       "  <thead>\n",
       "    <tr style=\"text-align: right;\">\n",
       "      <th></th>\n",
       "      <th>local_cell_index</th>\n",
       "      <th>local_branch_index</th>\n",
       "      <th>local_comp_index</th>\n",
       "      <th>length</th>\n",
       "      <th>radius</th>\n",
       "      <th>axial_resistivity</th>\n",
       "      <th>capacitance</th>\n",
       "      <th>v</th>\n",
       "      <th>area</th>\n",
       "      <th>volume</th>\n",
       "      <th>...</th>\n",
       "      <th>resistive_load_out</th>\n",
       "      <th>x</th>\n",
       "      <th>y</th>\n",
       "      <th>z</th>\n",
       "      <th>basal</th>\n",
       "      <th>soma</th>\n",
       "      <th>global_cell_index</th>\n",
       "      <th>global_branch_index</th>\n",
       "      <th>global_comp_index</th>\n",
       "      <th>controlled_by_param</th>\n",
       "    </tr>\n",
       "  </thead>\n",
       "  <tbody>\n",
       "    <tr>\n",
       "      <th>1</th>\n",
       "      <td>0</td>\n",
       "      <td>0</td>\n",
       "      <td>0</td>\n",
       "      <td>490.000000</td>\n",
       "      <td>0.2</td>\n",
       "      <td>5000.0</td>\n",
       "      <td>1.0</td>\n",
       "      <td>-70.0</td>\n",
       "      <td>615.752160</td>\n",
       "      <td>61.575216</td>\n",
       "      <td>...</td>\n",
       "      <td>1949.648053</td>\n",
       "      <td>255.0</td>\n",
       "      <td>0.0</td>\n",
       "      <td>0.0</td>\n",
       "      <td>True</td>\n",
       "      <td>False</td>\n",
       "      <td>0</td>\n",
       "      <td>1</td>\n",
       "      <td>1</td>\n",
       "      <td>0</td>\n",
       "    </tr>\n",
       "    <tr>\n",
       "      <th>2</th>\n",
       "      <td>0</td>\n",
       "      <td>1</td>\n",
       "      <td>0</td>\n",
       "      <td>282.842712</td>\n",
       "      <td>0.2</td>\n",
       "      <td>5000.0</td>\n",
       "      <td>1.0</td>\n",
       "      <td>-70.0</td>\n",
       "      <td>355.430635</td>\n",
       "      <td>35.543064</td>\n",
       "      <td>...</td>\n",
       "      <td>1125.395395</td>\n",
       "      <td>600.0</td>\n",
       "      <td>100.0</td>\n",
       "      <td>0.0</td>\n",
       "      <td>True</td>\n",
       "      <td>False</td>\n",
       "      <td>0</td>\n",
       "      <td>2</td>\n",
       "      <td>2</td>\n",
       "      <td>0</td>\n",
       "    </tr>\n",
       "    <tr>\n",
       "      <th>3</th>\n",
       "      <td>0</td>\n",
       "      <td>2</td>\n",
       "      <td>0</td>\n",
       "      <td>282.842712</td>\n",
       "      <td>0.2</td>\n",
       "      <td>5000.0</td>\n",
       "      <td>1.0</td>\n",
       "      <td>-70.0</td>\n",
       "      <td>355.430635</td>\n",
       "      <td>35.543064</td>\n",
       "      <td>...</td>\n",
       "      <td>1125.395395</td>\n",
       "      <td>600.0</td>\n",
       "      <td>-100.0</td>\n",
       "      <td>0.0</td>\n",
       "      <td>True</td>\n",
       "      <td>False</td>\n",
       "      <td>0</td>\n",
       "      <td>3</td>\n",
       "      <td>3</td>\n",
       "      <td>0</td>\n",
       "    </tr>\n",
       "  </tbody>\n",
       "</table>\n",
       "<p>3 rows × 21 columns</p>\n",
       "</div>"
      ],
      "text/plain": [
       "   local_cell_index  local_branch_index  local_comp_index      length  radius  \\\n",
       "1                 0                   0                 0  490.000000     0.2   \n",
       "2                 0                   1                 0  282.842712     0.2   \n",
       "3                 0                   2                 0  282.842712     0.2   \n",
       "\n",
       "   axial_resistivity  capacitance     v        area     volume  ...  \\\n",
       "1             5000.0          1.0 -70.0  615.752160  61.575216  ...   \n",
       "2             5000.0          1.0 -70.0  355.430635  35.543064  ...   \n",
       "3             5000.0          1.0 -70.0  355.430635  35.543064  ...   \n",
       "\n",
       "   resistive_load_out      x      y    z  basal   soma  global_cell_index  \\\n",
       "1         1949.648053  255.0    0.0  0.0   True  False                  0   \n",
       "2         1125.395395  600.0  100.0  0.0   True  False                  0   \n",
       "3         1125.395395  600.0 -100.0  0.0   True  False                  0   \n",
       "\n",
       "   global_branch_index  global_comp_index  controlled_by_param  \n",
       "1                    1                  1                    0  \n",
       "2                    2                  2                    0  \n",
       "3                    3                  3                    0  \n",
       "\n",
       "[3 rows x 21 columns]"
      ]
     },
     "execution_count": 8,
     "metadata": {},
     "output_type": "execute_result"
    }
   ],
   "source": [
    "cell.basal.nodes"
   ]
  },
  {
   "cell_type": "markdown",
   "id": "ebd433c2",
   "metadata": {},
   "source": [
    "More information on creating views can be found in our [Jaxley tutorial](https://jaxley.readthedocs.io/en/latest/tutorials/00_jaxley_api.html)."
   ]
  },
  {
   "cell_type": "markdown",
   "id": "bc9455b2",
   "metadata": {},
   "source": [
    "### Channels"
   ]
  },
  {
   "cell_type": "markdown",
   "id": "2afec4ed",
   "metadata": {},
   "source": [
    "The `Cell`s that we have created above will not do anything interesting, since by default `Jaxley` initializes them without any mechanisms in the membrane. To change this, we have to insert channels into the membrane. For this purpose `Jaxley` implements `Channel`s that can be inserted into any compartment using the `insert` method of a `Module` or a `View`:"
   ]
  },
  {
   "cell_type": "code",
   "execution_count": 9,
   "id": "2f0c6c8e",
   "metadata": {},
   "outputs": [],
   "source": [
    "from jaxley.channels import Na, K, Leak"
   ]
  },
  {
   "cell_type": "code",
   "execution_count": 10,
   "id": "501cb771",
   "metadata": {},
   "outputs": [],
   "source": [
    "# insert a Leak channel into all compartments in the Module.\n",
    "cell.insert(Leak())"
   ]
  },
  {
   "cell_type": "markdown",
   "id": "af0317fb",
   "metadata": {},
   "source": [
    "This is also were `View`s come in handy, as it allows to easily target the insertion of channels to specific compartments."
   ]
  },
  {
   "cell_type": "code",
   "execution_count": 11,
   "id": "053b3512",
   "metadata": {},
   "outputs": [
    {
     "data": {
      "text/html": [
       "<div>\n",
       "<style scoped>\n",
       "    .dataframe tbody tr th:only-of-type {\n",
       "        vertical-align: middle;\n",
       "    }\n",
       "\n",
       "    .dataframe tbody tr th {\n",
       "        vertical-align: top;\n",
       "    }\n",
       "\n",
       "    .dataframe thead th {\n",
       "        text-align: right;\n",
       "    }\n",
       "</style>\n",
       "<table border=\"1\" class=\"dataframe\">\n",
       "  <thead>\n",
       "    <tr style=\"text-align: right;\">\n",
       "      <th></th>\n",
       "      <th>global_cell_index</th>\n",
       "      <th>Na</th>\n",
       "      <th>K</th>\n",
       "      <th>Leak</th>\n",
       "    </tr>\n",
       "  </thead>\n",
       "  <tbody>\n",
       "    <tr>\n",
       "      <th>0</th>\n",
       "      <td>0</td>\n",
       "      <td>True</td>\n",
       "      <td>True</td>\n",
       "      <td>True</td>\n",
       "    </tr>\n",
       "    <tr>\n",
       "      <th>1</th>\n",
       "      <td>0</td>\n",
       "      <td>False</td>\n",
       "      <td>False</td>\n",
       "      <td>True</td>\n",
       "    </tr>\n",
       "    <tr>\n",
       "      <th>2</th>\n",
       "      <td>0</td>\n",
       "      <td>False</td>\n",
       "      <td>False</td>\n",
       "      <td>True</td>\n",
       "    </tr>\n",
       "    <tr>\n",
       "      <th>3</th>\n",
       "      <td>0</td>\n",
       "      <td>False</td>\n",
       "      <td>False</td>\n",
       "      <td>True</td>\n",
       "    </tr>\n",
       "  </tbody>\n",
       "</table>\n",
       "</div>"
      ],
      "text/plain": [
       "   global_cell_index     Na      K  Leak\n",
       "0                  0   True   True  True\n",
       "1                  0  False  False  True\n",
       "2                  0  False  False  True\n",
       "3                  0  False  False  True"
      ]
     },
     "execution_count": 11,
     "metadata": {},
     "output_type": "execute_result"
    }
   ],
   "source": [
    "cell.branch(0).insert(Na())\n",
    "cell.branch(0).insert(K())\n",
    "\n",
    "# K and Na channels were only insert into cell 0\n",
    "cell.nodes[[\"global_cell_index\", \"Na\", \"K\", \"Leak\"]]"
   ]
  },
  {
   "cell_type": "markdown",
   "id": "a4ffda56",
   "metadata": {},
   "source": [
    "### Changing parameters"
   ]
  },
  {
   "cell_type": "markdown",
   "id": "1769af7d",
   "metadata": {},
   "source": [
    "You can change parameters of your `Cell` with the `.set()` method:"
   ]
  },
  {
   "cell_type": "code",
   "execution_count": 12,
   "id": "02a2d295",
   "metadata": {},
   "outputs": [],
   "source": [
    "cell.set(\"axial_resistivity\", 100.0)\n",
    "cell.set(\"Na_gNa\", 0.08)"
   ]
  },
  {
   "cell_type": "markdown",
   "id": "2f301840",
   "metadata": {},
   "source": [
    "### Stimulating, recording, and simulating the network"
   ]
  },
  {
   "cell_type": "markdown",
   "id": "81172cf0",
   "metadata": {},
   "source": [
    "We will now set up a simulation of the network. This works exactly as it does for single neurons:"
   ]
  },
  {
   "cell_type": "code",
   "execution_count": 13,
   "id": "a72a7c66",
   "metadata": {},
   "outputs": [],
   "source": [
    "# Stimulus.\n",
    "i_delay = 3.0  # ms\n",
    "i_amp = 1.0  # nA\n",
    "i_dur = 2.0  # ms\n",
    "\n",
    "# Duration and step size.\n",
    "dt = 0.025  # ms\n",
    "t_max = 50.0  # ms"
   ]
  },
  {
   "cell_type": "code",
   "execution_count": 14,
   "id": "e254184f",
   "metadata": {},
   "outputs": [],
   "source": [
    "time_vec = np.arange(0.0, t_max + dt, dt)"
   ]
  },
  {
   "cell_type": "markdown",
   "id": "73212c75",
   "metadata": {},
   "source": [
    "We stimulate the neuron in a branch of its dendrite and record the voltage from the soma:"
   ]
  },
  {
   "cell_type": "code",
   "execution_count": 15,
   "id": "cfd69d5f",
   "metadata": {},
   "outputs": [
    {
     "name": "stdout",
     "output_type": "stream",
     "text": [
      "Added 1 external_states. See `.externals` for details.\n",
      "Added 1 recordings. See `.recordings` for details.\n"
     ]
    }
   ],
   "source": [
    "current = jx.step_current(i_delay, i_dur, i_amp, dt, t_max)\n",
    "\n",
    "cell.delete_stimuli()\n",
    "cell.basal.branch(0).loc(0.0).stimulate(current)\n",
    "\n",
    "cell.delete_recordings()\n",
    "cell.soma.branch(0).loc(0.0).record()"
   ]
  },
  {
   "cell_type": "markdown",
   "id": "26154ed5",
   "metadata": {},
   "source": [
    "Finally, we can again run the network simulation and plot the result:"
   ]
  },
  {
   "cell_type": "code",
   "execution_count": 16,
   "id": "94d5c714",
   "metadata": {},
   "outputs": [],
   "source": [
    "voltages = jx.integrate(cell, delta_t=dt)"
   ]
  },
  {
   "cell_type": "code",
   "execution_count": 17,
   "id": "2a427115",
   "metadata": {},
   "outputs": [
    {
     "data": {
      "image/png": "[encoded data removed]",
      "text/plain": [
       "<Figure size 400x200 with 1 Axes>"
      ]
     },
     "metadata": {},
     "output_type": "display_data"
    }
   ],
   "source": [
    "time_vector = np.arange(0, t_max + 2 * dt, dt)\n",
    "\n",
    "fig, ax = plt.subplots(1, 1, figsize=(4, 2))\n",
    "_ = ax.plot(time_vector, voltages.T)\n",
    "_ = ax.set_xlabel(\"Time (ms)\")\n",
    "_ = ax.set_ylabel(\"Voltage (mV)\")"
   ]
  },
  {
   "cell_type": "markdown",
   "id": "43a58e9f",
   "metadata": {},
   "source": [
    "### Tasks for participants"
   ]
  },
  {
   "cell_type": "markdown",
   "id": "eecf21d1",
   "metadata": {},
   "source": [
    "1) Modify the sodium conductance (see above: `cell.set(\"Na_gNa\", 0.08)`) and see how it impacts the simulation result.  \n",
    "2) Increase the stimulus amplitude (see above `i_amp = 1.0`) and see how it impacts the simulation result.  \n",
    "3) Insert a recording into a branch of the basal dendrite and plot the voltage there.  "
   ]
  },
  {
   "cell_type": "markdown",
   "id": "4f2ef738",
   "metadata": {},
   "source": [
    "## Networks"
   ]
  },
  {
   "cell_type": "markdown",
   "id": "b496406b",
   "metadata": {},
   "source": [
    "Several `Cell`s can be grouped together to form a `Network`, which can then be connected together using `Synpase`s."
   ]
  },
  {
   "cell_type": "markdown",
   "id": "1d1cd2a0",
   "metadata": {},
   "source": [
    "We previously gave a brief introduction to defining cells. For now, let us re-define the cell from scratch:"
   ]
  },
  {
   "cell_type": "code",
   "execution_count": 18,
   "id": "94d2c199",
   "metadata": {},
   "outputs": [],
   "source": [
    "cell = jx.read_swc(\"mini_cell.swc\", ncomp=1)"
   ]
  },
  {
   "cell_type": "markdown",
   "id": "834e5c51",
   "metadata": {},
   "source": [
    "We can assemble multiple cells into a network by using `jx.Network`, which takes a list of `jx.Cell`s. Here, we assemble 11 cells into a network:"
   ]
  },
  {
   "cell_type": "code",
   "execution_count": 19,
   "id": "80186ec0",
   "metadata": {},
   "outputs": [],
   "source": [
    "num_cells = 11\n",
    "net = jx.Network([cell for _ in range(num_cells)])"
   ]
  },
  {
   "cell_type": "markdown",
   "id": "2abe8e72",
   "metadata": {},
   "source": [
    "At this point, we can already visualize this network:"
   ]
  },
  {
   "cell_type": "code",
   "execution_count": 20,
   "id": "509087ab",
   "metadata": {},
   "outputs": [
    {
     "data": {
      "image/png": "[encoded data removed]",
      "text/plain": [
       "<Figure size 300x600 with 1 Axes>"
      ]
     },
     "metadata": {},
     "output_type": "display_data"
    }
   ],
   "source": [
    "net.rotate(180)\n",
    "net.arrange_in_layers(layers=[10, 1], within_layer_offset=500, between_layer_offset=1000)\n",
    "\n",
    "fig, ax = plt.subplots(1, 1, figsize=(3, 6))\n",
    "_ = net.vis(ax=ax, detail=\"full\")\n",
    "_ = ax.set_aspect(\"equal\")"
   ]
  },
  {
   "cell_type": "markdown",
   "id": "96449fcf",
   "metadata": {},
   "source": [
    "...but we can also visualize subsets of the network with `View`s:"
   ]
  },
  {
   "cell_type": "code",
   "execution_count": 21,
   "id": "5efd0bca",
   "metadata": {},
   "outputs": [
    {
     "data": {
      "image/png": "[encoded data removed]",
      "text/plain": [
       "<Figure size 300x300 with 1 Axes>"
      ]
     },
     "metadata": {},
     "output_type": "display_data"
    }
   ],
   "source": [
    "# ... and Views\n",
    "fig, ax = plt.subplots(1,1, figsize=(3,3))\n",
    "net.cell(0).vis(ax=ax, color=\"blue\")  # View of the 0th cell of the network\n",
    "net.cell(1).vis(ax=ax, color=\"red\")  # View of the 1st cell of the network\n",
    "\n",
    "net.cell(0).branch(0).vis(ax=ax, color=\"green\")  # View of the 1st branch of the 0th cell of the network\n",
    "ax.set_aspect(\"equal\")"
   ]
  },
  {
   "cell_type": "markdown",
   "id": "28cc5f2f",
   "metadata": {},
   "source": [
    "As you can see, the neurons are not connected yet. Let's fix this by connecting neurons with synapses. We will build a network consisting of two layers: 10 neurons in the input layer and 1 neuron in the output layer.\n",
    "\n",
    "For example, we can use `Jaxley`'s `fully_connect` method to connect these layers:"
   ]
  },
  {
   "cell_type": "code",
   "execution_count": 22,
   "id": "3b7bc750",
   "metadata": {},
   "outputs": [],
   "source": [
    "from jaxley.connect import connect, fully_connect\n",
    "from jaxley.synapses import IonotropicSynapse\n",
    "\n",
    "pre = net.cell(range(10))\n",
    "post = net.cell(10)\n",
    "fully_connect(pre, post, IonotropicSynapse())"
   ]
  },
  {
   "cell_type": "markdown",
   "id": "6e0f21eb",
   "metadata": {},
   "source": [
    "Let's visualize this again:"
   ]
  },
  {
   "cell_type": "code",
   "execution_count": 23,
   "id": "bd54baca",
   "metadata": {},
   "outputs": [
    {
     "data": {
      "image/png": "[encoded data removed]",
      "text/plain": [
       "<Figure size 300x600 with 1 Axes>"
      ]
     },
     "metadata": {},
     "output_type": "display_data"
    }
   ],
   "source": [
    "fig, ax = plt.subplots(1, 1, figsize=(3, 6))\n",
    "_ = net.vis(ax=ax, detail=\"full\")"
   ]
  },
  {
   "cell_type": "markdown",
   "id": "06f40661",
   "metadata": {},
   "source": [
    "As you can see, the `fully_connect` method inserted one synapse (in blue) from every neuron in the first layer to the output neuron. The `fully_connect` method builds this synapse from the zero-eth compartment and zero-eth branch of the presynaptic neuron onto the zero-eth compartment and zero-eth branch of the postsynaptic neuron by default. Allowing the post-synaptic compartment to be randomly chosen is also possible by setting `random_post_comp=True` in the `fully_connect` call. If you want more control over the pre- and post-synaptic branches, you can use the `connect` method:"
   ]
  },
  {
   "cell_type": "markdown",
   "id": "714a828d",
   "metadata": {},
   "source": [
    "To connect different cells together, Jaxley implements a `connect` method, that can be used to couple 2 compartments together using a `Synapse`. Synapses in Jaxley work only on the compartment level, that means to be able to connect two cells, you need to specify the exact compartments on a given cell to make the connections between. Below is an example of this:"
   ]
  },
  {
   "cell_type": "code",
   "execution_count": 24,
   "id": "37e65432",
   "metadata": {},
   "outputs": [],
   "source": [
    "pre = net.cell(0).branch(2).loc(1.0)\n",
    "post = net.cell(10).branch(1).loc(0.0)\n",
    "connect(pre, post, IonotropicSynapse())"
   ]
  },
  {
   "cell_type": "code",
   "execution_count": 25,
   "id": "278d73fa",
   "metadata": {},
   "outputs": [
    {
     "data": {
      "image/png": "[encoded data removed]",
      "text/plain": [
       "<Figure size 300x600 with 1 Axes>"
      ]
     },
     "metadata": {},
     "output_type": "display_data"
    }
   ],
   "source": [
    "fig, ax = plt.subplots(1, 1, figsize=(3, 6))\n",
    "_ = net.vis(ax=ax, detail=\"full\")"
   ]
  },
  {
   "cell_type": "markdown",
   "id": "6c53a265",
   "metadata": {},
   "source": [
    "### Inspecting and changing synaptic parameters"
   ]
  },
  {
   "cell_type": "markdown",
   "id": "ff5f1e06",
   "metadata": {},
   "source": [
    "You can inspect synaptic parameters via the `.edges` attribute:"
   ]
  },
  {
   "cell_type": "code",
   "execution_count": 26,
   "id": "f8b12170",
   "metadata": {},
   "outputs": [
    {
     "data": {
      "text/html": [
       "<div>\n",
       "<style scoped>\n",
       "    .dataframe tbody tr th:only-of-type {\n",
       "        vertical-align: middle;\n",
       "    }\n",
       "\n",
       "    .dataframe tbody tr th {\n",
       "        vertical-align: top;\n",
       "    }\n",
       "\n",
       "    .dataframe thead th {\n",
       "        text-align: right;\n",
       "    }\n",
       "</style>\n",
       "<table border=\"1\" class=\"dataframe\">\n",
       "  <thead>\n",
       "    <tr style=\"text-align: right;\">\n",
       "      <th></th>\n",
       "      <th>global_edge_index</th>\n",
       "      <th>index_within_type</th>\n",
       "      <th>pre_index</th>\n",
       "      <th>post_index</th>\n",
       "      <th>type</th>\n",
       "      <th>type_ind</th>\n",
       "      <th>pre_locs</th>\n",
       "      <th>post_locs</th>\n",
       "      <th>IonotropicSynapse_gS</th>\n",
       "      <th>IonotropicSynapse_e_syn</th>\n",
       "      <th>IonotropicSynapse_k_minus</th>\n",
       "      <th>IonotropicSynapse_v_th</th>\n",
       "      <th>IonotropicSynapse_delta</th>\n",
       "      <th>IonotropicSynapse_s</th>\n",
       "      <th>controlled_by_param</th>\n",
       "    </tr>\n",
       "  </thead>\n",
       "  <tbody>\n",
       "    <tr>\n",
       "      <th>0</th>\n",
       "      <td>0</td>\n",
       "      <td>0</td>\n",
       "      <td>0</td>\n",
       "      <td>60</td>\n",
       "      <td>IonotropicSynapse</td>\n",
       "      <td>0</td>\n",
       "      <td>0.5</td>\n",
       "      <td>0.5</td>\n",
       "      <td>0.0001</td>\n",
       "      <td>0.0</td>\n",
       "      <td>0.025</td>\n",
       "      <td>-35.0</td>\n",
       "      <td>10.0</td>\n",
       "      <td>0.2</td>\n",
       "      <td>0</td>\n",
       "    </tr>\n",
       "    <tr>\n",
       "      <th>1</th>\n",
       "      <td>1</td>\n",
       "      <td>1</td>\n",
       "      <td>6</td>\n",
       "      <td>60</td>\n",
       "      <td>IonotropicSynapse</td>\n",
       "      <td>0</td>\n",
       "      <td>0.5</td>\n",
       "      <td>0.5</td>\n",
       "      <td>0.0001</td>\n",
       "      <td>0.0</td>\n",
       "      <td>0.025</td>\n",
       "      <td>-35.0</td>\n",
       "      <td>10.0</td>\n",
       "      <td>0.2</td>\n",
       "      <td>0</td>\n",
       "    </tr>\n",
       "    <tr>\n",
       "      <th>2</th>\n",
       "      <td>2</td>\n",
       "      <td>2</td>\n",
       "      <td>12</td>\n",
       "      <td>60</td>\n",
       "      <td>IonotropicSynapse</td>\n",
       "      <td>0</td>\n",
       "      <td>0.5</td>\n",
       "      <td>0.5</td>\n",
       "      <td>0.0001</td>\n",
       "      <td>0.0</td>\n",
       "      <td>0.025</td>\n",
       "      <td>-35.0</td>\n",
       "      <td>10.0</td>\n",
       "      <td>0.2</td>\n",
       "      <td>0</td>\n",
       "    </tr>\n",
       "    <tr>\n",
       "      <th>3</th>\n",
       "      <td>3</td>\n",
       "      <td>3</td>\n",
       "      <td>18</td>\n",
       "      <td>60</td>\n",
       "      <td>IonotropicSynapse</td>\n",
       "      <td>0</td>\n",
       "      <td>0.5</td>\n",
       "      <td>0.5</td>\n",
       "      <td>0.0001</td>\n",
       "      <td>0.0</td>\n",
       "      <td>0.025</td>\n",
       "      <td>-35.0</td>\n",
       "      <td>10.0</td>\n",
       "      <td>0.2</td>\n",
       "      <td>0</td>\n",
       "    </tr>\n",
       "    <tr>\n",
       "      <th>4</th>\n",
       "      <td>4</td>\n",
       "      <td>4</td>\n",
       "      <td>24</td>\n",
       "      <td>60</td>\n",
       "      <td>IonotropicSynapse</td>\n",
       "      <td>0</td>\n",
       "      <td>0.5</td>\n",
       "      <td>0.5</td>\n",
       "      <td>0.0001</td>\n",
       "      <td>0.0</td>\n",
       "      <td>0.025</td>\n",
       "      <td>-35.0</td>\n",
       "      <td>10.0</td>\n",
       "      <td>0.2</td>\n",
       "      <td>0</td>\n",
       "    </tr>\n",
       "    <tr>\n",
       "      <th>5</th>\n",
       "      <td>5</td>\n",
       "      <td>5</td>\n",
       "      <td>30</td>\n",
       "      <td>60</td>\n",
       "      <td>IonotropicSynapse</td>\n",
       "      <td>0</td>\n",
       "      <td>0.5</td>\n",
       "      <td>0.5</td>\n",
       "      <td>0.0001</td>\n",
       "      <td>0.0</td>\n",
       "      <td>0.025</td>\n",
       "      <td>-35.0</td>\n",
       "      <td>10.0</td>\n",
       "      <td>0.2</td>\n",
       "      <td>0</td>\n",
       "    </tr>\n",
       "    <tr>\n",
       "      <th>6</th>\n",
       "      <td>6</td>\n",
       "      <td>6</td>\n",
       "      <td>36</td>\n",
       "      <td>60</td>\n",
       "      <td>IonotropicSynapse</td>\n",
       "      <td>0</td>\n",
       "      <td>0.5</td>\n",
       "      <td>0.5</td>\n",
       "      <td>0.0001</td>\n",
       "      <td>0.0</td>\n",
       "      <td>0.025</td>\n",
       "      <td>-35.0</td>\n",
       "      <td>10.0</td>\n",
       "      <td>0.2</td>\n",
       "      <td>0</td>\n",
       "    </tr>\n",
       "    <tr>\n",
       "      <th>7</th>\n",
       "      <td>7</td>\n",
       "      <td>7</td>\n",
       "      <td>42</td>\n",
       "      <td>60</td>\n",
       "      <td>IonotropicSynapse</td>\n",
       "      <td>0</td>\n",
       "      <td>0.5</td>\n",
       "      <td>0.5</td>\n",
       "      <td>0.0001</td>\n",
       "      <td>0.0</td>\n",
       "      <td>0.025</td>\n",
       "      <td>-35.0</td>\n",
       "      <td>10.0</td>\n",
       "      <td>0.2</td>\n",
       "      <td>0</td>\n",
       "    </tr>\n",
       "    <tr>\n",
       "      <th>8</th>\n",
       "      <td>8</td>\n",
       "      <td>8</td>\n",
       "      <td>48</td>\n",
       "      <td>60</td>\n",
       "      <td>IonotropicSynapse</td>\n",
       "      <td>0</td>\n",
       "      <td>0.5</td>\n",
       "      <td>0.5</td>\n",
       "      <td>0.0001</td>\n",
       "      <td>0.0</td>\n",
       "      <td>0.025</td>\n",
       "      <td>-35.0</td>\n",
       "      <td>10.0</td>\n",
       "      <td>0.2</td>\n",
       "      <td>0</td>\n",
       "    </tr>\n",
       "    <tr>\n",
       "      <th>9</th>\n",
       "      <td>9</td>\n",
       "      <td>9</td>\n",
       "      <td>54</td>\n",
       "      <td>60</td>\n",
       "      <td>IonotropicSynapse</td>\n",
       "      <td>0</td>\n",
       "      <td>0.5</td>\n",
       "      <td>0.5</td>\n",
       "      <td>0.0001</td>\n",
       "      <td>0.0</td>\n",
       "      <td>0.025</td>\n",
       "      <td>-35.0</td>\n",
       "      <td>10.0</td>\n",
       "      <td>0.2</td>\n",
       "      <td>0</td>\n",
       "    </tr>\n",
       "    <tr>\n",
       "      <th>10</th>\n",
       "      <td>10</td>\n",
       "      <td>10</td>\n",
       "      <td>2</td>\n",
       "      <td>61</td>\n",
       "      <td>IonotropicSynapse</td>\n",
       "      <td>0</td>\n",
       "      <td>0.5</td>\n",
       "      <td>0.5</td>\n",
       "      <td>0.0001</td>\n",
       "      <td>0.0</td>\n",
       "      <td>0.025</td>\n",
       "      <td>-35.0</td>\n",
       "      <td>10.0</td>\n",
       "      <td>0.2</td>\n",
       "      <td>0</td>\n",
       "    </tr>\n",
       "  </tbody>\n",
       "</table>\n",
       "</div>"
      ],
      "text/plain": [
       "    global_edge_index  index_within_type  pre_index  post_index  \\\n",
       "0                   0                  0          0          60   \n",
       "1                   1                  1          6          60   \n",
       "2                   2                  2         12          60   \n",
       "3                   3                  3         18          60   \n",
       "4                   4                  4         24          60   \n",
       "5                   5                  5         30          60   \n",
       "6                   6                  6         36          60   \n",
       "7                   7                  7         42          60   \n",
       "8                   8                  8         48          60   \n",
       "9                   9                  9         54          60   \n",
       "10                 10                 10          2          61   \n",
       "\n",
       "                 type  type_ind  pre_locs  post_locs  IonotropicSynapse_gS  \\\n",
       "0   IonotropicSynapse         0       0.5        0.5                0.0001   \n",
       "1   IonotropicSynapse         0       0.5        0.5                0.0001   \n",
       "2   IonotropicSynapse         0       0.5        0.5                0.0001   \n",
       "3   IonotropicSynapse         0       0.5        0.5                0.0001   \n",
       "4   IonotropicSynapse         0       0.5        0.5                0.0001   \n",
       "5   IonotropicSynapse         0       0.5        0.5                0.0001   \n",
       "6   IonotropicSynapse         0       0.5        0.5                0.0001   \n",
       "7   IonotropicSynapse         0       0.5        0.5                0.0001   \n",
       "8   IonotropicSynapse         0       0.5        0.5                0.0001   \n",
       "9   IonotropicSynapse         0       0.5        0.5                0.0001   \n",
       "10  IonotropicSynapse         0       0.5        0.5                0.0001   \n",
       "\n",
       "    IonotropicSynapse_e_syn  IonotropicSynapse_k_minus  \\\n",
       "0                       0.0                      0.025   \n",
       "1                       0.0                      0.025   \n",
       "2                       0.0                      0.025   \n",
       "3                       0.0                      0.025   \n",
       "4                       0.0                      0.025   \n",
       "5                       0.0                      0.025   \n",
       "6                       0.0                      0.025   \n",
       "7                       0.0                      0.025   \n",
       "8                       0.0                      0.025   \n",
       "9                       0.0                      0.025   \n",
       "10                      0.0                      0.025   \n",
       "\n",
       "    IonotropicSynapse_v_th  IonotropicSynapse_delta  IonotropicSynapse_s  \\\n",
       "0                    -35.0                     10.0                  0.2   \n",
       "1                    -35.0                     10.0                  0.2   \n",
       "2                    -35.0                     10.0                  0.2   \n",
       "3                    -35.0                     10.0                  0.2   \n",
       "4                    -35.0                     10.0                  0.2   \n",
       "5                    -35.0                     10.0                  0.2   \n",
       "6                    -35.0                     10.0                  0.2   \n",
       "7                    -35.0                     10.0                  0.2   \n",
       "8                    -35.0                     10.0                  0.2   \n",
       "9                    -35.0                     10.0                  0.2   \n",
       "10                   -35.0                     10.0                  0.2   \n",
       "\n",
       "    controlled_by_param  \n",
       "0                     0  \n",
       "1                     0  \n",
       "2                     0  \n",
       "3                     0  \n",
       "4                     0  \n",
       "5                     0  \n",
       "6                     0  \n",
       "7                     0  \n",
       "8                     0  \n",
       "9                     0  \n",
       "10                    0  "
      ]
     },
     "execution_count": 26,
     "metadata": {},
     "output_type": "execute_result"
    }
   ],
   "source": [
    "net.edges"
   ]
  },
  {
   "cell_type": "markdown",
   "id": "0c6f5ba7",
   "metadata": {},
   "source": [
    "To modify a parameter of all synapses you can again use `.set()`:"
   ]
  },
  {
   "cell_type": "code",
   "execution_count": 27,
   "id": "7d912b8e",
   "metadata": {},
   "outputs": [],
   "source": [
    "net.set(\"IonotropicSynapse_gS\", 0.0003)  # nS"
   ]
  },
  {
   "cell_type": "markdown",
   "id": "67cc2f4d",
   "metadata": {},
   "source": [
    "To modify individual syanptic parameters, use the `.select()` method. Below, we change the values of the first two synapses:"
   ]
  },
  {
   "cell_type": "code",
   "execution_count": 28,
   "id": "9f427732",
   "metadata": {},
   "outputs": [],
   "source": [
    "net.select(edges=[0, 1]).set(\"IonotropicSynapse_gS\", 0.0004)  # nS"
   ]
  },
  {
   "cell_type": "markdown",
   "id": "5d540c26",
   "metadata": {},
   "source": [
    "For more details on how to flexibly set synaptic parameters (e.g., by cell type, or by pre-synaptic cell index,...), see [this tutorial](https://jaxley.readthedocs.io/en/latest/tutorials/09_advanced_indexing.html)."
   ]
  },
  {
   "cell_type": "markdown",
   "id": "3c53a22d",
   "metadata": {},
   "source": [
    "As a simple example, we insert sodium, potassium, and leak into every compartment of every cell of the network."
   ]
  },
  {
   "cell_type": "code",
   "execution_count": 29,
   "id": "dfe8c87f",
   "metadata": {},
   "outputs": [],
   "source": [
    "net.insert(Na())\n",
    "net.insert(K())\n",
    "net.insert(Leak())"
   ]
  },
  {
   "cell_type": "markdown",
   "id": "c7bf9dd3",
   "metadata": {},
   "source": [
    "We then stimulate every neuron in the input layer and record the voltage of the output neuron:"
   ]
  },
  {
   "cell_type": "code",
   "execution_count": 30,
   "id": "0b2ddcec",
   "metadata": {},
   "outputs": [
    {
     "name": "stdout",
     "output_type": "stream",
     "text": [
      "Added 1 external_states. See `.externals` for details.\n",
      "Added 1 external_states. See `.externals` for details.\n",
      "Added 1 external_states. See `.externals` for details.\n",
      "Added 1 external_states. See `.externals` for details.\n",
      "Added 1 external_states. See `.externals` for details.\n",
      "Added 1 external_states. See `.externals` for details.\n",
      "Added 1 external_states. See `.externals` for details.\n",
      "Added 1 external_states. See `.externals` for details.\n",
      "Added 1 external_states. See `.externals` for details.\n",
      "Added 1 external_states. See `.externals` for details.\n",
      "Added 1 recordings. See `.recordings` for details.\n"
     ]
    }
   ],
   "source": [
    "# Stimulus.\n",
    "i_delay = 3.0  # ms\n",
    "i_amp = 1.0  # nA\n",
    "i_dur = 2.0  # ms\n",
    "\n",
    "# Duration and step size.\n",
    "dt = 0.025  # ms\n",
    "t_max = 50.0  # ms\n",
    "\n",
    "time_vec = np.arange(0.0, t_max + dt, dt)\n",
    "\n",
    "current = jx.step_current(i_delay, i_dur, i_amp, dt, t_max)\n",
    "net.delete_stimuli()\n",
    "for stim_ind in range(10):\n",
    "    net.cell(stim_ind).branch(0).loc(0.0).stimulate(current)\n",
    "\n",
    "net.delete_recordings()\n",
    "net.cell(10).branch(0).loc(0.0).record()"
   ]
  },
  {
   "cell_type": "markdown",
   "id": "dd0b3115",
   "metadata": {},
   "source": [
    "Finally, we can again run the network simulation and plot the result:"
   ]
  },
  {
   "cell_type": "code",
   "execution_count": 31,
   "id": "4f266163",
   "metadata": {},
   "outputs": [],
   "source": [
    "voltages = jx.integrate(net, delta_t=dt)"
   ]
  },
  {
   "cell_type": "code",
   "execution_count": 32,
   "id": "55aa7f8c",
   "metadata": {},
   "outputs": [
    {
     "data": {
      "image/png": "[encoded data removed]",
      "text/plain": [
       "<Figure size 400x200 with 1 Axes>"
      ]
     },
     "metadata": {},
     "output_type": "display_data"
    }
   ],
   "source": [
    "time_vector = np.arange(0, t_max + 2 * dt, dt)\n",
    "\n",
    "fig, ax = plt.subplots(1, 1, figsize=(4, 2))\n",
    "_ = ax.plot(time_vector, voltages.T)\n",
    "_ = ax.set_xlabel(\"Time (ms)\")\n",
    "_ = ax.set_ylabel(\"Voltage (mV)\")"
   ]
  },
  {
   "cell_type": "markdown",
   "id": "f8727fd7",
   "metadata": {},
   "source": [
    "That's it! You now know how to simulate networks of morphologically detailed neurons. We recommend that you now have a look at how you can [speed up your simulation](https://jaxley.readthedocs.io/en/latest/tutorials/04_jit_and_vmap.html). To learn more about handling synaptic parameters, we recommend to check out [this tutorial](https://jaxley.readthedocs.io/en/latest/tutorials/09_advanced_indexing.html)."
   ]
  },
  {
   "cell_type": "markdown",
   "id": "39f1c9c5",
   "metadata": {},
   "source": [
    "### Tasks for participants"
   ]
  },
  {
   "cell_type": "markdown",
   "id": "17cfe4d4",
   "metadata": {},
   "source": [
    "1) Modify the synaptic conductance and inspect how it impacts the output voltage.  \n",
    "2) Currently, we insert sodium, potassium, and leak channels into all cells of the network. Instead, insert only the `Leak` channel everywhere, and insert sodium and potassium only in some cells, or even only in some branches of some cells. Inspect the resulting voltage.  "
   ]
  },
  {
   "cell_type": "markdown",
   "id": "f6577971",
   "metadata": {},
   "source": [
    "# Coffee break ☕"
   ]
  },
  {
   "cell_type": "markdown",
   "id": "0ed674ec",
   "metadata": {},
   "source": [
    "# Optimizing biophysical models"
   ]
  },
  {
   "cell_type": "markdown",
   "id": "86a2679b",
   "metadata": {},
   "source": [
    "In this section of the tutorial, you will learn how to train biophysical models in `Jaxley`. This includes the following:\n",
    "\n",
    "- compute the gradient with respect to parameters  \n",
    "- use parameter transformations  \n",
    "- define optimizers  \n",
    "- write dataloaders and parallelize across data  "
   ]
  },
  {
   "cell_type": "markdown",
   "id": "0cf1cc47",
   "metadata": {},
   "source": [
    "We will use the following functions for this section of the tutorial:"
   ]
  },
  {
   "cell_type": "code",
   "execution_count": 58,
   "id": "c5019db8",
   "metadata": {},
   "outputs": [],
   "source": [
    "from jax import config\n",
    "config.update(\"jax_enable_x64\", True)\n",
    "config.update(\"jax_platform_name\", \"cpu\")\n",
    "\n",
    "import matplotlib.pyplot as plt\n",
    "import numpy as np\n",
    "import jax\n",
    "import jax.numpy as jnp\n",
    "from jax import jit, vmap, value_and_grad\n",
    "\n",
    "import jaxley as jx\n",
    "from jaxley.channels import Leak\n",
    "from jaxley.synapses import TanhRateSynapse\n",
    "from jaxley.connect import fully_connect"
   ]
  },
  {
   "cell_type": "markdown",
   "id": "37b54785",
   "metadata": {},
   "source": [
    "We will first define a network similar to how we showed previously:"
   ]
  },
  {
   "cell_type": "code",
   "execution_count": 59,
   "id": "a2d472fa",
   "metadata": {},
   "outputs": [],
   "source": [
    "_ = np.random.seed(0)  # For synaptic locations.\n",
    "\n",
    "cell = jx.read_swc(\"mini_cell.swc\", ncomp=1)\n",
    "cell.set(\"axial_resistivity\", 100.0)  # ohm cm.\n",
    "net = jx.Network([cell for _ in range(4)])\n",
    "\n",
    "pre = net.cell([0, 1])\n",
    "post = net.cell([2, 3])\n",
    "fully_connect(pre, post, TanhRateSynapse())\n",
    "\n",
    "# Change some default values of the tanh synapse.\n",
    "net.TanhRateSynapse.set(\"TanhRateSynapse_x_offset\", -60.0)\n",
    "net.TanhRateSynapse.set(\"TanhRateSynapse_gS\", 5e-3)\n",
    "net.TanhRateSynapse.set(\"TanhRateSynapse_slope\", 0.1)\n",
    "\n",
    "net.insert(Leak())\n",
    "\n",
    "_ = np.random.seed(0)\n",
    "net.set(\"TanhRateSynapse_gS\", np.random.rand(4) * 0.01)\n",
    "\n",
    "dt = 0.025  # ms\n",
    "t_max = 5.0  # ms"
   ]
  },
  {
   "cell_type": "markdown",
   "id": "6d654f6f",
   "metadata": {},
   "source": [
    "This network consists of three neurons arranged in two layers:"
   ]
  },
  {
   "cell_type": "code",
   "execution_count": 60,
   "id": "c5750bc2",
   "metadata": {},
   "outputs": [
    {
     "data": {
      "image/png": "[encoded data removed]",
      "text/plain": [
       "<Figure size 300x200 with 1 Axes>"
      ]
     },
     "metadata": {},
     "output_type": "display_data"
    }
   ],
   "source": [
    "net.rotate(180)\n",
    "net.arrange_in_layers(layers=[2, 2], within_layer_offset=500, between_layer_offset=2000)\n",
    "fig, ax = plt.subplots(1, 1, figsize=(3, 2))\n",
    "_ = net.vis(ax=ax, detail=\"full\")\n",
    "_ = ax.set_aspect(\"equal\")"
   ]
  },
  {
   "cell_type": "markdown",
   "id": "ee5e1655",
   "metadata": {},
   "source": [
    "We consider the last neuron as the output neuron and record the voltage from there:"
   ]
  },
  {
   "cell_type": "code",
   "execution_count": 61,
   "id": "ae025422",
   "metadata": {},
   "outputs": [
    {
     "name": "stdout",
     "output_type": "stream",
     "text": [
      "Added 1 recordings. See `.recordings` for details.\n",
      "Added 1 recordings. See `.recordings` for details.\n"
     ]
    }
   ],
   "source": [
    "net.delete_recordings()\n",
    "net.cell(2).branch(0).loc(0.0).record()\n",
    "net.cell(3).branch(0).loc(0.0).record()"
   ]
  },
  {
   "cell_type": "markdown",
   "id": "87a950a3",
   "metadata": {},
   "source": [
    "### Defining a dataset"
   ]
  },
  {
   "cell_type": "markdown",
   "id": "bd616119",
   "metadata": {},
   "source": [
    "We will train this biophysical network on a classification task. The inputs will be values and the label is binary:"
   ]
  },
  {
   "cell_type": "code",
   "execution_count": 62,
   "id": "3fdb741f",
   "metadata": {},
   "outputs": [],
   "source": [
    "inputs = jnp.asarray(5 * np.random.rand(100, 2))\n",
    "labels = jnp.asarray((inputs[:, 0] + inputs[:, 1]) > 5.0)"
   ]
  },
  {
   "cell_type": "code",
   "execution_count": 63,
   "id": "afb0e3a6",
   "metadata": {},
   "outputs": [
    {
     "data": {
      "image/png": "[encoded data removed]",
      "text/plain": [
       "<Figure size 300x200 with 1 Axes>"
      ]
     },
     "metadata": {},
     "output_type": "display_data"
    }
   ],
   "source": [
    "fig, ax = plt.subplots(1, 1, figsize=(3, 2))\n",
    "_ = ax.scatter(inputs[labels, 0], inputs[labels, 1])\n",
    "_ = ax.scatter(inputs[~labels, 0], inputs[~labels, 1])"
   ]
  },
  {
   "cell_type": "code",
   "execution_count": 64,
   "id": "7ba906c2",
   "metadata": {},
   "outputs": [],
   "source": [
    "labels = labels.astype(int)"
   ]
  },
  {
   "cell_type": "markdown",
   "id": "f94e5cd9",
   "metadata": {},
   "source": [
    "### Defining trainable parameters"
   ]
  },
  {
   "cell_type": "markdown",
   "id": "5142bc12",
   "metadata": {},
   "source": [
    "This follows the same API as `.set()` seen in the previous tutorial. If you want to use a single parameter for every `axial_resistivity` in the entire network, do:"
   ]
  },
  {
   "cell_type": "code",
   "execution_count": 65,
   "id": "7f781b58",
   "metadata": {},
   "outputs": [
    {
     "name": "stdout",
     "output_type": "stream",
     "text": [
      "Number of newly added trainable parameters: 1. Total number of trainable parameters: 1\n"
     ]
    }
   ],
   "source": [
    "net.make_trainable(\"axial_resistivity\")"
   ]
  },
  {
   "cell_type": "markdown",
   "id": "f6ce7c67",
   "metadata": {},
   "source": [
    "We can also define parameters for individual compartments. To do this, use the `\"all\"` key. The following defines a separate parameter the sodium conductance for every compartment in the entire network:"
   ]
  },
  {
   "cell_type": "code",
   "execution_count": 66,
   "id": "15187070",
   "metadata": {},
   "outputs": [
    {
     "name": "stdout",
     "output_type": "stream",
     "text": [
      "Number of newly added trainable parameters: 16. Total number of trainable parameters: 17\n"
     ]
    }
   ],
   "source": [
    "net.cell(\"all\").branch(\"all\").loc(\"all\").make_trainable(\"Leak_gLeak\")"
   ]
  },
  {
   "cell_type": "markdown",
   "id": "5805a6d6",
   "metadata": {},
   "source": [
    "Synaptic parameters can be made trainable in the exact same way. To use a single parameter for all syanptic conductances in the entire network, do\n",
    "```python\n",
    "net.TanhRateSynapse.make_trainable(\"TanhRateSynapse_gS\")\n",
    "```"
   ]
  },
  {
   "cell_type": "markdown",
   "id": "99a88cb8",
   "metadata": {},
   "source": [
    "Here, we use a different syanptic conductance for all syanpses. This can be done as follows:"
   ]
  },
  {
   "cell_type": "code",
   "execution_count": 67,
   "id": "a0d22341",
   "metadata": {},
   "outputs": [
    {
     "name": "stdout",
     "output_type": "stream",
     "text": [
      "Number of newly added trainable parameters: 4. Total number of trainable parameters: 21\n"
     ]
    }
   ],
   "source": [
    "net.TanhRateSynapse.edge(\"all\").make_trainable(\"TanhRateSynapse_gS\")"
   ]
  },
  {
   "cell_type": "markdown",
   "id": "fa399ead",
   "metadata": {},
   "source": [
    "Once all parameters are defined, you have to use `.get_parameters()` to obtain all trainable parameters."
   ]
  },
  {
   "cell_type": "code",
   "execution_count": 68,
   "id": "7effee6a",
   "metadata": {},
   "outputs": [],
   "source": [
    "params = net.get_parameters()"
   ]
  },
  {
   "cell_type": "markdown",
   "id": "1439084e",
   "metadata": {},
   "source": [
    "### Stimulating the network\n",
    "\n",
    "The network above does not yet get any stimuli. We will use the 2D inputs from the dataset to stimulate the two input neurons. The amplitude of the step current corresponds to the input value. Below is the simulator that defines this:"
   ]
  },
  {
   "cell_type": "code",
   "execution_count": 69,
   "id": "c14b646d",
   "metadata": {},
   "outputs": [],
   "source": [
    "def simulate(params, inputs):\n",
    "    currents = jx.datapoint_to_step_currents(i_delay=1.0, i_dur=1.0, i_amp=inputs / 10, delta_t=dt, t_max=t_max)\n",
    "\n",
    "    data_stimuli = None\n",
    "    data_stimuli = net.cell(0).branch(0).loc(1.0).data_stimulate(currents[0], data_stimuli=data_stimuli)\n",
    "    data_stimuli = net.cell(1).branch(0).loc(1.0).data_stimulate(currents[1], data_stimuli=data_stimuli)\n",
    "\n",
    "    return jx.integrate(net, params=params, data_stimuli=data_stimuli, delta_t=dt, t_max=t_max)\n",
    "\n",
    "batched_simulate = vmap(simulate, in_axes=(None, 0))"
   ]
  },
  {
   "cell_type": "markdown",
   "id": "f88137a5",
   "metadata": {},
   "source": [
    "Let us simulate this network and plot the voltage of the output neurons:"
   ]
  },
  {
   "cell_type": "code",
   "execution_count": 90,
   "id": "8a1cdfef",
   "metadata": {},
   "outputs": [
    {
     "data": {
      "image/png": "[encoded data removed]",
      "text/plain": [
       "<Figure size 400x200 with 1 Axes>"
      ]
     },
     "metadata": {},
     "output_type": "display_data"
    }
   ],
   "source": [
    "voltages = simulate(params, inputs[0])\n",
    "\n",
    "time_vector = np.arange(0, t_max + dt, dt)\n",
    "\n",
    "fig, ax = plt.subplots(1, 1, figsize=(4, 2))\n",
    "_ = ax.plot(time_vector, voltages.T)\n",
    "_ = ax.set_xlabel(\"Time (ms)\")\n",
    "_ = ax.set_ylabel(\"Voltage (mV)\")"
   ]
  },
  {
   "cell_type": "markdown",
   "id": "431bb39d",
   "metadata": {},
   "source": [
    "### Defining a loss function"
   ]
  },
  {
   "cell_type": "markdown",
   "id": "ae247092",
   "metadata": {},
   "source": [
    "Let us define a loss function to be optimized. To this end, we first run a few initial simulation to estimate the mean and standard deviations of the output voltage. These will be used such that the cross-entropy loss function is computed on outputs that are roughly normalized."
   ]
  },
  {
   "cell_type": "code",
   "execution_count": 70,
   "id": "b57412b9",
   "metadata": {},
   "outputs": [],
   "source": [
    "traces = batched_simulate(params, inputs[:16])\n",
    "\n",
    "final_states = traces[:, 1, -1]\n",
    "final_mean = jnp.mean(final_states)\n",
    "final_std = jnp.std(final_states)"
   ]
  },
  {
   "cell_type": "markdown",
   "id": "e5c43988",
   "metadata": {},
   "source": [
    "Equipped with the mean and standard deviation, we will normalize the simulation output:"
   ]
  },
  {
   "cell_type": "code",
   "execution_count": 71,
   "id": "113146b3",
   "metadata": {},
   "outputs": [],
   "source": [
    "def predict(params, inputs):\n",
    "    traces = simulate(params, inputs)  # Shape `(batchsize, num_recordings, timepoints)`.\n",
    "    prediction = traces[:, -1]  # Use the last time point over time as prediction.\n",
    "    logits = (prediction - final_mean) / final_std  # Such that the prediction is around 0.\n",
    "    return logits\n",
    "\n",
    "batched_predict = vmap(predict, in_axes=(None, 0))"
   ]
  },
  {
   "cell_type": "markdown",
   "id": "66e7366a",
   "metadata": {},
   "source": [
    "...and then we define the cross-entropy loss based on the standardized inputs:"
   ]
  },
  {
   "cell_type": "code",
   "execution_count": 72,
   "id": "416985ab",
   "metadata": {},
   "outputs": [],
   "source": [
    "import optax\n",
    "\n",
    "def loss(opt_params, inputs, labels):\n",
    "    logits = batched_predict(params, inputs)\n",
    "    losses = optax.softmax_cross_entropy_with_integer_labels(logits, labels)\n",
    "    return jnp.mean(losses)  # Mean across elements in the batch.\n",
    "\n",
    "jitted_grad = jit(value_and_grad(loss, argnums=0))"
   ]
  },
  {
   "cell_type": "markdown",
   "id": "0e9a592c",
   "metadata": {},
   "source": [
    "We can use `JAX`'s inbuilt functions to take the gradient through the entire ODE:"
   ]
  },
  {
   "cell_type": "code",
   "execution_count": 73,
   "id": "cd994ff7",
   "metadata": {},
   "outputs": [],
   "source": [
    "jitted_grad = jit(value_and_grad(loss, argnums=0))"
   ]
  },
  {
   "cell_type": "code",
   "execution_count": 74,
   "id": "43c8c8ff",
   "metadata": {},
   "outputs": [],
   "source": [
    "value, gradient = jitted_grad(params, inputs[:4], labels[:4])"
   ]
  },
  {
   "cell_type": "markdown",
   "id": "dfce7b5c",
   "metadata": {},
   "source": [
    "### Defining parameter transformations"
   ]
  },
  {
   "cell_type": "markdown",
   "id": "7d3c1c2c",
   "metadata": {},
   "source": [
    "Before training, however, we will enforce for all parameters to be within a prespecified range (such that, e.g., conductances can not become negative)"
   ]
  },
  {
   "cell_type": "code",
   "execution_count": 75,
   "id": "efa789ce",
   "metadata": {},
   "outputs": [],
   "source": [
    "import jaxley.optimize.transforms as jt"
   ]
  },
  {
   "cell_type": "code",
   "execution_count": 76,
   "id": "0d7ddd91",
   "metadata": {},
   "outputs": [],
   "source": [
    "transform = jx.ParamTransform([\n",
    "    {\"axial_resistivity\" : jt.SigmoidTransform(50.0, 200.0)},\n",
    "    {\"Leak_gLeak\" : jt.SigmoidTransform(5e-5, 2e-4)},\n",
    "    {\"TanhRateSynapse_gS\" : jt.SigmoidTransform(-5e-2, 5e-2)},\n",
    "])"
   ]
  },
  {
   "cell_type": "markdown",
   "id": "3b3f28e1",
   "metadata": {},
   "source": [
    "We now modify the loss function to incorporate the parameter transformation into the `loss` function. Below, we summarize the functions we have defined above:"
   ]
  },
  {
   "cell_type": "code",
   "execution_count": 77,
   "id": "75e9a300",
   "metadata": {},
   "outputs": [],
   "source": [
    "def predict(params, inputs):\n",
    "    traces = simulate(params, inputs)  # Shape `(batchsize, num_recordings, timepoints)`.\n",
    "    prediction = traces[:, -1]  # Use the last time point over time as prediction.\n",
    "    logits = (prediction - final_mean) / final_std  # Such that the prediction is around 0.\n",
    "    return logits\n",
    "\n",
    "batched_predict = vmap(predict, in_axes=(None, 0))\n",
    "\n",
    "\n",
    "def loss(opt_params, inputs, labels):\n",
    "    params = transform.forward(opt_params)\n",
    "    logits = batched_predict(params, inputs)\n",
    "    losses = optax.softmax_cross_entropy_with_integer_labels(logits, labels)\n",
    "    return jnp.mean(losses)\n",
    "\n",
    "jitted_grad = jit(value_and_grad(loss, argnums=0))"
   ]
  },
  {
   "cell_type": "code",
   "execution_count": 78,
   "id": "7ea458ba",
   "metadata": {},
   "outputs": [],
   "source": [
    "value, gradient = jitted_grad(params, inputs[:4], labels[:4])"
   ]
  },
  {
   "cell_type": "markdown",
   "id": "887b1df8",
   "metadata": {},
   "source": [
    "### Training\n",
    "\n",
    "We will use the ADAM optimizer from the [optax library](https://optax.readthedocs.io/en/latest/) to optimize the free parameters (you have to install the package with `pip install optax` first):"
   ]
  },
  {
   "cell_type": "code",
   "execution_count": 79,
   "id": "ed38b3ce",
   "metadata": {},
   "outputs": [],
   "source": [
    "opt_params = transform.inverse(params)\n",
    "optimizer = optax.adam(learning_rate=0.001)\n",
    "opt_state = optimizer.init(opt_params)"
   ]
  },
  {
   "cell_type": "markdown",
   "id": "606ccc60",
   "metadata": {},
   "source": [
    "### Writing a dataloader"
   ]
  },
  {
   "cell_type": "markdown",
   "id": "430d389a",
   "metadata": {},
   "source": [
    "Below, we define a very simple dataloader. You could also rely on PyTorch or Tensorflow for the dataloader."
   ]
  },
  {
   "cell_type": "code",
   "execution_count": 80,
   "id": "0159597d",
   "metadata": {},
   "outputs": [],
   "source": [
    "class Dataset:\n",
    "    def __init__(self, inputs: np.ndarray, labels: np.ndarray):\n",
    "        \"\"\"Simple Dataloader.\n",
    "        \n",
    "        Args:\n",
    "            inputs: Array of shape (num_samples, num_dim)\n",
    "            labels: Array of shape (num_samples,)\n",
    "        \"\"\"\n",
    "        assert len(inputs) == len(labels), \"Inputs and labels must have same length\"\n",
    "        self.inputs = inputs\n",
    "        self.labels = labels\n",
    "        self.num_samples = len(inputs)\n",
    "        self._rng_state = None\n",
    "        self.batch_size = 1\n",
    "    \n",
    "    def shuffle(self, seed=None):\n",
    "        \"\"\"Shuffle the dataset in-place\"\"\"\n",
    "        self._rng_state = np.random.get_state()[1][0] if seed is None else seed\n",
    "        np.random.seed(self._rng_state)\n",
    "        indices = np.random.permutation(self.num_samples)\n",
    "        self.inputs = self.inputs[indices]\n",
    "        self.labels = self.labels[indices]\n",
    "        return self\n",
    "    \n",
    "    def batch(self, batch_size):\n",
    "        \"\"\"Create batches of the data\"\"\"\n",
    "        self.batch_size = batch_size\n",
    "        return self\n",
    "\n",
    "    def __iter__(self):\n",
    "        self.shuffle(seed=self._rng_state)\n",
    "        for start in range(0, self.num_samples, self.batch_size):\n",
    "            end = min(start + self.batch_size, self.num_samples)\n",
    "            yield self.inputs[start:end], self.labels[start:end]\n",
    "        self._rng_state += 1"
   ]
  },
  {
   "cell_type": "markdown",
   "id": "ba3532c9",
   "metadata": {},
   "source": [
    "### Training loop"
   ]
  },
  {
   "cell_type": "code",
   "execution_count": 81,
   "id": "71f11023",
   "metadata": {},
   "outputs": [
    {
     "name": "stdout",
     "output_type": "stream",
     "text": [
      "epoch 0, loss 16.414097840372516\n",
      "epoch 10, loss 9.24782490466024\n",
      "epoch 20, loss 7.221655710638678\n",
      "epoch 30, loss 6.305366893415699\n",
      "epoch 40, loss 5.743080618051942\n",
      "epoch 50, loss 5.340695451260663\n",
      "epoch 60, loss 5.012521415053465\n",
      "epoch 70, loss 4.753636294166066\n",
      "epoch 80, loss 4.536649159492042\n",
      "epoch 90, loss 4.34956900913428\n"
     ]
    }
   ],
   "source": [
    "batch_size = 4\n",
    "dataloader = Dataset(inputs, labels)\n",
    "dataloader = dataloader.shuffle(seed=0).batch(batch_size)\n",
    "\n",
    "for epoch in range(100):\n",
    "    epoch_loss = 0.0\n",
    "\n",
    "    for batch_ind, batch in enumerate(dataloader):\n",
    "        current_batch, label_batch = batch\n",
    "        loss_val, gradient = jitted_grad(opt_params, current_batch, label_batch)\n",
    "        updates, opt_state = optimizer.update(gradient, opt_state)\n",
    "        opt_params = optax.apply_updates(opt_params, updates)\n",
    "        epoch_loss += loss_val\n",
    "    \n",
    "    if epoch % 10 == 0:\n",
    "        print(f\"epoch {epoch}, loss {epoch_loss}\")\n",
    "\n",
    "final_params = transform.forward(opt_params)"
   ]
  },
  {
   "cell_type": "markdown",
   "id": "f45241a2",
   "metadata": {},
   "source": [
    "### Evaluation"
   ]
  },
  {
   "cell_type": "markdown",
   "id": "e49d0969",
   "metadata": {},
   "source": [
    "Once the training has finished, we can evaluate the trained network. To this end, we will evaluate the network on 64 inputs and check if they are being classified correctly."
   ]
  },
  {
   "cell_type": "code",
   "execution_count": 82,
   "id": "9cdf039d",
   "metadata": {},
   "outputs": [],
   "source": [
    "ntest = 64\n",
    "logits = batched_predict(final_params, inputs[:ntest])"
   ]
  },
  {
   "cell_type": "code",
   "execution_count": 83,
   "id": "ede4a961",
   "metadata": {},
   "outputs": [
    {
     "name": "stdout",
     "output_type": "stream",
     "text": [
      "Accuracy on a subset of data: 0.9375\n"
     ]
    }
   ],
   "source": [
    "log_probs = -optax.softmax_cross_entropy_with_integer_labels(logits, labels[:ntest])\n",
    "accuracy = jnp.mean(jnp.exp(log_probs) > 0.5)\n",
    "print(f\"Accuracy on a subset of data: {accuracy}\")"
   ]
  },
  {
   "cell_type": "code",
   "execution_count": 84,
   "id": "10e3c3f5",
   "metadata": {},
   "outputs": [],
   "source": [
    "predictions = logits[:, 0] > logits[:, 1]"
   ]
  },
  {
   "cell_type": "code",
   "execution_count": 85,
   "id": "76a4a00e",
   "metadata": {},
   "outputs": [
    {
     "data": {
      "image/png": "[encoded data removed]",
      "text/plain": [
       "<Figure size 300x200 with 1 Axes>"
      ]
     },
     "metadata": {},
     "output_type": "display_data"
    }
   ],
   "source": [
    "test_labels = predictions[:ntest].astype(bool)\n",
    "test_inputs = inputs[:ntest]\n",
    "fig, ax = plt.subplots(1, 1, figsize=(3, 2))\n",
    "_ = ax.scatter(test_inputs[test_labels, 0], test_inputs[test_labels, 1])\n",
    "_ = ax.scatter(test_inputs[~test_labels, 0], test_inputs[~test_labels, 1])"
   ]
  },
  {
   "cell_type": "markdown",
   "id": "3c5a0336",
   "metadata": {},
   "source": [
    "Indeed, the network successfully classifies the patterns."
   ]
  },
  {
   "cell_type": "markdown",
   "id": "41734bef",
   "metadata": {},
   "source": [
    "# Summary"
   ]
  },
  {
   "cell_type": "markdown",
   "id": "10a7d51d",
   "metadata": {},
   "source": [
    "In the first tutorial, we introduced Jaxley and how to build biophysical models. More (and very similar) information can be found in our tutorials online:\n",
    "- [API basics](https://github.com/jaxleyverse/jaxley/blob/main/docs/tutorials/00_jaxley_api.ipynb)\n",
    "- [Single-cells with morphology](https://github.com/jaxleyverse/jaxley/blob/main/docs/tutorials/01_morph_neurons.ipynb)\n",
    "- [Small networks](https://github.com/jaxleyverse/jaxley/blob/main/docs/tutorials/02_small_network.ipynb)\n",
    "- [Speeding up simulations with jit and vmap](https://github.com/jaxleyverse/jaxley/blob/main/docs/tutorials/04_jit_and_vmap.ipynb)\n",
    "- [Channel and synapse models](https://github.com/jaxleyverse/jaxley/blob/main/docs/tutorials/05_channel_and_synapse_models.ipynb)\n",
    "- [Grouping modules](https://github.com/jaxleyverse/jaxley/blob/main/docs/tutorials/06_groups.ipynb)\n",
    "\n",
    "In the second tutorial, we focused on optimization of biophysical models with Jaxley. This section closely followed our [gradient descent tutorial](https://github.com/jaxleyverse/jaxley/blob/main/docs/tutorials/07_gradient_descent.ipynb) online.\n",
    " \n",
    "If you want to learn more, check out our [Advanced Tutorials](https://jaxley.readthedocs.io/en/latest/advanced_tutorials.html), have a look at our [paper](https://www.biorxiv.org/content/10.1101/2024.08.21.608979v1.abstract), and/or come visit one of our posters at CNS:\n",
    "- Poster session 1 P065: Jaxley: Differentiable simulation enables large-scale training of detailed biophysical models of neural dynamics\n",
    "- Poster session 2 P125: Modeling the biophysics of computation in the outer plexiform layer of the mouse retina"
   ]
  }
 ],
 "metadata": {
  "kernelspec": {
   "display_name": "Python 3 (ipykernel)",
   "language": "python",
   "name": "python3"
  },
  "language_info": {
   "codemirror_mode": {
    "name": "ipython",
    "version": 3
   },
   "file_extension": ".py",
   "mimetype": "text/x-python",
   "name": "python",
   "nbconvert_exporter": "python",
   "pygments_lexer": "ipython3",
   "version": "3.12.4"
  }
 },
 "nbformat": 4,
 "nbformat_minor": 5
}
